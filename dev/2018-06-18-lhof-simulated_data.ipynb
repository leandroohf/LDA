{
 "cells": [
  {
   "cell_type": "markdown",
   "metadata": {},
   "source": [
    "# Linear Discriminant Analysis\n",
    "\n"
   ]
  },
  {
   "attachments": {},
   "cell_type": "markdown",
   "metadata": {},
   "source": [
    "# Introduction\n",
    "\n",
    "**WIP**\n",
    "\n",
    "Linear Discriminant Analysis (LDA) is most commonly used as dimensionality reduction technique in the pre-processing step for pattern-classification and machine learning applications. But can also be use as classifier. LDA is supervised algorithm (requires labeled data). The terms Fisher's linear discriminant, LDA and Quadratic Linear Discriminant QDA are often used interchangeably, but there are differences (See  [this](https://en.wikipedia.org/wiki/Linear_discriminant_analysis) and [this](https://en.wikipedia.org/wiki/Quadratic_classifier#Quadratic_discriminant_analysis) for better disambiguation):\n",
    "\n",
    "* QDA and LDA are classifier technique. QDA is more general than LDA. The main assumptions are:    \n",
    "\n",
    "    * The data are normally distributed. Multivariate Gaussians ($ N( x|  \\mu, \\Sigma) = \\frac{1}{(2\\pi)^{d/2}\\sqrt{\\Sigma}} \\exp{\\left[\\frac{1}{2}( x-  \\mu)\\Sigma^{-1}( x-  \\mu)^t\\right]}$) are used to score a new unlabeled data (Both QDA and LDA).   \n",
    "        \n",
    "        - LDA assume all classes follows the same distribution ( **homosdacity** ), So all covariance matrix are identical.  \n",
    "\n",
    "        - LDA assumes no multicollinearity between features. **Multicollinearity** can degraded prediction performance   \n",
    "    * The observations are independent: features are assumed to be randomly sampled (Both QDA and LDA).    \n",
    "\n",
    "\n",
    "LDA has been empirical verified to be relatively robust to slight violations of these assumptions. However, LDA is quite sensitive to outliers and the size of the smallest group must be larger (NICE to HAVE) than the number of predictor variables\n",
    "\n",
    "* Fishers LDA is dimension reduction technique.  It does not make assumption such as normality.   \n",
    "\n",
    "In this notebook we mainly will be talking about Fishers LDA and later will discuss about QDA and LDA as predictors. We normally use the word LDA to refers to Fishers LDA. For simplicity, the practical aspect of Fishers LDA will be explained utilzing a 2 class problem and bi-dimensional data.\n",
    "\n",
    "## What is LDA\n",
    "\n",
    "In the figure below an labeled dataset contained 2 classes are shown. LDA reduces the dimension of the data by defining a new set of axes ($y$) with lower dimension where the 2 classes are still well separated.\n",
    "\n",
    "<img src=\"images/lda_axes_0.png\" width=\"700\"/>\n",
    "\n",
    "\n",
    "###  Small discussion about how LDA works (Can be skipped)\n",
    "\n",
    "The of goal of (LDA) is to find best new set of axis that maximizes the distance between the means of the classes and also minimize overlap between the projected classes (confusion region). \n",
    "\n",
    "The figures below describe LDA being applied to a bidimensional dataset containing 2 classes. The dataset is a set of $n$ d-dimensional samples $X = \\{x_1, x_2, ..., x_n\\}$ already labeled in 2 groups: \n",
    "$X^{(k)} = \\{ x_1^{(k)},  x_2^{(k)}, ..., x_{n_k}^{(k)} \\}$ of size $n_k$ for $k = 1,2$ where $x_i^{(k)}$ is a vector of dimension $d$.\n",
    "\n",
    "In the figures can be seen the new proposed set of axes. The left figure, only the distance between the classes were maximized. As a end result there is overlapping region that can noticed in the histogram. The right figure is the LDA's results when not only the distance betwen the classes are maximized but also the overlapping region is minimized\n",
    "\n",
    "TODO: Try to find a better images or add extras axes in the figure\n",
    "\n",
    "<img src=\"images/lda_0.png\" width=\"700\"/>\n",
    "\n",
    "In order to do that, Fisher proposed to maximize the ratio \"scattter between classes/scatter within classes\" that is expressed by the Cost function:\n",
    "\n",
    "$\n",
    "J(w) = \\frac{w^{\\mathsf{t}}S_{b} w}{ w^{\\mathsf{t}}S_{w}  w}\n",
    "$\n",
    "\n",
    "where:\n",
    "\n",
    "* $S_{b}=\\sum_1^2( m_2 −  m)( m_2 −  m)^t$ :  between-class covariance/satter matrix. (Can be understood as measure of between class spread)\n",
    "    \n",
    "* $S_{w} =  S_1 + S_2$ : within-class covariance/scatter matrices. (Can be understood as measure of within class spread or the sum of the covaraince matrix) \n",
    "\n",
    "$ m_1$ and $ m_2$ are the mean of each class. $S_1$ and $S_2$ are the covariance matrix of each class. \n",
    "\n",
    "$\n",
    "S_k = \\sum_{i\\in X^{(k)}} ( x_i^{(k)} -  m_k) ( x_i^{(k)} - m_k)^t  \n",
    "$\n",
    "\n",
    "The total scatter is given by the covariance matrix and should be *conserved* in the new set of axes:\n",
    "\n",
    "$\n",
    "S_t = \\sum_{j=1}^{n}(x_j - m)(x_j - m)^t \\equiv \\sum_{k=1}^2 \\sum_{i=1}^{n_k}(x_i^{(k)} - m)(x_i^{(k)} - m)^t = S_W + S_B\n",
    "$\n",
    "\n",
    "$\n",
    "n = \\sum_{k=1}^2 n_k\n",
    "$\n",
    "\n",
    "Can be proved in  [here](refs/ea71fbef3b55b69e142897fadf43b3269463.pdf) and [here](refs/Dimensionality2.pdf) that maximize $J( w)$ is equivalent to find the solution of the eigenvalue problem for the matrix:\n",
    "\n",
    "$\n",
    "A =  S_{w}^{-1} S_b\n",
    "$\n",
    "\n",
    "$\n",
    "A{v} =  \\lambda {v}\n",
    "$\n",
    "\n",
    "where:\n",
    "* $v$ is the eigenvector and define the new sets of axes\n",
    "* $\\lambda$ is the eigenvalue\n",
    "\n",
    "\n",
    "### Principal Component Analysis vs. Linear Discriminant Analysis\n",
    "\n",
    "\"\n",
    "Both Linear Discriminant Analysis (LDA) and Principal Component Analysis (PCA) are linear transformation techniques that are commonly used for dimensionality reduction. PCA can be described as an “unsupervised” algorithm, since it “ignores” class labels and its goal is to find the directions (the so-called principal components) that maximize the variance in a dataset. In contrast to PCA, LDA is “supervised” and computes the directions (“linear discriminants”) that will represent the axes that that maximize the separation between multiple classes.\n",
    "\"\n",
    "\n",
    "<img src=\"images/lda_1.png\" width=\"700\"/>\n",
    "\n",
    "### LDA or QDA as predictor\n",
    "\n",
    "\n",
    "The assumption of LDA and Quadradict discriminant analsys is that each class can be modelled by multivariate gaussian.\n",
    "\n",
    "$ \n",
    "N( x|  \\mu_k, \\Sigma_k) = \\frac{1}{(2\\pi)^{d/2}\\sqrt{\\Sigma_k}} \\exp{\\left[\\frac{1}{2}( x-  \\mu_k)\\Sigma_k^{-1}( x-  \\mu_k)^t\\right]}\n",
    "$\n",
    "\n",
    "The parameters of the Gaussian of eac classe can be estimated by using the mean and covariance of each group $X^(k)$.\n",
    "\n",
    "for QDA\n",
    "$\n",
    "\\boldsymbol\\Sigma_k = \\begin{bmatrix}\n",
    " \\sigma^2(x_1) & cov(x_2,x_1) \\\\\n",
    " cov(x_1,x_2) &  \\sigma^2(x_2)\n",
    "\\end{bmatrix}\n",
    "$ or for LDA $\n",
    "\\boldsymbol\\Sigma_k = \\begin{bmatrix}\n",
    " \\sigma^2(x_1) & 0 \\\\\n",
    " 0 &  \\sigma^2(x_2)\n",
    "\\end{bmatrix}\n",
    "$.\n",
    "\n",
    "where the index $i$ denotes the dimension of $x$ and $x \\in X^{(k)}$. The figure bellow ilustrate the procedure of label a new data point $x_{new}$. \n",
    "\n",
    "<img src=\"images/lda_predictor.png\" width=\"400\"/>\n",
    "\n",
    "$x_{new}$ will be labeled comparing the probabilities $N( x_{new}|  \\mu_k, \\Sigma_k)$:\n",
    "\n",
    "* 1 if $N( x_{new}|  \\mu_1, \\Sigma_1) > N( x_{new}|  \\mu_2, \\Sigma_2) $\n",
    "* 2 otherwise\n",
    "\n",
    "### Summarizing the LDA approach in 5 steps\n",
    "\n",
    "\n",
    "1. Compute the d-dimensional mean vectors for the different classes from the dataset.\n",
    "2. Compute the scatter matrices \n",
    "    * between-class: measure of dispersion between groups or classes\n",
    "    * within-class scatter matrix: measure of dispersion in the class or group\n",
    "3. Compute the eigenvectors $(\\pmb e_1, \\pmb e_2, ..., \\pmb e_d)$ and corresponding eigenvalues $(\\lambda_1, \\lambda_2,..., \\lambda_d)$ for the scatter matrices.\n",
    "4. Sort the eigenvectors by eigenvalues an keep the k eigenvectors with the k-largest eigenvalues\n",
    "5. Use the eigenvector matrix to transform the samples onto the new subspace. $Y = X*V$\n",
    "    * $Y$ is nxk matrix\n",
    "    * $X$ is nxd dimensional matrix. The input data\n",
    "    * $V$ is dxk dimensional scatter matrix"
   ]
  },
  {
   "cell_type": "code",
   "execution_count": 230,
   "metadata": {},
   "outputs": [],
   "source": [
    "import numpy as np\n",
    "import pandas as pd\n",
    "import random as rand\n",
    "import matplotlib.pyplot as plt\n",
    "\n",
    "np.set_printoptions(precision=4)\n",
    "\n",
    "from sklearn import datasets\n",
    "from sklearn.discriminant_analysis import LinearDiscriminantAnalysis\n",
    "\n",
    "from IPython.core.interactiveshell import InteractiveShell\n",
    "InteractiveShell.ast_node_interactivity = \"all\"\n",
    "\n",
    "%matplotlib inline"
   ]
  },
  {
   "cell_type": "code",
   "execution_count": 171,
   "metadata": {},
   "outputs": [
    {
     "data": {
      "text/html": [
       "<div>\n",
       "<style scoped>\n",
       "    .dataframe tbody tr th:only-of-type {\n",
       "        vertical-align: middle;\n",
       "    }\n",
       "\n",
       "    .dataframe tbody tr th {\n",
       "        vertical-align: top;\n",
       "    }\n",
       "\n",
       "    .dataframe thead th {\n",
       "        text-align: right;\n",
       "    }\n",
       "</style>\n",
       "<table border=\"1\" class=\"dataframe\">\n",
       "  <thead>\n",
       "    <tr style=\"text-align: right;\">\n",
       "      <th></th>\n",
       "      <th>label</th>\n",
       "      <th>x</th>\n",
       "      <th>y</th>\n",
       "    </tr>\n",
       "  </thead>\n",
       "  <tbody>\n",
       "    <tr>\n",
       "      <th>110</th>\n",
       "      <td>2</td>\n",
       "      <td>6.051840</td>\n",
       "      <td>0.585850</td>\n",
       "    </tr>\n",
       "    <tr>\n",
       "      <th>185</th>\n",
       "      <td>2</td>\n",
       "      <td>6.729341</td>\n",
       "      <td>0.613307</td>\n",
       "    </tr>\n",
       "    <tr>\n",
       "      <th>53</th>\n",
       "      <td>1</td>\n",
       "      <td>-0.404294</td>\n",
       "      <td>2.704183</td>\n",
       "    </tr>\n",
       "    <tr>\n",
       "      <th>84</th>\n",
       "      <td>2</td>\n",
       "      <td>1.038911</td>\n",
       "      <td>0.495892</td>\n",
       "    </tr>\n",
       "    <tr>\n",
       "      <th>106</th>\n",
       "      <td>2</td>\n",
       "      <td>2.610743</td>\n",
       "      <td>0.781934</td>\n",
       "    </tr>\n",
       "  </tbody>\n",
       "</table>\n",
       "</div>"
      ],
      "text/plain": [
       "     label         x         y\n",
       "110      2  6.051840  0.585850\n",
       "185      2  6.729341  0.613307\n",
       "53       1 -0.404294  2.704183\n",
       "84       2  1.038911  0.495892\n",
       "106      2  2.610743  0.781934"
      ]
     },
     "execution_count": 171,
     "metadata": {},
     "output_type": "execute_result"
    },
    {
     "data": {
      "text/plain": [
       "<matplotlib.collections.PathCollection at 0x1a27a63940>"
      ]
     },
     "execution_count": 171,
     "metadata": {},
     "output_type": "execute_result"
    },
    {
     "data": {
      "image/png": "[encoded data removed]",
      "text/plain": [
       "<matplotlib.figure.Figure at 0x1a272b5cf8>"
      ]
     },
     "metadata": {},
     "output_type": "display_data"
    }
   ],
   "source": [
    "### Setup\n",
    "# set random seed\n",
    "rand.seed(2018)\n",
    "\n",
    "# 2 clusters\n",
    "# not that both covariance matrices are diagonal\n",
    "mu1 = [0.0, 3.5]\n",
    "Sigma1 = [ [2.0, 1.1], [1.1, 1.0] ]\n",
    "\n",
    "mu2 = [5.0, 0.0]\n",
    "Sigma2 = [ [4.0, 0.50], [0.50, 1.0] ]\n",
    "\n",
    "# generate samples\n",
    "N1 = 75\n",
    "N2 = 150\n",
    "x1, y1 = np.random.multivariate_normal(mu1, Sigma1, N1).T\n",
    "x2, y2 = np.random.multivariate_normal(mu2, Sigma2, N2).T\n",
    "\n",
    "xs = np.concatenate((x1, x2))\n",
    "ys = np.concatenate((y1, y2))\n",
    "labels = ([1] * N1) + ([2] * N2)\n",
    "\n",
    "data = {'x': xs, 'y': ys, 'label': labels}\n",
    "df = pd.DataFrame(data=data)\n",
    "\n",
    "# inspect the data\n",
    "df.sample(5).head(5)\n",
    "\n",
    "fig = plt.figure()\n",
    "plt.scatter(data['x'], data['y'], 24, c=data['label'])"
   ]
  },
  {
   "cell_type": "markdown",
   "metadata": {},
   "source": [
    "*TODO* <font color='red'>Move data generation to another notebook later</font>\n",
    "\n",
    "does need to be here"
   ]
  },
  {
   "cell_type": "code",
   "execution_count": 69,
   "metadata": {
    "code_folding": [
     2
    ]
   },
   "outputs": [],
   "source": [
    "from matplotlib.patches import Ellipse\n",
    "\n",
    "def draw_ellipse(position, covariance, ax=None, **kwargs):\n",
    "    \"\"\"Draw an ellipse with a given position and covariance\"\"\"\n",
    "    ax = ax or plt.gca()\n",
    "    \n",
    "    # Convert covariance to principal axes\n",
    "    if covariance.shape == (2, 2):\n",
    "        U, s, Vt = np.linalg.svd(covariance)\n",
    "        angle = np.degrees(np.arctan2(U[1, 0], U[0, 0]))\n",
    "        width, height = 2 * np.sqrt(s)\n",
    "    else:\n",
    "        angle = 0\n",
    "        width, height = 2 * np.sqrt(covariance)\n",
    "    \n",
    "    # Draw the Ellipse\n",
    "    for nsig in range(1, 4):\n",
    "        ax.add_patch(Ellipse(position, nsig * width, nsig * height,\n",
    "                             angle, **kwargs))\n",
    "\n",
    "def plot_gmm(gmm, X, label=[], ax=None):\n",
    "    ax = ax or plt.gca()\n",
    "    \n",
    "    if len(label) > 0:\n",
    "        labels = label\n",
    "        ax.scatter(X[:, 0], X[:, 1], c=labels, s=40, cmap='viridis', zorder=2)\n",
    "    else:\n",
    "        ax.scatter(X[:, 0], X[:, 1], s=40, zorder=2)\n",
    "    ax.axis('equal')\n",
    "    \n",
    "    ws = [value for g in gmm for (param, value) in g.items() if param == 'w']\n",
    "    w_factor = 0.2 /np.max(ws)\n",
    "    for param in gmm:\n",
    "        pos = param['mu']\n",
    "        covar = param['Covar']\n",
    "        w = param['w']\n",
    "\n",
    "        draw_ellipse(pos, covar, alpha=w * w_factor)"
   ]
  },
  {
   "cell_type": "code",
   "execution_count": 172,
   "metadata": {
    "code_folding": []
   },
   "outputs": [
    {
     "data": {
      "text/plain": [
       "<matplotlib.collections.PathCollection at 0x1a27afcac8>"
      ]
     },
     "execution_count": 172,
     "metadata": {},
     "output_type": "execute_result"
    },
    {
     "data": {
      "text/plain": [
       "Text(4.2,3.2,'new point')"
      ]
     },
     "execution_count": 172,
     "metadata": {},
     "output_type": "execute_result"
    },
    {
     "data": {
      "image/png": "[encoded data removed]",
      "text/plain": [
       "<matplotlib.figure.Figure at 0x1a27295a58>"
      ]
     },
     "metadata": {},
     "output_type": "display_data"
    }
   ],
   "source": [
    "labels = df.label\n",
    "X = df[['x','y']].values\n",
    "\n",
    "initial_guess = [{ 'mu': np.asarray(mu1),\n",
    "          'Covar': np.asarray(Sigma1),\n",
    "          'w': 0.5 },  \n",
    "          {'mu': np.asarray(mu2),\n",
    "          'Covar': np.asarray(Sigma2),\n",
    "          'w': 0.5}]\n",
    "\n",
    "#plot_gmm(initial_guess, X,label=labels)\n",
    "\n",
    "ax = plt.gca()\n",
    "plot_gmm(initial_guess, X, label=labels, ax=ax)\n",
    "\n",
    "ax.scatter(4, 3, s=40, cmap='viridis', zorder=2)\n",
    "ax.text(4.2, 3.2, 'new point')"
   ]
  },
  {
   "cell_type": "markdown",
   "metadata": {},
   "source": [
    "## Read the data\n",
    "\n",
    "For verification of the formulas cited in the section above, we are going to compute all matrix: $S_w$, $\\hat{\\Sigma_1}$, $\\hat{\\Sigma_2}$,  $S_b$ and $S_t$ and compare with the global covariance matrix of the data (the spread of the data conserves) $\\hat{\\Sigma}$. Also because we generated the data using two multivariate Gaussians, we know the true values of the parameters $\\Sigma_1$ and $\\Sigma_2$ and we can compare with our estimations of this parameters.\n",
    "\n",
    "1. read data\n",
    "2. Compute global mean and\n",
    "3. Global covariance matrix\n",
    "    * Using the formula\n",
    "    * Using numpy.cov"
   ]
  },
  {
   "cell_type": "code",
   "execution_count": 261,
   "metadata": {},
   "outputs": [
    {
     "data": {
      "text/html": [
       "<div>\n",
       "<style scoped>\n",
       "    .dataframe tbody tr th:only-of-type {\n",
       "        vertical-align: middle;\n",
       "    }\n",
       "\n",
       "    .dataframe tbody tr th {\n",
       "        vertical-align: top;\n",
       "    }\n",
       "\n",
       "    .dataframe thead th {\n",
       "        text-align: right;\n",
       "    }\n",
       "</style>\n",
       "<table border=\"1\" class=\"dataframe\">\n",
       "  <thead>\n",
       "    <tr style=\"text-align: right;\">\n",
       "      <th></th>\n",
       "      <th>label</th>\n",
       "      <th>x</th>\n",
       "      <th>y</th>\n",
       "    </tr>\n",
       "  </thead>\n",
       "  <tbody>\n",
       "    <tr>\n",
       "      <th>123</th>\n",
       "      <td>2</td>\n",
       "      <td>4.287628</td>\n",
       "      <td>-0.862027</td>\n",
       "    </tr>\n",
       "    <tr>\n",
       "      <th>152</th>\n",
       "      <td>2</td>\n",
       "      <td>6.888416</td>\n",
       "      <td>-1.333677</td>\n",
       "    </tr>\n",
       "    <tr>\n",
       "      <th>168</th>\n",
       "      <td>2</td>\n",
       "      <td>5.371030</td>\n",
       "      <td>0.057445</td>\n",
       "    </tr>\n",
       "    <tr>\n",
       "      <th>124</th>\n",
       "      <td>2</td>\n",
       "      <td>2.849229</td>\n",
       "      <td>-0.895831</td>\n",
       "    </tr>\n",
       "    <tr>\n",
       "      <th>158</th>\n",
       "      <td>2</td>\n",
       "      <td>4.044115</td>\n",
       "      <td>-0.296504</td>\n",
       "    </tr>\n",
       "  </tbody>\n",
       "</table>\n",
       "</div>"
      ],
      "text/plain": [
       "     label         x         y\n",
       "123      2  4.287628 -0.862027\n",
       "152      2  6.888416 -1.333677\n",
       "168      2  5.371030  0.057445\n",
       "124      2  2.849229 -0.895831\n",
       "158      2  4.044115 -0.296504"
      ]
     },
     "execution_count": 261,
     "metadata": {},
     "output_type": "execute_result"
    },
    {
     "data": {
      "text/plain": [
       "(-0.5565427652633363, 1.0654394831823775e-19)"
      ]
     },
     "execution_count": 261,
     "metadata": {},
     "output_type": "execute_result"
    },
    {
     "name": "stdout",
     "output_type": "stream",
     "text": [
      "total variance: [7.9038 3.7191]\n"
     ]
    },
    {
     "data": {
      "text/plain": [
       "array([3.2408, 1.1686])"
      ]
     },
     "execution_count": 261,
     "metadata": {},
     "output_type": "execute_result"
    },
    {
     "data": {
      "text/plain": [
       "array([[ 7.9391, -3.0309],\n",
       "       [-3.0309,  3.7357]])"
      ]
     },
     "execution_count": 261,
     "metadata": {},
     "output_type": "execute_result"
    }
   ],
   "source": [
    "#df = pd.read_csv('bi_dimensional_n_bi_modal_data.csv', index_col=False)\n",
    "\n",
    "df.sample(5).head(5)\n",
    "\n",
    "X = df[['x','y']].values\n",
    "\n",
    "total_variance = np.var(X,axis=0)\n",
    "from scipy.stats.stats import pearsonr \n",
    "pearsonr(X[:,0],X[:,1])\n",
    "\n",
    "m = np.mean(X,axis=0)\n",
    "S = np.cov(X[:,0],X[:,1])\n",
    "\n",
    "print('total variance: {}'.format(total_variance))\n",
    "m\n",
    "S"
   ]
  },
  {
   "cell_type": "markdown",
   "metadata": {},
   "source": [
    "### Estimating the covariances Matrix\n",
    "\n",
    "\n",
    "Computing $S_k$, $\\hat{\\Sigma_k}$ and comparing with the true values $\\Sigma_k$\n"
   ]
  },
  {
   "cell_type": "code",
   "execution_count": 262,
   "metadata": {},
   "outputs": [
    {
     "name": "stdout",
     "output_type": "stream",
     "text": [
      "Class: 1\n",
      " number of samples in first group N1: 75\n",
      "\n",
      " Spread matrix S1:\n"
     ]
    },
    {
     "data": {
      "text/plain": [
       "array([[113.6566,  68.6754],\n",
       "       [ 68.6754,  73.8348]])"
      ]
     },
     "execution_count": 262,
     "metadata": {},
     "output_type": "execute_result"
    },
    {
     "name": "stdout",
     "output_type": "stream",
     "text": [
      " Covariance matrix estimation Sigma_1: \n"
     ]
    },
    {
     "data": {
      "text/plain": [
       "array([[1.5359, 0.928 ],\n",
       "       [0.928 , 0.9978]])"
      ]
     },
     "execution_count": 262,
     "metadata": {},
     "output_type": "execute_result"
    },
    {
     "name": "stdout",
     "output_type": "stream",
     "text": [
      " Covariance matrix expected Sigma_1:\n"
     ]
    },
    {
     "data": {
      "text/plain": [
       "[[2.0, 1.1], [1.1, 1.0]]"
      ]
     },
     "execution_count": 262,
     "metadata": {},
     "output_type": "execute_result"
    },
    {
     "name": "stdout",
     "output_type": "stream",
     "text": [
      "Class: 2\n",
      " number of samples in first group N2: 150\n",
      "\n",
      " Spread matrix S2:\n"
     ]
    },
    {
     "data": {
      "text/plain": [
       "array([[589.6625,  64.5192],\n",
       "       [ 64.5192, 149.4735]])"
      ]
     },
     "execution_count": 262,
     "metadata": {},
     "output_type": "execute_result"
    },
    {
     "name": "stdout",
     "output_type": "stream",
     "text": [
      " Covariance matrix estimation Sigma_2:\n"
     ]
    },
    {
     "data": {
      "text/plain": [
       "array([[3.9575, 0.433 ],\n",
       "       [0.433 , 1.0032]])"
      ]
     },
     "execution_count": 262,
     "metadata": {},
     "output_type": "execute_result"
    },
    {
     "name": "stdout",
     "output_type": "stream",
     "text": [
      " Covariance matrix expected Sigma_2:\n"
     ]
    },
    {
     "data": {
      "text/plain": [
       "[[4.0, 0.5], [0.5, 1.0]]"
      ]
     },
     "execution_count": 262,
     "metadata": {},
     "output_type": "execute_result"
    }
   ],
   "source": [
    "X1 = df.loc[df.label ==1,['x','y']].values\n",
    "m1 = np.mean(X1,axis=0)\n",
    "\n",
    "u1 = np.add(X1,-m1).transpose()\n",
    "N1 = X1.shape[0] \n",
    "\n",
    "Sigma1_hat = np.matmul(u1,u1.transpose())*1.0/(N1- 1)\n",
    "S1 = Sigma1_hat*(N1 - 1)\n",
    "\n",
    "print('Class: 1')\n",
    "print(' number of samples in first group N1: {}\\n'.format(N1))\n",
    "print(' Spread matrix S1:')\n",
    "S1\n",
    "print(' Covariance matrix estimation Sigma_1: ')\n",
    "Sigma1_hat\n",
    "print(' Covariance matrix expected Sigma_1:')\n",
    "Sigma1\n",
    "\n",
    "X2 = df.loc[df.label == 2,['x','y']].values\n",
    "N2 = X2.shape[0]\n",
    "\n",
    "m2 = np.mean(X2,axis=0)\n",
    "u2 = np.add(X2,-m2).transpose()\n",
    "Sigma2_hat = np.matmul(u2,u2.transpose())*1.0/(N2 - 1)\n",
    "S2 = Sigma2_hat*(N2 - 1)\n",
    "\n",
    "print('Class: 2')\n",
    "print(' number of samples in first group N2: {}\\n'.format(N2))\n",
    "print(' Spread matrix S2:')\n",
    "S2\n",
    "print(' Covariance matrix estimation Sigma_2:')\n",
    "Sigma2_hat\n",
    "print(' Covariance matrix expected Sigma_2:')\n",
    "Sigma2"
   ]
  },
  {
   "cell_type": "markdown",
   "metadata": {},
   "source": [
    "the rough 10% difference is due to the small sample size of each group\n",
    "\n",
    "### Computing between and within groups spread matrix\n"
   ]
  },
  {
   "cell_type": "code",
   "execution_count": 263,
   "metadata": {},
   "outputs": [
    {
     "name": "stdout",
     "output_type": "stream",
     "text": [
      " Spread matrix Sw:\n"
     ]
    },
    {
     "data": {
      "text/plain": [
       "array([[703.319 , 133.1946],\n",
       "       [133.1946, 223.3083]])"
      ]
     },
     "execution_count": 263,
     "metadata": {},
     "output_type": "execute_result"
    },
    {
     "name": "stdout",
     "output_type": "stream",
     "text": [
      " Spread matrix Sb:\n"
     ]
    },
    {
     "data": {
      "text/plain": [
       "array([[1075.0417, -812.1184],\n",
       "       [-812.1184,  613.4983]])"
      ]
     },
     "execution_count": 263,
     "metadata": {},
     "output_type": "execute_result"
    },
    {
     "name": "stdout",
     "output_type": "stream",
     "text": [
      " Total spread matrix S_hat:\n"
     ]
    },
    {
     "data": {
      "text/plain": [
       "array([[1778.3608, -678.9238],\n",
       "       [-678.9238,  836.8066]])"
      ]
     },
     "execution_count": 263,
     "metadata": {},
     "output_type": "execute_result"
    },
    {
     "name": "stdout",
     "output_type": "stream",
     "text": [
      " Global covariance matrix Sigma_hat:\n"
     ]
    },
    {
     "data": {
      "text/plain": [
       "array([[ 7.9391, -3.0309],\n",
       "       [-3.0309,  3.7357]])"
      ]
     },
     "execution_count": 263,
     "metadata": {},
     "output_type": "execute_result"
    },
    {
     "name": "stdout",
     "output_type": "stream",
     "text": [
      " Covariance matrix expected Sigma:\n"
     ]
    },
    {
     "data": {
      "text/plain": [
       "array([[ 7.9391, -3.0309],\n",
       "       [-3.0309,  3.7357]])"
      ]
     },
     "execution_count": 263,
     "metadata": {},
     "output_type": "execute_result"
    }
   ],
   "source": [
    "Sw = np.add(S1,S2)\n",
    "\n",
    "dm1 = (np.add(m1,-m))\n",
    "dm1 = dm1[np.newaxis].transpose()\n",
    "\n",
    "dm2 = (np.add(m2,-m))\n",
    "dm2 = dm2[np.newaxis].transpose()\n",
    "\n",
    "Sb = np.add(N1*np.dot(dm1, dm1.transpose()),N2*np.dot(dm2, dm2.transpose()))\n",
    "\n",
    "\n",
    "N = X.shape[0]\n",
    "u = np.add(X,-m).transpose()\n",
    "\n",
    "Sigma_hat = np.matmul(u,u.transpose())*1.0/(N - 1)\n",
    "S_hat = Sigma_hat*(N-1)\n",
    "\n",
    "print(' Spread matrix Sw:')\n",
    "Sw\n",
    "\n",
    "print(' Spread matrix Sb:')\n",
    "Sb\n",
    "\n",
    "print(' Total spread matrix S_hat:')\n",
    "S_hat\n",
    "\n",
    "print(' Global covariance matrix Sigma_hat:')\n",
    "Sigma_hat\n",
    "\n",
    "print(' Covariance matrix expected Sigma:')\n",
    "S"
   ]
  },
  {
   "cell_type": "markdown",
   "metadata": {},
   "source": [
    "Comparing matrix $S_t$ and $\\hat{S}$"
   ]
  },
  {
   "cell_type": "code",
   "execution_count": 264,
   "metadata": {},
   "outputs": [
    {
     "name": "stdout",
     "output_type": "stream",
     "text": [
      " Total spread matrix S_t:\n"
     ]
    },
    {
     "data": {
      "text/plain": [
       "array([[1778.3608, -678.9238],\n",
       "       [-678.9238,  836.8066]])"
      ]
     },
     "execution_count": 264,
     "metadata": {},
     "output_type": "execute_result"
    },
    {
     "name": "stdout",
     "output_type": "stream",
     "text": [
      " Total spread matrix S_hat:\n"
     ]
    },
    {
     "data": {
      "text/plain": [
       "array([[1778.3608, -678.9238],\n",
       "       [-678.9238,  836.8066]])"
      ]
     },
     "execution_count": 264,
     "metadata": {},
     "output_type": "execute_result"
    }
   ],
   "source": [
    "St = Sw + Sb\n",
    "print(' Total spread matrix S_t:')\n",
    "St\n",
    "\n",
    "print(' Total spread matrix S_hat:')\n",
    "S_hat"
   ]
  },
  {
   "cell_type": "markdown",
   "metadata": {},
   "source": [
    "### Solving the eigenvalue and eigenvector \n",
    "\n",
    "* Inverting $S_w$ and check the results\n"
   ]
  },
  {
   "cell_type": "code",
   "execution_count": 265,
   "metadata": {},
   "outputs": [
    {
     "name": "stdout",
     "output_type": "stream",
     "text": [
      "Sw:\n"
     ]
    },
    {
     "data": {
      "text/plain": [
       "array([[703.319 , 133.1946],\n",
       "       [133.1946, 223.3083]])"
      ]
     },
     "execution_count": 265,
     "metadata": {},
     "output_type": "execute_result"
    },
    {
     "name": "stdout",
     "output_type": "stream",
     "text": [
      "Inverted Sw:\n"
     ]
    },
    {
     "data": {
      "text/plain": [
       "array([[ 0.0016, -0.001 ],\n",
       "       [-0.001 ,  0.005 ]])"
      ]
     },
     "execution_count": 265,
     "metadata": {},
     "output_type": "execute_result"
    },
    {
     "name": "stdout",
     "output_type": "stream",
     "text": [
      "Identity matrix\n"
     ]
    },
    {
     "data": {
      "text/plain": [
       "array([[ 1.0000e+00, -4.5613e-17],\n",
       "       [ 3.5797e-18,  1.0000e+00]])"
      ]
     },
     "execution_count": 265,
     "metadata": {},
     "output_type": "execute_result"
    }
   ],
   "source": [
    "Sw_inv = np.linalg.inv(Sw)\n",
    "I = np.matmul(Sw,Sw_inv)\n",
    "\n",
    "print('Sw:')\n",
    "Sw\n",
    "\n",
    "print('Inverted Sw:')\n",
    "Sw_inv\n",
    "\n",
    "print('Identity matrix')\n",
    "I"
   ]
  },
  {
   "cell_type": "code",
   "execution_count": 266,
   "metadata": {},
   "outputs": [
    {
     "name": "stdout",
     "output_type": "stream",
     "text": [
      "A:\n"
     ]
    },
    {
     "data": {
      "text/plain": [
       "array([[ 2.4996, -1.8883],\n",
       "       [-5.1277,  3.8736]])"
      ]
     },
     "execution_count": 266,
     "metadata": {},
     "output_type": "execute_result"
    },
    {
     "name": "stdout",
     "output_type": "stream",
     "text": [
      "eigen_values:\n"
     ]
    },
    {
     "data": {
      "text/plain": [
       "array([0.    , 6.3732])"
      ]
     },
     "execution_count": 266,
     "metadata": {},
     "output_type": "execute_result"
    },
    {
     "name": "stdout",
     "output_type": "stream",
     "text": [
      "eigen_vectors matrix:\n"
     ]
    },
    {
     "data": {
      "text/plain": [
       "array([[-0.6028,  0.4382],\n",
       "       [-0.7979, -0.8989]])"
      ]
     },
     "execution_count": 266,
     "metadata": {},
     "output_type": "execute_result"
    },
    {
     "name": "stdout",
     "output_type": "stream",
     "text": [
      "eigen_vectors :\n"
     ]
    },
    {
     "data": {
      "text/plain": [
       "array([-0.6028, -0.7979])"
      ]
     },
     "execution_count": 266,
     "metadata": {},
     "output_type": "execute_result"
    },
    {
     "data": {
      "text/plain": [
       "array([ 0.4382, -0.8989])"
      ]
     },
     "execution_count": 266,
     "metadata": {},
     "output_type": "execute_result"
    }
   ],
   "source": [
    "A = np.matmul(Sw_inv, Sb)\n",
    "\n",
    "eigen_values, V = np.linalg.eig(A)\n",
    "\n",
    "print('A:')\n",
    "A\n",
    "print('eigen_values:')\n",
    "eigen_values\n",
    "print('eigen_vectors matrix:')\n",
    "V\n",
    "\n",
    "print('eigen_vectors :')\n",
    "v1 = V[:,0]\n",
    "v2 = V[:,1]\n",
    "\n",
    "v1\n",
    "v2"
   ]
  },
  {
   "cell_type": "markdown",
   "metadata": {},
   "source": [
    "checking eigenvalues and eigenvectros properties and comparing com scikitlearn implementation\n",
    "\n",
    "1. eigenvectors are normalized\n",
    "2. eigenvectors are orthogonal (Can NOT be verified for 2-dimensional problems)\n",
    "2. $trace(A) = \\sum \\lambda_i$ (sum of all eigenvalues)\n"
   ]
  },
  {
   "cell_type": "code",
   "execution_count": 267,
   "metadata": {},
   "outputs": [
    {
     "name": "stdout",
     "output_type": "stream",
     "text": [
      "check eigenvectors\n"
     ]
    },
    {
     "data": {
      "text/plain": [
       "0.9999999999999999"
      ]
     },
     "execution_count": 267,
     "metadata": {},
     "output_type": "execute_result"
    },
    {
     "data": {
      "text/plain": [
       "1.0"
      ]
     },
     "execution_count": 267,
     "metadata": {},
     "output_type": "execute_result"
    },
    {
     "name": "stdout",
     "output_type": "stream",
     "text": [
      "Since 1 eigenvalue is zero the eigenvectors are not orthogonal\n"
     ]
    },
    {
     "data": {
      "text/plain": [
       "0.4531118050677347"
      ]
     },
     "execution_count": 267,
     "metadata": {},
     "output_type": "execute_result"
    },
    {
     "name": "stdout",
     "output_type": "stream",
     "text": [
      "check eigenvalues\n",
      "cheking trace(A) and sum of all eigenvalues\n"
     ]
    },
    {
     "data": {
      "text/plain": [
       "6.37320210432588"
      ]
     },
     "execution_count": 267,
     "metadata": {},
     "output_type": "execute_result"
    },
    {
     "data": {
      "text/plain": [
       "6.3732021043258795"
      ]
     },
     "execution_count": 267,
     "metadata": {},
     "output_type": "execute_result"
    }
   ],
   "source": [
    "print('check eigenvectors')\n",
    "# Chacking the norms\n",
    "np.linalg.norm(v1)\n",
    "np.linalg.norm(v2)\n",
    "\n",
    "# If I was reducing form 3s to 2d than at leats 2 eigenvetors are orthogornal\n",
    "print('Since 1 eigenvalue is zero the eigenvectors are not orthogonal')\n",
    "\n",
    "v1.dot(v2.T)\n",
    "\n",
    "print('check eigenvalues')\n",
    "\n",
    "# checking eigenvalues\n",
    "print('cheking trace(A) and sum of all eigenvalues')\n",
    "np.sum(eigen_values)\n",
    "np.trace(A)\n",
    "\n",
    "assert np.abs(np.sum(eigen_values) - np.trace(A)) < 0.1"
   ]
  },
  {
   "cell_type": "code",
   "execution_count": 268,
   "metadata": {},
   "outputs": [
    {
     "name": "stdout",
     "output_type": "stream",
     "text": [
      "Comparing with scikit learn\n",
      "eigenvectors\n"
     ]
    },
    {
     "data": {
      "text/plain": [
       "array([[ 0.451 ],\n",
       "       [-0.9251]])"
      ]
     },
     "execution_count": 268,
     "metadata": {},
     "output_type": "execute_result"
    },
    {
     "data": {
      "text/plain": [
       "array([ 0.4382, -0.8989])"
      ]
     },
     "execution_count": 268,
     "metadata": {},
     "output_type": "execute_result"
    },
    {
     "name": "stdout",
     "output_type": "stream",
     "text": [
      "variance explained\n"
     ]
    },
    {
     "data": {
      "text/plain": [
       "array([1.])"
      ]
     },
     "execution_count": 268,
     "metadata": {},
     "output_type": "execute_result"
    }
   ],
   "source": [
    "print('Comparing with scikit learn')\n",
    "lda = LinearDiscriminantAnalysis(n_components=2)\n",
    "\n",
    "# run an LDA and use it to transform the features\n",
    "X_lda = lda.fit(X, labels).transform(X)\n",
    "\n",
    "print('eigenvectors')\n",
    "lda.scalings_\n",
    "v2\n",
    "\n",
    "print('variance explained')\n",
    "lda.explained_variance_ratio_"
   ]
  },
  {
   "cell_type": "code",
   "execution_count": 314,
   "metadata": {
    "code_folding": []
   },
   "outputs": [
    {
     "data": {
      "text/plain": [
       "4.440892098500626e-16"
      ]
     },
     "execution_count": 314,
     "metadata": {},
     "output_type": "execute_result"
    },
    {
     "data": {
      "text/plain": [
       "6.123233995736766e-17"
      ]
     },
     "execution_count": 314,
     "metadata": {},
     "output_type": "execute_result"
    },
    {
     "data": {
      "text/plain": [
       "1.0"
      ]
     },
     "execution_count": 314,
     "metadata": {},
     "output_type": "execute_result"
    },
    {
     "data": {
      "text/plain": [
       "array([[ 6.1232e-17, -1.0000e+00],\n",
       "       [ 1.0000e+00,  6.1232e-17]])"
      ]
     },
     "execution_count": 314,
     "metadata": {},
     "output_type": "execute_result"
    },
    {
     "data": {
      "text/plain": [
       "<matplotlib.collections.PathCollection at 0x1a29f8a2e8>"
      ]
     },
     "execution_count": 314,
     "metadata": {},
     "output_type": "execute_result"
    },
    {
     "data": {
      "text/plain": [
       "<matplotlib.quiver.Quiver at 0x1a29ecf908>"
      ]
     },
     "execution_count": 314,
     "metadata": {},
     "output_type": "execute_result"
    },
    {
     "data": {
      "text/plain": [
       "<matplotlib.quiver.Quiver at 0x1a2cc1d0b8>"
      ]
     },
     "execution_count": 314,
     "metadata": {},
     "output_type": "execute_result"
    },
    {
     "data": {
      "text/plain": [
       "Text(1.53364,-3.1461,'v2')"
      ]
     },
     "execution_count": 314,
     "metadata": {},
     "output_type": "execute_result"
    },
    {
     "data": {
      "text/plain": [
       "Text(7.19109,3.50546,' $\\\\perp$ v2')"
      ]
     },
     "execution_count": 314,
     "metadata": {},
     "output_type": "execute_result"
    },
    {
     "data": {
      "image/png": "[encoded data removed]",
      "text/plain": [
       "<matplotlib.figure.Figure at 0x1a2abf2e10>"
      ]
     },
     "metadata": {},
     "output_type": "display_data"
    }
   ],
   "source": [
    "## plot the input data and the new set of axes\n",
    "ax = plt.gca()\n",
    "plot_gmm(initial_guess, X, label=labels, ax=ax)\n",
    "\n",
    "p = [0,0]#-7.0*v2\n",
    "v2l = 3.5*v2 \n",
    "\n",
    "R = np.array([[np.cos(np.pi/2.0),-np.sin(np.pi/2.0)],[np.sin(np.pi/2.0),np.cos(np.pi/2.0)]])\n",
    "v2l_ortho = 8.0*np.matmul(R,v2)\n",
    "\n",
    "v2.dot(v2l_ortho)\n",
    "\n",
    "np.cos(np.pi/2.0)\n",
    "np.sin(np.pi/2.0)\n",
    "\n",
    "R\n",
    "\n",
    "ax.scatter(4, 3, s=40, cmap='viridis', zorder=2)\n",
    "ax.quiver(p[0],p[1],v2l[0],v2l[1], units = 'xy',scale=1)\n",
    "ax.quiver(p[0],p[1],v2l_ortho[0],v2l_ortho[1], units = 'xy',scale=1)\n",
    "ax.text(v2l[0] + p[0], v2l[1] + p[1], 'v2')\n",
    "ax.text(v2l_ortho[0], v2l_ortho[1], ' $\\perp$ v2')\n",
    "ax.grid()"
   ]
  },
  {
   "cell_type": "markdown",
   "metadata": {},
   "source": [
    "### Transform the data to the new set of axes\n",
    "\n",
    "Now in this section we re going to use eigenvector matrix in order to transform the input dataset in the new system of coordinates"
   ]
  },
  {
   "cell_type": "code",
   "execution_count": 295,
   "metadata": {},
   "outputs": [
    {
     "data": {
      "text/plain": [
       "(75,)"
      ]
     },
     "execution_count": 295,
     "metadata": {},
     "output_type": "execute_result"
    },
    {
     "data": {
      "text/plain": [
       "(150,)"
      ]
     },
     "execution_count": 295,
     "metadata": {},
     "output_type": "execute_result"
    },
    {
     "data": {
      "text/plain": [
       "(array([ 1.,  2.,  7.,  9., 14., 21., 11.,  3.,  5.,  2.]),\n",
       " array([-4.7216, -4.4035, -4.0855, -3.7674, -3.4494, -3.1313, -2.8133,\n",
       "        -2.4952, -2.1772, -1.8591, -1.5411]),\n",
       " <a list of 10 Patch objects>)"
      ]
     },
     "execution_count": 295,
     "metadata": {},
     "output_type": "execute_result"
    },
    {
     "data": {
      "text/plain": [
       "(array([ 3.,  2., 10., 18., 30., 38., 28., 13.,  5.,  3.]),\n",
       " array([-1.1773, -0.553 ,  0.0713,  0.6956,  1.32  ,  1.9443,  2.5686,\n",
       "         3.193 ,  3.8173,  4.4416,  5.066 ]),\n",
       " <a list of 10 Patch objects>)"
      ]
     },
     "execution_count": 295,
     "metadata": {},
     "output_type": "execute_result"
    },
    {
     "data": {
      "text/plain": [
       "<matplotlib.legend.Legend at 0x1a2a423710>"
      ]
     },
     "execution_count": 295,
     "metadata": {},
     "output_type": "execute_result"
    },
    {
     "data": {
      "text/plain": [
       "Text(0.5,0,'v2')"
      ]
     },
     "execution_count": 295,
     "metadata": {},
     "output_type": "execute_result"
    },
    {
     "data": {
      "text/plain": [
       "6.899615090038263"
      ]
     },
     "execution_count": 295,
     "metadata": {},
     "output_type": "execute_result"
    },
    {
     "data": {
      "image/png": "[encoded data removed]",
      "text/plain": [
       "<matplotlib.figure.Figure at 0x1a2aa1e518>"
      ]
     },
     "metadata": {},
     "output_type": "display_data"
    }
   ],
   "source": [
    "Y1 = np.matmul(X1,v2)\n",
    "Y1.shape\n",
    "\n",
    "Y2 = np.matmul(X2,v2)\n",
    "Y2.shape\n",
    "\n",
    "ax = plt.gca()\n",
    "ax.hist(Y1,color='blue', alpha=0.5, label='1')\n",
    "ax.hist(Y2,color='yellow', alpha=0.5, label='2')\n",
    "plt.legend(loc='upper right')\n",
    "plt.xlabel('v2')\n",
    "\n",
    "Y = np.matmul(X,v2)\n",
    "\n",
    "np.var(Y)"
   ]
  },
  {
   "cell_type": "markdown",
   "metadata": {},
   "source": [
    "## Run scikit learn with iris dataset\n",
    "\n",
    "I could be more creative on that\n",
    "\n",
    "\n",
    "\n",
    "*TODO* <font color='red'>Important to include a discussion about the histograms separation before and after LDA</font>"
   ]
  },
  {
   "cell_type": "code",
   "execution_count": 255,
   "metadata": {},
   "outputs": [],
   "source": [
    "# Load the Iris flower dataset:\n",
    "iris = datasets.load_iris()\n",
    "X = iris.data\n",
    "y = iris.target"
   ]
  },
  {
   "cell_type": "code",
   "execution_count": null,
   "metadata": {},
   "outputs": [],
   "source": [
    "# Create an LDA that will reduce the data down to 1 feature\n",
    "lda = LinearDiscriminantAnalysis(n_components=1)\n",
    "\n",
    "# run an LDA and use it to transform the features\n",
    "X_lda = lda.fit(X, y).transform(X)"
   ]
  },
  {
   "cell_type": "code",
   "execution_count": 256,
   "metadata": {},
   "outputs": [
    {
     "name": "stdout",
     "output_type": "stream",
     "text": [
      "Original number of features: 4\n",
      "Reduced number of features: 1\n"
     ]
    }
   ],
   "source": [
    "# Print the number of features\n",
    "print('Original number of features:', X.shape[1])\n",
    "print('Reduced number of features:', X_lda.shape[1])"
   ]
  },
  {
   "cell_type": "code",
   "execution_count": 257,
   "metadata": {},
   "outputs": [
    {
     "data": {
      "text/plain": [
       "array([1.])"
      ]
     },
     "execution_count": 257,
     "metadata": {},
     "output_type": "execute_result"
    }
   ],
   "source": [
    "## View the ratio of explained variance\n",
    "\n",
    "lda_var_ratios = lda.explained_variance_ratio_\n",
    "\n",
    "lda_var_ratios"
   ]
  },
  {
   "cell_type": "code",
   "execution_count": 258,
   "metadata": {},
   "outputs": [],
   "source": [
    "# Create a function\n",
    "def select_n_components(var_ratio, goal_var: float) -> int:\n",
    "    # Set initial variance explained so far\n",
    "    total_variance = 0.0\n",
    "    \n",
    "    # Set initial number of features\n",
    "    n_components = 0\n",
    "    \n",
    "    # For the explained variance of each feature:\n",
    "    for explained_variance in var_ratio:\n",
    "        \n",
    "        # Add the explained variance to the total\n",
    "        total_variance += explained_variance\n",
    "        \n",
    "        # Add one to the number of components\n",
    "        n_components += 1\n",
    "        \n",
    "        # If we reach our goal level of explained variance\n",
    "        if total_variance >= goal_var:\n",
    "            # End the loop\n",
    "            break\n",
    "            \n",
    "    # Return the number of components\n",
    "    return n_components"
   ]
  },
  {
   "cell_type": "code",
   "execution_count": 259,
   "metadata": {},
   "outputs": [
    {
     "data": {
      "text/plain": [
       "1"
      ]
     },
     "execution_count": 259,
     "metadata": {},
     "output_type": "execute_result"
    }
   ],
   "source": [
    "# Run function\n",
    "select_n_components(lda_var_ratios, 0.95)"
   ]
  },
  {
   "cell_type": "code",
   "execution_count": null,
   "metadata": {},
   "outputs": [],
   "source": []
  }
 ],
 "metadata": {
  "kernelspec": {
   "display_name": "Python 3",
   "language": "python",
   "name": "python3"
  },
  "language_info": {
   "codemirror_mode": {
    "name": "ipython",
    "version": 3
   },
   "file_extension": ".py",
   "mimetype": "text/x-python",
   "name": "python",
   "nbconvert_exporter": "python",
   "pygments_lexer": "ipython3",
   "version": "3.6.4"
  }
 },
 "nbformat": 4,
 "nbformat_minor": 2
}
