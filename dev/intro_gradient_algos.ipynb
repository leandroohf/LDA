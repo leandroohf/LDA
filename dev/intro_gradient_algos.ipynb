{
 "cells": [
  {
   "cell_type": "markdown",
   "metadata": {},
   "source": [
    "# Gradients\n",
    "\n",
    "refs: \n",
    "* https://stackabuse.com/gradient-descent-in-python-implementation-and-theory/\n",
    "* https://www.youtube.com/watch?reload=9&v=Ne3hjpP7KSI\n",
    "* https://github.com/bhattbhavesh91/gradient-descent-variants\n",
    "* math demonstrations:\n",
    "    * https://stats.stackexchange.com/questions/278771/how-is-the-cost-function-from-logistic-regression-derivated/278812 \n",
    "    * https://medium.com/analytics-vidhya/derivative-of-log-loss-function-for-logistic-regression-9b832f025c2d\n",
    "    * https://ml-cheatsheet.readthedocs.io/en/latest/logistic_regression.html\n",
    "\n",
    "**TODO:**\n",
    "* Look this explanation of beter cost function for logistic regression: https://www.internalpointers.com/post/cost-function-logistic-regression\n"
   ]
  },
  {
   "cell_type": "code",
   "execution_count": 1,
   "metadata": {},
   "outputs": [],
   "source": [
    "import numpy as np\n",
    "import random as rand\n",
    "\n",
    "import  matplotlib\n",
    "import matplotlib.pyplot as plt\n",
    "\n",
    "import seaborn as sns\n",
    "\n",
    "from sklearn.datasets import make_classification, make_blobs, make_regression\n",
    "\n",
    "from typing import List, Set, Dict, Tuple, Optional, Union\n",
    "\n",
    "import warnings\n",
    "warnings.filterwarnings('ignore')\n",
    "\n",
    "from IPython.core.interactiveshell import InteractiveShell\n",
    "InteractiveShell.ast_node_interactivity = \"all\"\n",
    "%matplotlib inline"
   ]
  },
  {
   "cell_type": "markdown",
   "metadata": {},
   "source": [
    "## Gradient descent\n"
   ]
  },
  {
   "cell_type": "markdown",
   "metadata": {},
   "source": [
    "**TODO:** Review this terms:\n",
    "\n",
    "* loss fucntion, cost function and hypothesis function\n",
    "* Use as reference:\n",
    "    * Elements of Statistical Learning,  <== This is a good reference of ML\n",
    "    * https://www.deeplearningbook.org/  <== This is a goodreference for Deep Learning\n",
    "    * https://stats.stackexchange.com/questions/179026/objective-function-cost-function-loss-function-are-they-the-same-thing\n",
    "\n",
    "> PS: Objective function they use the term J and apparently i smore common in deep learning. Loss is more common in statistics. The Objective function and J notation emphasized that we J is function of parameters and not data. The notation loss emphasized that the Loss function defines a mistake in machine learning and the goal of the ML algo is to minimize the mistakes. But also we can choose different ways to define the \"mistakes\", like LInera and losgits regression loss functions. Different models has different losses.  \n",
    "\n",
    "In machine learning we define the loss fucntion $L = L(y, h_{\\theta}(X))$. This function is reponsible to penalize mistakes. The machine learning algorithm learns by minimizing this function. $\\theta$ are the paremeters of the models, $X$ is the trainning data and $y$ are the labels. The term $h_{\\theta}(X)$ is the hypothesis.  We define the cost function $J(\\theta) = L(y, h_{\\theta}(X))$. Notices that the cost function $J(\\theta)$ depends of the trainning data $X$, $y$ as well, but is considered only a function of the parameters $\\theta$. Bellow is cost funtion example for Multiple Linear Regression:\n",
    "\n",
    "$\n",
    "J(\\theta) =  \\frac{1}{2n} \\left ( X \\theta - y \\right )^t\\left ( X \\theta - y \\right )\n",
    "$\n",
    "\n",
    "where $h_{\\theta}(X) = X \\theta$.\n",
    "\n",
    "From calclulus, \n",
    "\n",
    "$\n",
    "d J(\\theta) = \\nabla_{\\theta} J(\\theta) * d\\theta\n",
    "$\n",
    "\n",
    "where $*$ is the scalar product or inner product. Because the $cos(a)$ function is maximun when $a=0$ ($d\\theta$ and $\\nabla_{\\theta}$ are aligned in this situation), we know that the opposite direction of the gradient point to the direction that minimizes the cost function $J(\\theta)$.\n",
    "\n",
    "> PS: The opposite direction $\\nabla_{\\theta}J(\\theta)$ minimizes the cost function. The gradient is a compass that instead of point North, it is always point downhill.\n",
    "\n",
    "\n",
    "The algorithm is summarized as follow:\n",
    "    \n",
    "1. Start from a random point $\\theta = \\theta_0$\n",
    "\n",
    "1. Repeat the steps\n",
    "\n",
    "    1. update direction (find the direction to minimize $J(\\theta)$): $\\Delta \\theta = -\\eta \\nabla_{\\theta}J(\\theta)$\n",
    "    \n",
    "    1. update the position (keep changing the parameters to minimize $J(\\theta)$): $\\theta = \\theta + \\Delta \\theta$\n",
    "    \n",
    "where $\\eta$ is the learning rate. \n",
    "\n"
   ]
  },
  {
   "cell_type": "markdown",
   "metadata": {},
   "source": [
    "## Examples of cost functions and their gradients"
   ]
  },
  {
   "cell_type": "markdown",
   "metadata": {},
   "source": [
    "### Linear Rgression"
   ]
  },
  {
   "cell_type": "markdown",
   "metadata": {},
   "source": [
    "$\n",
    "J(\\theta) = \\frac{1}{2n} \\sum_i^n \\left ( h_{\\theta}(x_i) - y_i \\right )^2\n",
    "$\n",
    "\n",
    "$\n",
    "J(\\theta) = \\frac{1}{2n} \\left ( X \\theta - y \\right )^t\\left ( X \\theta - y \\right )\n",
    "$\n",
    "\n",
    "\n",
    "$\n",
    "\\nabla_{\\theta}J(\\theta) = X^t \\left ( X\\theta - y \\right )\n",
    "$"
   ]
  },
  {
   "cell_type": "code",
   "execution_count": 2,
   "metadata": {},
   "outputs": [],
   "source": [
    "# X: matrix nxd\n",
    "# y: column vector nx1\n",
    "# theta: column vector dx1\n",
    "\n",
    "def cost_func_linear_regression(theta, X, y):\n",
    "    \n",
    "    n = X.shape[0]\n",
    "    \n",
    "    z = np.dot(X,theta) - y\n",
    "\n",
    "    return np.dot(z.T,z)/2/n\n",
    "\n",
    "def gradient_linear_regression(theta,X,y):\n",
    "    \n",
    "    z = np.dot(X,theta) - y    \n",
    "    grad = np.matmul(X.T,z)\n",
    "    \n",
    "    #print(f\"theta.shape: {theta.shape}; X.shape: {X.shape}; z.shape: {z.shape}; grad.shape: {grad.shape}\")\n",
    "    \n",
    "    return grad"
   ]
  },
  {
   "cell_type": "code",
   "execution_count": 3,
   "metadata": {},
   "outputs": [
    {
     "data": {
      "text/plain": [
       "(300, 1)"
      ]
     },
     "execution_count": 3,
     "metadata": {},
     "output_type": "execute_result"
    },
    {
     "data": {
      "text/plain": [
       "(300,)"
      ]
     },
     "execution_count": 3,
     "metadata": {},
     "output_type": "execute_result"
    },
    {
     "data": {
      "text/plain": [
       "<matplotlib.collections.PathCollection at 0x7f7b6d30c580>"
      ]
     },
     "execution_count": 3,
     "metadata": {},
     "output_type": "execute_result"
    },
    {
     "data": {
      "image/png": "[encoded data removed]",
      "text/plain": [
       "<Figure size 432x288 with 1 Axes>"
      ]
     },
     "metadata": {
      "needs_background": "light"
     },
     "output_type": "display_data"
    }
   ],
   "source": [
    "X, y = make_regression(n_samples = 300, \n",
    "                       n_features=1, \n",
    "                       n_informative=1, \n",
    "                       noise=10,\n",
    "                       random_state=2021)\n",
    "X.shape\n",
    "y.shape\n",
    "#plt.scatter(X[:,0],X[:,1])\n",
    "plt.scatter(X,y)"
   ]
  },
  {
   "cell_type": "markdown",
   "metadata": {},
   "source": [
    "### Logistic Regression Sigmoid activation\n",
    "\n",
    "* vectorized formula of the cost function: https://ml-cheatsheet.readthedocs.io/en/latest/logistic_regression.html"
   ]
  },
  {
   "cell_type": "markdown",
   "metadata": {},
   "source": [
    "$\n",
    "J(\\theta) = \\frac{1}{n} \\sum_i^n \\left ( y^i log(h_{\\theta}(x_i)) - (1 - y_i) log(1 - h_{\\theta}(x_i)) \\right ) \\\\\n",
    "J(\\theta) = - \\frac{1}{n} \\left ( y^t log(h(X\\theta)) + (1 - y)^t log(1 - h(X\\theta))  \\right )\n",
    "$\n",
    "\n",
    "$\n",
    "\\nabla_{\\theta}J(\\theta) = X^t \\left ( \\sigma(X\\theta) - y) \\right )\n",
    "$\n",
    "\n",
    "where:\n",
    "\n",
    "$\n",
    "h(X\\theta) = h(z) = \\sigma(z) \\equiv \\frac{1}{1 + e^{-z}} \\\\\n",
    "\\frac{\\partial}{\\partial z} \\sigma(z) = \\sigma(z) (1 - \\sigma(z))  \\\\\n",
    "$\n"
   ]
  },
  {
   "cell_type": "code",
   "execution_count": 4,
   "metadata": {
    "code_folding": []
   },
   "outputs": [],
   "source": [
    "# X: matrix nxd\n",
    "# y: column vector nx1\n",
    "# theta: column vector dx1\n",
    "\n",
    "def cost_func_logistic_regression(theta, X, y):\n",
    "    \n",
    "    n = X.shape[0]\n",
    "    z = np.dot(X,theta)  # nx1\n",
    "    h = 1.0/(1.0 + np.exp(-z))  # activation: nx1\n",
    "    \n",
    "    cost = (-1.0/n)*(y^t*np.log(h) + (1-y)^t*(np.log(1-h))) # scalar\n",
    "    \n",
    "    return cost\n",
    "\n",
    "def gradient_logistic_regression(theta,X,y):\n",
    "    \n",
    "    z = np.dot(X,theta)\n",
    "    h = 1.0/(1.0 + np.exp(-z))  # activation\n",
    "    \n",
    "    return np.matmul(X.T,h - y)"
   ]
  },
  {
   "cell_type": "markdown",
   "metadata": {},
   "source": [
    "## Batch Gradient descent\n",
    "\n"
   ]
  },
  {
   "cell_type": "markdown",
   "metadata": {},
   "source": [
    "Batch gradient descent computes the gradient using the whole dataset. "
   ]
  },
  {
   "cell_type": "code",
   "execution_count": 5,
   "metadata": {},
   "outputs": [],
   "source": [
    "def gradient_descent(X,y, cost_func, gradient_func, learning_rate = 0.01, n_iterations = 100):\n",
    "    \n",
    "    n = X.shape[0] # training size\n",
    "    d = X.shape[1]  # number of dimensions or paramters\n",
    "    \n",
    "    theta_history = np.zeros((n_iterations,d))\n",
    "    grad_history = np.zeros((n_iterations,d))\n",
    "    cost_history = np.zeros(n_iterations)\n",
    "    \n",
    "    # init guess\n",
    "    theta = np.random.randn(d)\n",
    "    cost_at_theta = cost_func(theta,X,y)\n",
    "    gradient_at_theta = gradient_func(theta,X,y)\n",
    "    \n",
    "    theta_history[0, :] = theta.T\n",
    "    grad_history[0,:] = gradient_at_theta.T\n",
    "    cost_history[0] = cost_at_theta\n",
    "    \n",
    "    #print(f\"theta0: {theta}\")\n",
    "    for it in range(1,n_iterations):\n",
    "\n",
    "        # computebgradients and cost function\n",
    "        cost_at_theta = cost_func(theta,X,y)\n",
    "        gradient_at_theta = gradient_func(theta,X,y)\n",
    "\n",
    "        # update parameters\n",
    "        dtheta = -learning_rate* gradient_at_theta\n",
    "        theta = theta + dtheta\n",
    "        \n",
    "        # log history for oploting\n",
    "        theta_history[it, :] = theta.T\n",
    "        grad_history[it,:] = gradient_at_theta.T\n",
    "        cost_history[it] = cost_at_theta\n",
    "        \n",
    "        #print(f\"{it}: => theta: {theta.T}; grad: {gradient_at_theta.T}; cost: {cost_at_theta} \")\n",
    "        #print(f\"{it}: => theta.shape: {theta.shape}; grad.shape: {gradient_at_theta.shape}; cost: {cost_at_theta} \")\n",
    "\n",
    "    history = {'theta': theta_history, \"cost\": cost_history, \"grad\": grad_history}\n",
    "\n",
    "    return theta, history"
   ]
  },
  {
   "cell_type": "markdown",
   "metadata": {},
   "source": [
    "### Training "
   ]
  },
  {
   "cell_type": "code",
   "execution_count": 6,
   "metadata": {},
   "outputs": [
    {
     "name": "stdout",
     "output_type": "stream",
     "text": [
      "\n",
      "Initial Guess it: 0 => theta: [-0.51742453]; grad: [-9900.92299865]; cost: 580.44\n",
      "it: 99 => theta: [31.96161862]; grad: [-1.13242749e-13]; cost: 44.49\n",
      "CPU times: user 874 µs, sys: 4.78 ms, total: 5.65 ms\n",
      "Wall time: 3.74 ms\n"
     ]
    }
   ],
   "source": [
    "%%time\n",
    "lr = 0.005\n",
    "n_iter = 100\n",
    "\n",
    "theta, history = gradient_descent(X, y, cost_func_linear_regression, gradient_linear_regression, lr, n_iter)\n",
    "\n",
    "print()\n",
    "theta0 = history['theta'][0]\n",
    "grad0 =  history['grad'][0]\n",
    "cost0 = history['cost'][0]\n",
    "\n",
    "print(f\"Initial Guess it: 0 => theta: {theta0}; grad: {grad0}; cost: {cost0:.2f}\")\n",
    "\n",
    "it = n_iter -1\n",
    "theta = history['theta'][it]\n",
    "grad =  history['grad'][it]\n",
    "cost = history['cost'][it]\n",
    "\n",
    "print(f\"it: {it} => theta: {theta}; grad: {grad}; cost: {cost:.2f}\")\n"
   ]
  },
  {
   "cell_type": "markdown",
   "metadata": {},
   "source": [
    "### Checking the fit\n",
    "\n",
    "We can inspect our solution by ploting the prediction against the data."
   ]
  },
  {
   "cell_type": "code",
   "execution_count": 7,
   "metadata": {},
   "outputs": [
    {
     "data": {
      "image/png": "[encoded data removed]",
      "text/plain": [
       "<Figure size 864x576 with 1 Axes>"
      ]
     },
     "metadata": {
      "needs_background": "light"
     },
     "output_type": "display_data"
    }
   ],
   "source": [
    "y_pred0 = np.dot(X,theta0)\n",
    "y_pred = np.dot(X,theta)\n",
    "\n",
    "fig,ax = plt.subplots(figsize=(12,8))\n",
    "_= ax.plot(X,y_pred,c='black', label='fit');\n",
    "_= ax.plot(X,y_pred0,'r.', label='Initial Guess');\n",
    "_= ax.plot(X,y,'b.', label='Data');\n",
    "ax.legend();"
   ]
  },
  {
   "cell_type": "markdown",
   "metadata": {},
   "source": [
    "### Cost Function and  learning rate "
   ]
  },
  {
   "cell_type": "code",
   "execution_count": 8,
   "metadata": {},
   "outputs": [
    {
     "name": "stdout",
     "output_type": "stream",
     "text": [
      "CPU times: user 2.94 ms, sys: 3.33 ms, total: 6.28 ms\n",
      "Wall time: 4.23 ms\n"
     ]
    }
   ],
   "source": [
    "%%time\n",
    "lr = 0.00657\n",
    "n_iter = 100\n",
    "\n",
    "theta_big, history_big = gradient_descent(X, y, cost_func_linear_regression, gradient_linear_regression, lr, n_iter)\n",
    "\n",
    "lr = 1e-5\n",
    "n_iter = 100\n",
    "\n",
    "theta, history_small = gradient_descent(X, y, cost_func_linear_regression, gradient_linear_regression, lr, n_iter)"
   ]
  },
  {
   "cell_type": "code",
   "execution_count": 9,
   "metadata": {},
   "outputs": [
    {
     "data": {
      "image/png": "[encoded data removed]",
      "text/plain": [
       "<Figure size 432x288 with 1 Axes>"
      ]
     },
     "metadata": {
      "needs_background": "light"
     },
     "output_type": "display_data"
    }
   ],
   "source": [
    "fig,ax = plt.subplots()\n",
    "_ = ax.plot(range(n_iter),history_small['cost'],'r.',label='small lr');\n",
    "_ = ax.plot(range(n_iter),history['cost'],'b.',label='better lr');\n",
    "_ = ax.plot(range(n_iter), history_big['cost'], 'g.', label=\"lr big\");\n",
    "_ = ax.set_ylim([0, 700])\n",
    "ax.legend();"
   ]
  },
  {
   "cell_type": "markdown",
   "metadata": {},
   "source": [
    "### Visualizing gradients in 2d with vector foelds\n",
    "\n",
    "**TODO:** This later\n",
    "\n",
    "* 2d example with vector field\n",
    "https://stackoverflow.com/questions/63843310/how-to-plot-gradient-vector-on-contour-plot-in-python\n",
    "\n",
    "plot vector field\n",
    "https://krajit.github.io/sympy/vectorFields/vectorFields.html"
   ]
  },
  {
   "cell_type": "code",
   "execution_count": 10,
   "metadata": {},
   "outputs": [],
   "source": [
    "# n = 300\n",
    "# d = 2\n",
    "# X, y = make_regression(n_samples = n, \n",
    "#                        n_features= d, \n",
    "#                        n_informative=1, \n",
    "#                        noise=10,\n",
    "#                        random_state=2021)\n",
    "# X.shape\n",
    "# y.shape"
   ]
  },
  {
   "cell_type": "code",
   "execution_count": 11,
   "metadata": {},
   "outputs": [],
   "source": [
    "# x1 = np.arange(-5,5,0.1)\n",
    "# x2 = np.arange(-5,5,0.1)\n",
    "\n",
    "# X1,X2 = np.meshgrid(x1,x2)\n",
    "\n",
    "# Y = np.exp(-0X)"
   ]
  },
  {
   "cell_type": "markdown",
   "metadata": {},
   "source": [
    "$\n",
    "J(\\theta_1, \\theta_2) = A(\\theta_1^2 + \\theta_1 + \\theta_2^2) - C e^{-\\frac{1}{2\\sigma^2} \\left [ (\\theta_1 - \\mu_1)^2 + (\\theta_2 - \\mu_2)^2 \\right ]}\n",
    "$\n",
    "\n",
    "$\n",
    "\\nabla_{\\theta}J(\\theta) = \\frac{\\partial}{\\partial \\theta_1 } J(\\theta) \\hat{\\theta_1} + \\frac{\\partial}{\\partial \\theta_2 } J(\\theta) \\hat{\\theta_2} \\\\\n",
    "\n",
    "\\frac{\\partial}{\\partial \\theta_1 } J(\\theta) = \n",
    "\n",
    "$\n",
    "\n",
    "where:\n",
    "\n",
    "$\n",
    "h(X\\theta) = h(z) = \\sigma(z) \\equiv \\frac{1}{1 + e^{-z}} \\\\\n",
    "\\frac{\\partial}{\\partial z} \\sigma(z) = \\sigma(z) (1 - \\sigma(z))  \\\\\n",
    "$\n"
   ]
  },
  {
   "cell_type": "code",
   "execution_count": 50,
   "metadata": {},
   "outputs": [
    {
     "data": {
      "text/plain": [
       "(25,)"
      ]
     },
     "execution_count": 50,
     "metadata": {},
     "output_type": "execute_result"
    },
    {
     "data": {
      "text/plain": [
       "(25, 25)"
      ]
     },
     "execution_count": 50,
     "metadata": {},
     "output_type": "execute_result"
    },
    {
     "data": {
      "text/plain": [
       "(25, 25)"
      ]
     },
     "execution_count": 50,
     "metadata": {},
     "output_type": "execute_result"
    },
    {
     "data": {
      "text/plain": [
       "(25, 25)"
      ]
     },
     "execution_count": 50,
     "metadata": {},
     "output_type": "execute_result"
    }
   ],
   "source": [
    "from matplotlib import cm\n",
    "\n",
    "def gen_function():\n",
    "    \n",
    "    A = 0.1\n",
    "    C = -5.0\n",
    "    \n",
    "    mu_1 = 3\n",
    "    mu_2 = 4\n",
    "    sigma = 1.0    \n",
    "    \n",
    "    def cost_function(theta, X=None, y=None):\n",
    "\n",
    "        theta1 = theta\n",
    "        theta2 = theta.T\n",
    "        \n",
    "        #A = 0.1\n",
    "        cost = A*(theta1**2 + theta1 + theta2**2)\n",
    "\n",
    "    #     mu_x = 3\n",
    "    #     mu_y = 4\n",
    "    #     sigma = 1.0\n",
    "        #C = -5.0\n",
    "        cost += C*np.exp(-0.5*((theta1-mu_1)**2 + (theta2-mu_2) ** 2)/sigma)\n",
    "\n",
    "        return cost\n",
    "\n",
    "    def gradient(theta,X,y):\n",
    "\n",
    "        theta_1 = theta[0]\n",
    "        theta_2 = theta[0]\n",
    "        \n",
    "        gaussian_cost = C*np.exp(-0.5*((theta1-mu_1)**2 + (theta2-mu_2) ** 2)/sigma)\n",
    "        # dJ/dtheta_1 \n",
    "        grad_theta1 = A*(2.0*theta1 + theta1) - (theta1-mu_1)/sigma* gaussian_cost\n",
    "        grad_theta2 = A*2.0*theta2 - (theta2-mu_2)/sigma* gaussian_cost\n",
    "        \n",
    "        return grad_theta2\n",
    "    \n",
    "    return cost_function, gradient\n",
    "\n",
    "cost_function, gradient = gen_function()\n",
    "\n",
    "theta1 = np.linspace(-7, 7, 25)\n",
    "theta2 = np.linspace(-7, 7, 25)\n",
    "\n",
    "theta1.shape\n",
    "\n",
    "# theta = np.vstack((theta1.T,theta2.T))\n",
    "# theta.shape\n",
    "\n",
    "Theta1, Theta2 = np.meshgrid(theta1, theta2)\n",
    "\n",
    "#J = cost_function(Theta1, Theta2)\n",
    "\n",
    "# Theta = np.vstack((Theta1,Theta2))\n",
    "\n",
    "X = np.array([])\n",
    "y = np.array([])\n",
    "J = cost_function(Theta1, X,y)\n",
    "\n",
    "Theta1.shape\n",
    "Theta2.shape\n",
    "J.shape\n"
   ]
  },
  {
   "cell_type": "code",
   "execution_count": 51,
   "metadata": {},
   "outputs": [
    {
     "data": {
      "image/png": "[encoded data removed]",
      "text/plain": [
       "<Figure size 432x288 with 1 Axes>"
      ]
     },
     "metadata": {
      "needs_background": "light"
     },
     "output_type": "display_data"
    }
   ],
   "source": [
    "fig = plt.subplot(121)\n",
    "ax = plt.axes(projection='3d')\n",
    "ax.contour3D(Theta1, Theta2, J, 50, cmap=cm.coolwarm)\n",
    "ax.set_xlabel(r'$\\theta_1$')\n",
    "ax.set_ylabel(r'$\\theta_2$')\n",
    "ax.set_zlabel(r'$J(\\theta)$');"
   ]
  },
  {
   "cell_type": "code",
   "execution_count": 52,
   "metadata": {},
   "outputs": [
    {
     "data": {
      "image/png": "[encoded data removed]",
      "text/plain": [
       "<Figure size 432x288 with 2 Axes>"
      ]
     },
     "metadata": {
      "needs_background": "light"
     },
     "output_type": "display_data"
    }
   ],
   "source": [
    "cp = plt.contourf(Theta1, Theta2, J)\n",
    "plt.colorbar(cp)\n",
    "\n",
    "ax.set_title('Contour Plot')\n",
    "ax.set_xlabel(r'$\\theta_1$')\n",
    "ax.set_ylabel(r'$\\theta_2$')\n",
    "plt.show();"
   ]
  },
  {
   "cell_type": "code",
   "execution_count": null,
   "metadata": {},
   "outputs": [],
   "source": [
    "X1\n",
    "X2\n",
    "\n",
    "X1.flatten()"
   ]
  },
  {
   "cell_type": "code",
   "execution_count": null,
   "metadata": {},
   "outputs": [],
   "source": [
    "# %%time\n",
    "lr = 0.001\n",
    "n_iter = 100\n",
    "\n",
    "X1.shape\n",
    "X2.shape\n",
    "\n",
    "x1.shape\n",
    "x2.shape\n",
    "\n",
    "X = np.vstack((X1.flatten(),X2.flatten()))\n",
    "\n",
    "X.shape\n",
    "Y.shape\n",
    "y = Y.flatten()\n",
    "y.shape\n",
    "\n",
    "\n",
    "#theta, history = gradient_descent(X, y, cost_func_linear_regression, gradient_linear_regression, lr, n_iter)\n",
    "\n",
    "# print()\n",
    "# theta0 = history['theta'][0]\n",
    "# grad0 =  history['grad'][0]\n",
    "# cost0 = history['cost'][0]\n",
    "\n",
    "# print(f\"Initial Guess it: 0 => theta: {theta0}; grad: {grad0}; cost: {cost0:.2f}\")\n",
    "\n",
    "# it = n_iter -1\n",
    "# theta = history['theta'][it]\n",
    "# grad =  history['grad'][it]\n",
    "# cost = history['cost'][it]\n",
    "\n",
    "# print(f\"it: {it} => theta: {theta}; grad: {grad}; cost: {cost:.2f}\")"
   ]
  },
  {
   "cell_type": "code",
   "execution_count": null,
   "metadata": {},
   "outputs": [],
   "source": []
  },
  {
   "cell_type": "code",
   "execution_count": null,
   "metadata": {},
   "outputs": [],
   "source": [
    "thetas = history['theta']\n",
    "theta_min = np.min(thetas,axis=0)\n",
    "theta_max = np.max(thetas,axis=0)\n",
    "\n",
    "theta1,theta2 = np.meshgrid(np.linspace(theta_min[0],theta_max[0],n_iter),np.linspace(theta_min[1],theta_max[1],n_iter))\n",
    "\n",
    "grads = \n",
    "\n",
    "# gradients\n",
    "u = np.array([ grad[0]/np.norm(grad) for grad in history['grad']])\n",
    "v = np.array([ grad[1]/np.norm(grad) for grad in history['grad']])\n",
    "\n",
    "fig, ax = plt.subplots(1, 1)\n",
    "ax.set_aspect(1)\n",
    "ax.plot(theta1, theta2, c='k')\n",
    "ax.quiver(x, y, u, v, units='xy', scale=0.5, color='gray')\n",
    "ax.contour(x, y, z, 10, cmap='jet', lw=2)"
   ]
  },
  {
   "cell_type": "code",
   "execution_count": null,
   "metadata": {},
   "outputs": [],
   "source": [
    "n = 3\n",
    "d = 2\n",
    "\n",
    "theta_history = np.zeros((n,d))\n",
    "\n",
    "theta = np.random.randn(d)\n",
    "\n",
    "theta.shape\n",
    "theta\n",
    "\n",
    "z = np.dot(X,theta)\n",
    "\n",
    "z.shape\n",
    "\n",
    "theta_history.shape\n",
    "\n",
    "theta_history[0,:] = theta.T\n",
    "\n",
    "\n",
    "theta_history"
   ]
  },
  {
   "cell_type": "code",
   "execution_count": null,
   "metadata": {},
   "outputs": [],
   "source": []
  }
 ],
 "metadata": {
  "kernelspec": {
   "display_name": "Python 3",
   "language": "python",
   "name": "python3"
  },
  "language_info": {
   "codemirror_mode": {
    "name": "ipython",
    "version": 3
   },
   "file_extension": ".py",
   "mimetype": "text/x-python",
   "name": "python",
   "nbconvert_exporter": "python",
   "pygments_lexer": "ipython3",
   "version": "3.8.3"
  },
  "toc": {
   "base_numbering": 1,
   "nav_menu": {},
   "number_sections": true,
   "sideBar": true,
   "skip_h1_title": true,
   "title_cell": "Table of Contents",
   "title_sidebar": "Contents",
   "toc_cell": false,
   "toc_position": {},
   "toc_section_display": true,
   "toc_window_display": true
  },
  "varInspector": {
   "cols": {
    "lenName": 16,
    "lenType": 16,
    "lenVar": 40
   },
   "kernels_config": {
    "python": {
     "delete_cmd_postfix": "",
     "delete_cmd_prefix": "del ",
     "library": "var_list.py",
     "varRefreshCmd": "print(var_dic_list())"
    },
    "r": {
     "delete_cmd_postfix": ") ",
     "delete_cmd_prefix": "rm(",
     "library": "var_list.r",
     "varRefreshCmd": "cat(var_dic_list()) "
    }
   },
   "types_to_exclude": [
    "module",
    "function",
    "builtin_function_or_method",
    "instance",
    "_Feature"
   ],
   "window_display": false
  }
 },
 "nbformat": 4,
 "nbformat_minor": 4
}
