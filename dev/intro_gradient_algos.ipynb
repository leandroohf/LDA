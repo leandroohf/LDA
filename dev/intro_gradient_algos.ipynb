{
 "cells": [
  {
   "cell_type": "markdown",
   "metadata": {},
   "source": [
    "# Gradients\n",
    "\n",
    "refs: \n",
    "* https://stackabuse.com/gradient-descent-in-python-implementation-and-theory/\n",
    "* https://www.youtube.com/watch?reload=9&v=Ne3hjpP7KSI\n",
    "* https://github.com/bhattbhavesh91/gradient-descent-variants\n",
    "* math demonstrations:\n",
    "    * https://stats.stackexchange.com/questions/278771/how-is-the-cost-function-from-logistic-regression-derivated/278812 \n",
    "    * https://medium.com/analytics-vidhya/derivative-of-log-loss-function-for-logistic-regression-9b832f025c2d\n",
    "    * https://ml-cheatsheet.readthedocs.io/en/latest/logistic_regression.html\n",
    "\n",
    "**TODO:**\n",
    "* Look this explanation of beter cost function for logistic regression: https://www.internalpointers.com/post/cost-function-logistic-regression\n",
    "\n",
    "\n",
    "\n",
    "--------\n",
    "\n",
    "* epcoh: one pass over the entire data\n",
    "* 1 step: update the parameters\n",
    "* B: mini batch size\n",
    "\n",
    "ref: https://towardsdatascience.com/learning-parameters-part-3-ee8558f65dd7\n",
    "\n",
    "| Gradient Algo                     | #steps in epoch |\n",
    "|-----------------------------------|-----------------|\n",
    "| Vanilla or Batch Gradient Descent | 1               |\n",
    "| Stochastic Gradient Descent       | N               |\n",
    "| Mini Batch Gradient Descent       | N/B             |\n",
    "\n"
   ]
  },
  {
   "cell_type": "code",
   "execution_count": 1,
   "metadata": {},
   "outputs": [],
   "source": [
    "import numpy as np\n",
    "import random as rand\n",
    "\n",
    "import  matplotlib\n",
    "import matplotlib.pyplot as plt\n",
    "# required for iteractive plot\n",
    "%matplotlib notebook  \n",
    "\n",
    "import seaborn as sns\n",
    "\n",
    "from sklearn.datasets import make_classification, make_blobs, make_regression\n",
    "\n",
    "from typing import List, Set, Dict, Tuple, Optional, Union\n",
    "\n",
    "import warnings\n",
    "warnings.filterwarnings('ignore')\n",
    "\n",
    "from IPython.core.interactiveshell import InteractiveShell\n",
    "InteractiveShell.ast_node_interactivity = \"all\"\n",
    "%matplotlib inline"
   ]
  },
  {
   "cell_type": "markdown",
   "metadata": {},
   "source": [
    "## Gradient descent\n"
   ]
  },
  {
   "cell_type": "markdown",
   "metadata": {},
   "source": [
    "**TODO:** Review this terms:\n",
    "\n",
    "* loss fucntion, cost function and hypothesis function\n",
    "* Use as reference:\n",
    "    * Elements of Statistical Learning,  <== This is a good reference of ML\n",
    "    * https://www.deeplearningbook.org/  <== This is a goodreference for Deep Learning\n",
    "    * https://stats.stackexchange.com/questions/179026/objective-function-cost-function-loss-function-are-they-the-same-thing\n",
    "\n",
    "> PS: Objective function they use the term J and apparently i smore common in deep learning. Loss is more common in statistics. The Objective function and J notation emphasized that we J is function of parameters and not data. The notation loss emphasized that the Loss function defines a mistake in machine learning and the goal of the ML algo is to minimize the mistakes. But also we can choose different ways to define the \"mistakes\", like LInera and losgits regression loss functions. Different models has different losses.  \n",
    "\n",
    "In machine learning we define the loss fucntion $L = L(y, h_{\\theta}(X))$. This function is reponsible to penalize mistakes. The machine learning algorithm learns by minimizing this function. $\\theta$ are the paremeters of the models, $X$ is the trainning data and $y$ are the labels. The term $h_{\\theta}(X)$ is the hypothesis.  We define the cost function $J(\\theta) = L(y, h_{\\theta}(X))$. Notices that the cost function $J(\\theta)$ depends of the trainning data $X$, $y$ as well, but is considered only a function of the parameters $\\theta$. Bellow is cost funtion example for Multiple Linear Regression:\n",
    "\n",
    "$\n",
    "J(\\theta) =  \\frac{1}{2n} \\left ( X \\theta - y \\right )^t\\left ( X \\theta - y \\right )\n",
    "$\n",
    "\n",
    "where $h_{\\theta}(X) = X \\theta$.\n",
    "\n",
    "From calclulus, \n",
    "\n",
    "$\n",
    "d J(\\theta) = \\nabla_{\\theta} J(\\theta) * d\\theta\n",
    "$\n",
    "\n",
    "where $*$ is the scalar product or inner product. Because the $cos(a)$ function is maximun when $a=0$ ($d\\theta$ and $\\nabla_{\\theta}$ are aligned in this situation), we know that the opposite direction of the gradient point to the direction that minimizes the cost function $J(\\theta)$.\n",
    "\n",
    "> PS: The opposite direction $\\nabla_{\\theta}J(\\theta)$ minimizes the cost function. The gradient is a compass that instead of point North, it is always point downhill.\n",
    "\n",
    "\n",
    "The algorithm is summarized as follow:\n",
    "    \n",
    "1. Start from a random point $\\theta = \\theta_0$\n",
    "\n",
    "1. Repeat the steps\n",
    "\n",
    "    1. update direction (find the direction to minimize $J(\\theta)$): $\\Delta \\theta = -\\eta \\nabla_{\\theta}J(\\theta)$\n",
    "    \n",
    "    1. update the position (keep changing the parameters to minimize $J(\\theta)$): $\\theta = \\theta + \\Delta \\theta$\n",
    "    \n",
    "where $\\eta$ is the learning rate. \n",
    "\n"
   ]
  },
  {
   "cell_type": "markdown",
   "metadata": {},
   "source": [
    "## Examples of cost functions and their gradients"
   ]
  },
  {
   "cell_type": "markdown",
   "metadata": {},
   "source": [
    "### Linear Rgression"
   ]
  },
  {
   "cell_type": "markdown",
   "metadata": {},
   "source": [
    "$\n",
    "J(\\theta) = \\frac{1}{2n} \\sum_i^n \\left ( h_{\\theta}(x_i) - y_i \\right )^2\n",
    "$\n",
    "\n",
    "$\n",
    "J(\\theta) = \\frac{1}{2n} \\left ( X \\theta - y \\right )^t\\left ( X \\theta - y \\right )\n",
    "$\n",
    "\n",
    "\n",
    "$\n",
    "\\nabla_{\\theta}J(\\theta) = X^t \\left ( X\\theta - y \\right )\n",
    "$"
   ]
  },
  {
   "cell_type": "code",
   "execution_count": 236,
   "metadata": {},
   "outputs": [],
   "source": [
    "# X: matrix nxd\n",
    "# y: column vector nx1\n",
    "# theta: column vector dx1\n",
    "\n",
    "def cost_func_linear_regression(theta, X, y):\n",
    "    \n",
    "    n = X.shape[0]\n",
    "    \n",
    "    z = np.dot(X,theta) - y\n",
    "\n",
    "    return np.dot(z.T,z)/2.0/n\n",
    "\n",
    "def gradient_linear_regression(theta,X,y):\n",
    "    \n",
    "    z = np.dot(X,theta) - y    \n",
    "    grad = np.dot(X.T,z)\n",
    "    \n",
    "    #print(f\"theta.shape: {theta.shape}; X.shape: {X.shape}; z.shape: {z.shape}; grad.shape: {grad.shape}\")\n",
    "    \n",
    "    return grad/n"
   ]
  },
  {
   "cell_type": "markdown",
   "metadata": {},
   "source": [
    "### Logistic Regression Sigmoid activation\n",
    "\n",
    "* vectorized formula of the cost function: https://ml-cheatsheet.readthedocs.io/en/latest/logistic_regression.html"
   ]
  },
  {
   "cell_type": "markdown",
   "metadata": {},
   "source": [
    "$\n",
    "J(\\theta) = \\frac{1}{n} \\sum_i^n \\left ( y^i log(h_{\\theta}(x_i)) - (1 - y_i) log(1 - h_{\\theta}(x_i)) \\right ) \\\\\n",
    "J(\\theta) = - \\frac{1}{n} \\left ( y^t log(h(X\\theta)) + (1 - y)^t log(1 - h(X\\theta))  \\right )\n",
    "$\n",
    "\n",
    "$\n",
    "\\nabla_{\\theta}J(\\theta) = X^t \\left ( \\sigma(X\\theta) - y) \\right )\n",
    "$\n",
    "\n",
    "where:\n",
    "\n",
    "$\n",
    "h(X\\theta) = h(z) = \\sigma(z) \\equiv \\frac{1}{1 + e^{-z}} \\\\\n",
    "\\frac{\\partial}{\\partial z} \\sigma(z) = \\sigma(z) (1 - \\sigma(z))  \\\\\n",
    "$\n"
   ]
  },
  {
   "cell_type": "code",
   "execution_count": 237,
   "metadata": {
    "code_folding": []
   },
   "outputs": [],
   "source": [
    "# X: matrix nxd\n",
    "# y: column vector nx1\n",
    "# theta: column vector dx1\n",
    "\n",
    "def cost_func_logistic_regression(theta, X, y):\n",
    "    \n",
    "    n = X.shape[0]\n",
    "    z = np.dot(X,theta)  # nx1\n",
    "    h = 1.0/(1.0 + np.exp(-z))  # activation: nx1\n",
    "    \n",
    "    cost = (-1.0/n)*(y^t*np.log(h) + (1-y)^t*(np.log(1-h))) # scalar\n",
    "    \n",
    "    return cost\n",
    "\n",
    "def gradient_logistic_regression(theta,X,y):\n",
    "    \n",
    "    z = np.dot(X,theta)\n",
    "    h = 1.0/(1.0 + np.exp(-z))  # activation\n",
    "    \n",
    "    return np.matmul(X.T,h - y)"
   ]
  },
  {
   "cell_type": "markdown",
   "metadata": {},
   "source": [
    "## Batch Gradient descent\n",
    "\n"
   ]
  },
  {
   "cell_type": "markdown",
   "metadata": {},
   "source": [
    "Batch gradient descent computes the gradient using the whole dataset. "
   ]
  },
  {
   "cell_type": "code",
   "execution_count": 156,
   "metadata": {},
   "outputs": [],
   "source": [
    "def gradient_descent(X,y, cost_func, gradient_func, learning_rate = 0.01, \n",
    "                     n_iterations = 100, init_guess=None):\n",
    "    \n",
    "    n = X.shape[0] # training size\n",
    "    d = X.shape[1]  # number of dimensions or paramters\n",
    "    \n",
    "    theta_history = np.zeros((n_iterations,d))\n",
    "    grad_history = np.zeros((n_iterations,d))\n",
    "    cost_history = np.zeros(n_iterations)\n",
    "    \n",
    "    # init guess\n",
    "    if init_guess is None:\n",
    "        theta = np.random.randn(d)\n",
    "        \n",
    "    else:\n",
    "        theta = init_guess\n",
    "\n",
    "    cost_at_theta = cost_func(theta,X,y)\n",
    "    gradient_at_theta = gradient_func(theta,X,y)\n",
    "    \n",
    "    theta_history[0, :] = theta.T\n",
    "    grad_history[0,:] = gradient_at_theta.T\n",
    "    cost_history[0] = cost_at_theta\n",
    "    \n",
    "    #print(f\"theta0: {theta}\")\n",
    "    for it in range(1,n_iterations):\n",
    "\n",
    "        # computebgradients and cost function\n",
    "        cost_at_theta = cost_func(theta,X,y)\n",
    "        gradient_at_theta = gradient_func(theta,X,y)\n",
    "\n",
    "        # update parameters\n",
    "        dtheta = -learning_rate* gradient_at_theta\n",
    "        theta = theta + dtheta\n",
    "        \n",
    "        # log history for oploting\n",
    "        theta_history[it, :] = theta.T\n",
    "        grad_history[it,:] = gradient_at_theta.T\n",
    "        cost_history[it] = cost_at_theta\n",
    "        \n",
    "        #print(f\"{it}: => theta: {theta.T}; grad: {gradient_at_theta.T}; cost: {cost_at_theta} \")\n",
    "        #print(f\"{it}: => theta.shape: {theta.shape}; grad.shape: {gradient_at_theta.shape}; cost: {cost_at_theta} \")\n",
    "\n",
    "    history = {'theta': theta_history, \"cost\": cost_history, \"grad\": grad_history}\n",
    "\n",
    "    return theta, history"
   ]
  },
  {
   "cell_type": "markdown",
   "metadata": {},
   "source": [
    "### Training "
   ]
  },
  {
   "cell_type": "code",
   "execution_count": 185,
   "metadata": {},
   "outputs": [
    {
     "name": "stdout",
     "output_type": "stream",
     "text": [
      "True parameters: 32.69\n"
     ]
    },
    {
     "data": {
      "text/plain": [
       "(300, 1)"
      ]
     },
     "execution_count": 185,
     "metadata": {},
     "output_type": "execute_result"
    },
    {
     "data": {
      "text/plain": [
       "(300,)"
      ]
     },
     "execution_count": 185,
     "metadata": {},
     "output_type": "execute_result"
    },
    {
     "data": {
      "text/plain": [
       "<matplotlib.collections.PathCollection at 0x7f30c9e88640>"
      ]
     },
     "execution_count": 185,
     "metadata": {},
     "output_type": "execute_result"
    },
    {
     "data": {
      "image/png": "[encoded data removed]",
      "text/plain": [
       "<Figure size 432x288 with 1 Axes>"
      ]
     },
     "metadata": {
      "needs_background": "light"
     },
     "output_type": "display_data"
    }
   ],
   "source": [
    "X, y, theta_true = make_regression(n_samples = 300, \n",
    "                       n_features=1, \n",
    "                       n_informative=1, \n",
    "                       noise=10,  # <== This is related with the bayes error. The minimum the cost function can converted\n",
    "                        coef=True,\n",
    "                       random_state=2021)\n",
    "\n",
    "print(f\"True parameters: {theta_true:.2f}\")\n",
    "\n",
    "X.shape\n",
    "y.shape\n",
    "plt.scatter(X,y)"
   ]
  },
  {
   "cell_type": "code",
   "execution_count": 238,
   "metadata": {},
   "outputs": [
    {
     "name": "stdout",
     "output_type": "stream",
     "text": [
      "\n",
      "Initial Guess it: 0 => theta: [50.]; grad: [109.97653111]; cost: 209.80\n",
      "it: 99 => theta: [31.96161862]; grad: [4.08562073e-14]; cost: 44.49\n",
      "Expected theta:32.69\n",
      "CPU times: user 0 ns, sys: 2.78 ms, total: 2.78 ms\n",
      "Wall time: 3.66 ms\n"
     ]
    }
   ],
   "source": [
    "%%time\n",
    "lr = 0.05\n",
    "n_iter = 100\n",
    "\n",
    "init_guess = np.array([50.0])\n",
    "\n",
    "theta, history = gradient_descent(X, y, cost_func_linear_regression, gradient_linear_regression, \n",
    "                                  lr, n_iter, init_guess)\n",
    "\n",
    "print()\n",
    "theta0 = history['theta'][0]\n",
    "grad0 =  history['grad'][0]\n",
    "cost0 = history['cost'][0]\n",
    "\n",
    "print(f\"Initial Guess it: 0 => theta: {theta0}; grad: {grad0}; cost: {cost0:.2f}\")\n",
    "\n",
    "it = n_iter -1\n",
    "theta = history['theta'][it]\n",
    "grad =  history['grad'][it]\n",
    "cost = history['cost'][it]\n",
    "\n",
    "print(f\"it: {it} => theta: {theta}; grad: {grad}; cost: {cost:.2f}\")\n",
    "print(f\"Expected theta:{theta_true:.2f}\")"
   ]
  },
  {
   "cell_type": "markdown",
   "metadata": {},
   "source": [
    "### Checking the fit\n",
    "\n",
    "We can inspect our solution by ploting the prediction against the data."
   ]
  },
  {
   "cell_type": "code",
   "execution_count": 239,
   "metadata": {},
   "outputs": [
    {
     "data": {
      "image/png": "[encoded data removed]",
      "text/plain": [
       "<Figure size 432x288 with 1 Axes>"
      ]
     },
     "metadata": {
      "needs_background": "light"
     },
     "output_type": "display_data"
    }
   ],
   "source": [
    "y_pred0 = np.dot(X,theta0)\n",
    "y_pred = np.dot(X,theta)\n",
    "\n",
    "plt.plot(X,y_pred,c='black', label='fit');\n",
    "plt.plot(X,y_pred0,'r.', label='Initial Guess');\n",
    "plt.plot(X,y,'b.', label='Data');\n",
    "plt.legend();"
   ]
  },
  {
   "cell_type": "markdown",
   "metadata": {},
   "source": [
    "### Cost Function and  learning rate "
   ]
  },
  {
   "cell_type": "code",
   "execution_count": 274,
   "metadata": {},
   "outputs": [
    {
     "name": "stdout",
     "output_type": "stream",
     "text": [
      "CPU times: user 3.96 ms, sys: 1.49 ms, total: 5.45 ms\n",
      "Wall time: 4.28 ms\n"
     ]
    }
   ],
   "source": [
    "%%time\n",
    "lr = 0.3289\n",
    "n_iter = 100\n",
    "\n",
    "theta_big, history_big = gradient_descent(X, y, cost_func_linear_regression, gradient_linear_regression, \n",
    "                                          lr, n_iter, init_guess)\n",
    "\n",
    "lr = 1e-3\n",
    "n_iter = 100\n",
    "\n",
    "theta, history_small = gradient_descent(X, y, cost_func_linear_regression, gradient_linear_regression, \n",
    "                                        lr, n_iter, init_guess)"
   ]
  },
  {
   "cell_type": "code",
   "execution_count": 275,
   "metadata": {},
   "outputs": [
    {
     "data": {
      "image/png": "[encoded data removed]",
      "text/plain": [
       "<Figure size 432x288 with 1 Axes>"
      ]
     },
     "metadata": {
      "needs_background": "light"
     },
     "output_type": "display_data"
    }
   ],
   "source": [
    "fig,ax = plt.subplots()\n",
    "_ = ax.plot(range(n_iter),history_small['cost'],'r.',label='small lr');\n",
    "_ = ax.plot(range(n_iter),history['cost'],'b.',label='better lr');\n",
    "_ = ax.plot(range(n_iter), history_big['cost'], 'g.', label=\"lr big\");\n",
    "_ = ax.set_ylim([0, 500.0])\n",
    "ax.legend();"
   ]
  },
  {
   "cell_type": "markdown",
   "metadata": {},
   "source": [
    "### Changing bayes error"
   ]
  },
  {
   "cell_type": "code",
   "execution_count": 339,
   "metadata": {},
   "outputs": [
    {
     "name": "stdout",
     "output_type": "stream",
     "text": [
      "True parameters: 32.69\n"
     ]
    },
    {
     "data": {
      "text/plain": [
       "(300, 1)"
      ]
     },
     "execution_count": 339,
     "metadata": {},
     "output_type": "execute_result"
    },
    {
     "data": {
      "text/plain": [
       "(300,)"
      ]
     },
     "execution_count": 339,
     "metadata": {},
     "output_type": "execute_result"
    },
    {
     "data": {
      "image/png": "[encoded data removed]",
      "text/plain": [
       "<Figure size 432x288 with 2 Axes>"
      ]
     },
     "metadata": {
      "needs_background": "light"
     },
     "output_type": "display_data"
    }
   ],
   "source": [
    "X_low_bayes_error, y_low_bayes_error, theta_true = make_regression(n_samples = 300, \n",
    "                       n_features=1, \n",
    "                       n_informative=1, \n",
    "                       noise=1,  # <== Low bayes error\n",
    "                        coef=True,\n",
    "                       random_state=2021)\n",
    "\n",
    "print(f\"True parameters: {theta_true:.2f}\")\n",
    "\n",
    "\n",
    "X_high_bayes_error, y_high_bayes_error, theta_true = make_regression(n_samples = 300, \n",
    "                       n_features=1, \n",
    "                       n_informative=1, \n",
    "                       noise=10,  # <== High bayes error\n",
    "                        coef=True,\n",
    "                       random_state=2021)\n",
    "\n",
    "\n",
    "X_low_bayes_error.shape\n",
    "y_low_bayes_error.shape\n",
    "\n",
    "_ = plt.subplot(121);\n",
    "_ = plt.scatter(X_low_bayes_error,y_low_bayes_error);\n",
    "_ = plt.subplot(122);\n",
    "_ = plt.scatter(X_high_bayes_error,y_high_bayes_error);\n",
    "\n",
    "plt.show()"
   ]
  },
  {
   "cell_type": "code",
   "execution_count": 337,
   "metadata": {},
   "outputs": [
    {
     "name": "stdout",
     "output_type": "stream",
     "text": [
      "CPU times: user 0 ns, sys: 4.27 ms, total: 4.27 ms\n",
      "Wall time: 3.73 ms\n"
     ]
    }
   ],
   "source": [
    "%%time\n",
    "lr = 0.05\n",
    "n_iter = 100\n",
    "\n",
    "init_guess = np.array([50.0])\n",
    "\n",
    "theta, history_low_bayes_eror = gradient_descent(X_low_bayes_error, y_low_bayes_error, cost_func_linear_regression, gradient_linear_regression, \n",
    "                                  lr, n_iter, init_guess)\n",
    "\n",
    "\n",
    "theta, history_high_bayes_error = gradient_descent(X_high_bayes_error, y_high_bayes_error, cost_func_linear_regression, gradient_linear_regression, \n",
    "                                  lr, n_iter, init_guess)\n"
   ]
  },
  {
   "cell_type": "code",
   "execution_count": 338,
   "metadata": {},
   "outputs": [
    {
     "data": {
      "image/png": "[encoded data removed]",
      "text/plain": [
       "<Figure size 432x288 with 1 Axes>"
      ]
     },
     "metadata": {
      "needs_background": "light"
     },
     "output_type": "display_data"
    }
   ],
   "source": [
    "fig,ax = plt.subplots()\n",
    "_ = ax.plot(range(n_iter),history_low_bayes_eror['cost'],'r.',label='low bayes error');\n",
    "_ = ax.plot(range(n_iter),history_high_bayes_error['cost'],'b.',label='high bayes error');\n",
    "ax.legend();"
   ]
  },
  {
   "cell_type": "markdown",
   "metadata": {},
   "source": [
    "### Visualizing gradients in 2d with vector foelds\n",
    "\n",
    "**TODO:** This later\n",
    "\n",
    "* 2d example with vector field\n",
    "* https://stackoverflow.com/questions/63843310/how-to-plot-gradient-vector-on-contour-plot-in-python\n",
    "* https://scipython.com/blog/visualizing-the-gradient-descent-method/\n",
    "\n",
    "plot vector field\n",
    "https://krajit.github.io/sympy/vectorFields/vectorFields.html"
   ]
  },
  {
   "cell_type": "markdown",
   "metadata": {},
   "source": [
    "#### Linear Regression\n",
    "\n",
    "**TODO**: https://scipython.com/blog/visualizing-the-gradient-descent-method/"
   ]
  },
  {
   "cell_type": "code",
   "execution_count": null,
   "metadata": {},
   "outputs": [],
   "source": [
    "X, y, theta_true = make_regression(n_samples = 200, \n",
    "                       n_features=2, \n",
    "                       n_informative=1, \n",
    "                       noise=3,\n",
    "                       coef=True,\n",
    "                       random_state=2021)\n",
    "\n",
    "print(f\"True parameters: {theta_true}\")\n",
    "\n",
    "# re scale X\n",
    "X = np.interp(X, (X.min(), X.max()), (0.0, 1.0))\n",
    "\n",
    "# re scale y\n",
    "\n",
    "\n",
    "X.shape\n",
    "y.shape\n",
    "theta_true.shape"
   ]
  },
  {
   "cell_type": "code",
   "execution_count": null,
   "metadata": {},
   "outputs": [],
   "source": [
    "ax = plt.axes(projection='3d')\n",
    "ax.scatter3D(X[:,0], X[:,1], y, c=\"b\");\n",
    "ax.view_init(15, 60)\n",
    "ax.set_xlabel(r'X1')\n",
    "ax.set_ylabel(r'X2')\n",
    "ax.set_zlabel(r'y');"
   ]
  },
  {
   "cell_type": "markdown",
   "metadata": {},
   "source": [
    "* **Ploting parameter space**"
   ]
  },
  {
   "cell_type": "code",
   "execution_count": null,
   "metadata": {},
   "outputs": [],
   "source": [
    "grid_size = 100\n",
    "theta1 = np.linspace(-1, 1, grid_size)  # intercept\n",
    "theta2 = np.linspace(-5, 5, grid_size)   # slope\n",
    "\n",
    "Theta1,Theta2 = np.meshgrid(theta1,theta2)\n",
    "\n",
    "J_grid = np.zeros((grid_size,grid_size))\n",
    "theta = np.array([0.0,0.0]).T\n",
    "for r in range(0,grid_size):\n",
    "    \n",
    "    for c in range(0,grid_size):\n",
    "        \n",
    "        theta[0] = theta1[r]\n",
    "        theta[1] = theta2[c]\n",
    "        \n",
    "        J_grid[r,c] = cost_func_linear_regression(theta, X,y)\n",
    "\n",
    "cp = plt.contourf(Theta1, Theta2, J_grid)\n",
    "plt.colorbar(cp)\n",
    "\n",
    "ax.set_title('Contour Plot')\n",
    "ax.set_xlabel(r'$\\theta_1$')\n",
    "ax.set_ylabel(r'$\\theta_2$')\n",
    "plt.show();"
   ]
  },
  {
   "cell_type": "markdown",
   "metadata": {},
   "source": [
    "#### Minimizing a complex function"
   ]
  },
  {
   "cell_type": "markdown",
   "metadata": {},
   "source": [
    "**TODO:**: Review eq. I think I have small bug in hte gradient equation\n",
    "\n",
    "$\n",
    "J(\\theta_1, \\theta_2) = A(\\theta_1^2 + \\theta_1 + \\theta_2^2) + C e^{-\\frac{1}{2\\sigma^2} \\left [ (\\theta_1 - \\mu_1)^2 + (\\theta_2 - \\mu_2)^2 \\right ]}\n",
    "$\n",
    "\n",
    "$\n",
    "\\nabla_{\\theta}J(\\theta) = \\frac{\\partial}{\\partial \\theta_1 } J(\\theta) \\hat{\\theta_1} + \\frac{\\partial}{\\partial \\theta_2 } J(\\theta) \\hat{\\theta_2} \\\\\n",
    "\\frac{\\partial}{\\partial \\theta_1 } J(\\theta) = A(2\\theta_1 + 1) - \\frac{(\\theta_1 - \\mu_1)}{\\sigma^2} C e^{-\\frac{1}{2\\sigma^2} \\left [ (\\theta_1 - \\mu_1)^2 + (\\theta_2 - \\mu_2)^2 \\right ]} \\\\\n",
    "\\frac{\\partial}{\\partial \\theta_2 } J(\\theta) = - \\frac{(\\theta_2 - \\mu_2)}{\\sigma^2} C e^{-\\frac{1}{2\\sigma^2} \\left [ (\\theta_1 - \\mu_1)^2 + (\\theta_2 - \\mu_2)^2 \\right ]}  \n",
    "$\n"
   ]
  },
  {
   "cell_type": "code",
   "execution_count": 133,
   "metadata": {
    "code_folding": []
   },
   "outputs": [],
   "source": [
    "from matplotlib import cm\n",
    "\n",
    "def gen_function():\n",
    "    \n",
    "    A = 0.1\n",
    "    C = -5.0\n",
    "    A0 = 3.0 - 0.844  # Constant to make min of the cost function zero\n",
    "    \n",
    "    mu_1 = 3\n",
    "    mu_2 = 4\n",
    "    sigma = 2.0    \n",
    "    \n",
    "    def cost_function(theta, X=None, y=None):\n",
    "\n",
    "        theta1 = theta[0]\n",
    "        theta2 = theta[1]\n",
    "        \n",
    "        #A = 0.1\n",
    "        cost = A*(theta1**2 + theta1 + theta2**2) + A0\n",
    "\n",
    "        cost += C*np.exp(-0.5*((theta1-mu_1)**2 + (theta2-mu_2) ** 2)/sigma)\n",
    "\n",
    "        return cost\n",
    "\n",
    "    def gradient(theta,X,y):\n",
    "\n",
    "        theta1 = theta[0]\n",
    "        theta2 = theta[1]\n",
    "        \n",
    "        gaussian_cost = C*np.exp(-0.5*((theta1-mu_1)**2 + (theta2-mu_2) ** 2)/sigma)\n",
    "        # dJ/dtheta_1 \n",
    "        grad_theta1 = A*(2.0*theta1 + theta1) - (theta1-mu_1)/sigma/sigma* gaussian_cost\n",
    "        grad_theta2 = A*2.0*theta2 - (theta2-mu_2)/sigma/sigma* gaussian_cost\n",
    "        \n",
    "        return np.array([grad_theta1,grad_theta2])\n",
    "    \n",
    "    return cost_function, gradient\n",
    "\n",
    "cost_function, gradient = gen_function()\n",
    "\n",
    "grid_size = 25\n",
    "theta1 = np.linspace(-7, 7, grid_size)\n",
    "theta2 = np.linspace(-7, 7, grid_size)\n",
    "\n",
    "X = np.array([])\n",
    "y = np.array([])\n",
    "\n",
    "Theta1,Theta2 = np.meshgrid(theta1,theta2)\n",
    "\n",
    "J_grid = np.zeros((grid_size,grid_size))\n",
    "theta = np.array([0.0,0.0]).T\n",
    "for r in range(0,grid_size):\n",
    "    \n",
    "    for c in range(0,grid_size):\n",
    "        \n",
    "        theta[0] = theta1[r]\n",
    "        theta[1] = theta2[c]\n",
    "        \n",
    "        J_grid[r,c] = cost_function(theta, X,y)"
   ]
  },
  {
   "cell_type": "code",
   "execution_count": 134,
   "metadata": {},
   "outputs": [
    {
     "data": {
      "text/plain": [
       "-0.16555665024973987"
      ]
     },
     "execution_count": 134,
     "metadata": {},
     "output_type": "execute_result"
    },
    {
     "data": {
      "text/plain": [
       "12.655999999999993"
      ]
     },
     "execution_count": 134,
     "metadata": {},
     "output_type": "execute_result"
    }
   ],
   "source": [
    "J_grid.min()\n",
    "\n",
    "J_grid.max()"
   ]
  },
  {
   "cell_type": "code",
   "execution_count": 135,
   "metadata": {},
   "outputs": [
    {
     "data": {
      "image/png": "[encoded data removed]",
      "text/plain": [
       "<Figure size 432x288 with 1 Axes>"
      ]
     },
     "metadata": {
      "needs_background": "light"
     },
     "output_type": "display_data"
    }
   ],
   "source": [
    "fig = plt.subplot(121)\n",
    "ax = plt.axes(projection='3d')\n",
    "ax.contour3D(Theta1, Theta2, J_grid, 50, cmap=cm.coolwarm)\n",
    "ax.set_xlabel(r'$\\theta_1$')\n",
    "ax.set_ylabel(r'$\\theta_2$')\n",
    "ax.set_zlabel(r'$J(\\theta)$');"
   ]
  },
  {
   "cell_type": "code",
   "execution_count": 136,
   "metadata": {},
   "outputs": [
    {
     "data": {
      "image/png": "[encoded data removed]",
      "text/plain": [
       "<Figure size 432x288 with 2 Axes>"
      ]
     },
     "metadata": {
      "needs_background": "light"
     },
     "output_type": "display_data"
    }
   ],
   "source": [
    "cp = plt.contourf(Theta1, Theta2, J_grid)\n",
    "plt.colorbar(cp)\n",
    "\n",
    "ax.set_title('Contour Plot')\n",
    "ax.set_xlabel(r'$\\theta_1$')\n",
    "ax.set_ylabel(r'$\\theta_2$')\n",
    "plt.show();"
   ]
  },
  {
   "cell_type": "code",
   "execution_count": 143,
   "metadata": {},
   "outputs": [
    {
     "name": "stdout",
     "output_type": "stream",
     "text": [
      "\n",
      "Initial Guess it: 0 => theta: [7. 2.]; grad: [2.13368973 0.38315513]; cost: 8.12\n",
      "it: 199 => theta: [2.29825875 3.3227869 ]; grad: [-0.00215604 -0.00294209]; cost: 0.08\n"
     ]
    }
   ],
   "source": [
    "# %%time\n",
    "lr = 0.05\n",
    "n_iter = 200\n",
    "\n",
    "X_dummy = np.zeros((3,2))\n",
    "y_dummy = np.zeros(3)\n",
    "\n",
    "theta0 = np.array([7.0, 2.0])\n",
    "\n",
    "theta, history = gradient_descent(X_dummy, y_dummy, cost_function, gradient, lr, n_iter, theta0)\n",
    "\n",
    "print()\n",
    "theta0 = history['theta'][0]\n",
    "grad0 =  history['grad'][0]\n",
    "cost0 = history['cost'][0]\n",
    "\n",
    "print(f\"Initial Guess it: 0 => theta: {theta0}; grad: {grad0}; cost: {cost0:.2f}\")\n",
    "\n",
    "it = n_iter -1\n",
    "theta = history['theta'][it]\n",
    "grad =  history['grad'][it]\n",
    "cost = history['cost'][it]\n",
    "\n",
    "print(f\"it: {it} => theta: {theta}; grad: {grad}; cost: {cost:.2f}\")"
   ]
  },
  {
   "cell_type": "code",
   "execution_count": 144,
   "metadata": {},
   "outputs": [
    {
     "data": {
      "image/png": "[encoded data removed]",
      "text/plain": [
       "<Figure size 432x288 with 1 Axes>"
      ]
     },
     "metadata": {
      "needs_background": "light"
     },
     "output_type": "display_data"
    }
   ],
   "source": [
    "fig,ax = plt.subplots()\n",
    "_ = ax.plot(range(n_iter),history['cost'],'b.',label='better lr');\n",
    "ax.legend();"
   ]
  },
  {
   "cell_type": "code",
   "execution_count": 145,
   "metadata": {},
   "outputs": [
    {
     "data": {
      "image/png": "[encoded data removed]",
      "text/plain": [
       "<Figure size 432x288 with 1 Axes>"
      ]
     },
     "metadata": {
      "needs_background": "light"
     },
     "output_type": "display_data"
    }
   ],
   "source": [
    "contours = plt.contourf(Theta1, Theta2, J_grid, 11)\n",
    "\n",
    "thetas = [ history['theta'][k] for k in range(1, n_iter,2) ] \n",
    "for j in range(1,len(thetas)):\n",
    "    _ = plt.annotate('', xy=thetas[j], xytext=thetas[j-1],\n",
    "                   arrowprops={'arrowstyle': '->', 'color': 'r', 'lw': 1},\n",
    "                   va='center', ha='center');"
   ]
  },
  {
   "cell_type": "markdown",
   "metadata": {},
   "source": [
    "## Stochastic Gradient Descent\n",
    "\n",
    "refs: https://towardsdatascience.com/learning-parameters-part-3-ee8558f65dd7\n",
    "\n",
    "In stochastic Gradient descent, instead of use the entire data $X$ to compute the gradients, we randonly peak one sample and use it to have an estimation of the gradients at that point. The estimation will not be accurate, but in average the algorithm will converge to an optimal solution. The lagorithm is ilustrade bellow:\n",
    "\n",
    "* Start with initi guess: $theta$\n",
    "\n",
    "* for each iteration\n",
    "\n",
    "    1. Sample a mini batch of $m$ samples: $X_mini: {X_1, X_2, .., X_m}$ and $y_1, y_2, ..., y_m$\n",
    "    1. Compute the gradients\n",
    "    1. update the parameters $\\theta$\n"
   ]
  },
  {
   "cell_type": "code",
   "execution_count": 325,
   "metadata": {},
   "outputs": [
    {
     "name": "stdout",
     "output_type": "stream",
     "text": [
      "True parameters: [ -8.85178353 198.3533707 ]\n"
     ]
    },
    {
     "data": {
      "text/plain": [
       "(50, 1)"
      ]
     },
     "execution_count": 325,
     "metadata": {},
     "output_type": "execute_result"
    },
    {
     "data": {
      "text/plain": [
       "(50,)"
      ]
     },
     "execution_count": 325,
     "metadata": {},
     "output_type": "execute_result"
    },
    {
     "data": {
      "image/png": "[encoded data removed]",
      "text/plain": [
       "<Figure size 432x288 with 2 Axes>"
      ]
     },
     "metadata": {
      "needs_background": "light"
     },
     "output_type": "display_data"
    }
   ],
   "source": [
    "from scipy import stats \n",
    "\n",
    "X, y = make_regression(n_samples = 50, \n",
    "                       n_features=1, \n",
    "                       n_informative=1, \n",
    "                       noise=1,\n",
    "                        coef=False,\n",
    "                       random_state=1)\n",
    "\n",
    "X = np.interp(X, (X.min(), X.max()), (-1.0, 1.0))\n",
    "#plt.boxplot(y)\n",
    "\n",
    "x = X.flatten()\n",
    "slope, intercept,_,_,_ = stats.linregress(x,y)\n",
    "\n",
    "theta_true = np.zeros(2)\n",
    "theta_true[1] = slope\n",
    "theta_true[0] = intercept\n",
    "\n",
    "print(f\"True parameters: {theta_true}\")\n",
    "\n",
    "X.shape\n",
    "y.shape\n",
    "\n",
    "_ = plt.subplot(121);\n",
    "_ = plt.scatter(X,y);\n",
    "_ = plt.subplot(122);\n",
    "_ = plt.boxplot(y);\n",
    "\n",
    "plt.show()"
   ]
  },
  {
   "cell_type": "code",
   "execution_count": 316,
   "metadata": {},
   "outputs": [
    {
     "name": "stdout",
     "output_type": "stream",
     "text": [
      "True parameters: 32.69\n"
     ]
    },
    {
     "data": {
      "text/plain": [
       "(300, 1)"
      ]
     },
     "execution_count": 316,
     "metadata": {},
     "output_type": "execute_result"
    },
    {
     "data": {
      "text/plain": [
       "(300,)"
      ]
     },
     "execution_count": 316,
     "metadata": {},
     "output_type": "execute_result"
    },
    {
     "data": {
      "text/plain": [
       "<matplotlib.collections.PathCollection at 0x7f30c9415820>"
      ]
     },
     "execution_count": 316,
     "metadata": {},
     "output_type": "execute_result"
    },
    {
     "data": {
      "image/png": "[encoded data removed]",
      "text/plain": [
       "<Figure size 432x288 with 1 Axes>"
      ]
     },
     "metadata": {
      "needs_background": "light"
     },
     "output_type": "display_data"
    }
   ],
   "source": [
    "X, y, theta_true = make_regression(n_samples = 300, \n",
    "                       n_features=1, \n",
    "                       n_informative=1, \n",
    "                       noise=1,\n",
    "                        coef=True,\n",
    "                       random_state=2021)\n",
    "\n",
    "print(f\"True parameters: {theta_true:.2f}\")\n",
    "\n",
    "X.shape\n",
    "y.shape\n",
    "plt.scatter(X,y)"
   ]
  },
  {
   "cell_type": "code",
   "execution_count": 317,
   "metadata": {},
   "outputs": [],
   "source": [
    "def stochastic_gradient_descent(X,y, cost_func, gradient_func, \n",
    "                                learning_rate = 0.01, n_iterations = 100, \n",
    "                                init_guess=None):\n",
    "    \n",
    "    n = X.shape[0] # training size\n",
    "    d = X.shape[1]  # number of dimensions or paramters\n",
    "    \n",
    "    theta_history = np.zeros((n_iterations,d))\n",
    "    grad_history = np.zeros((n_iterations,d))\n",
    "    cost_history = np.zeros(n_iterations)\n",
    "    \n",
    "    # init guess\n",
    "    if init_guess is None:\n",
    "        theta = np.random.randn(d)\n",
    "        \n",
    "    else:\n",
    "        theta = init_guess\n",
    "\n",
    "    cost_at_theta = cost_func(theta,X,y)\n",
    "    gradient_at_theta = gradient_func(theta,X,y)\n",
    "    \n",
    "    theta_history[0, :] = theta.T\n",
    "    grad_history[0,:] = gradient_at_theta.T\n",
    "    cost_history[0] = cost_at_theta\n",
    "    \n",
    "    #print(f\"theta0: {theta}\")\n",
    "    for it in range(1,n_iterations):\n",
    "\n",
    "        cost = 0.0\n",
    "        \n",
    "        # take n random samples of size 1 of the data \n",
    "        for i in range(n):\n",
    "    \n",
    "            rand_ind = np.random.randint(0, n)\n",
    "            X_i = X[rand_ind, :].reshape(1, X.shape[1])\n",
    "            y_i = y[rand_ind]#.reshape(1, 1)\n",
    "            \n",
    "            #print(f\"{it}, {rand_ind}: => X_i.shape: {X_i.shape};y_i: {y_i.shape}; cost: {cost} \")\n",
    "\n",
    "            # compute the gradients and cost function\n",
    "            cost_at_theta = cost_func(theta,X_i,y_i)\n",
    "            gradient_at_theta = gradient_func(theta,X_i,y_i)  # gradient approximation using 1 data point\n",
    "\n",
    "            # update parameters\n",
    "            dtheta = -learning_rate* gradient_at_theta/n\n",
    "            theta = theta + dtheta\n",
    "            \n",
    "            cost += cost_at_theta\n",
    "            \n",
    "        # log history for oploting\n",
    "        theta_history[it, :] = theta.T\n",
    "        grad_history[it,:] = gradient_at_theta.T\n",
    "        cost_history[it] = cost/2.0/n\n",
    "        \n",
    "        #print(f\"{it}: => theta: {theta.T}; grad: {gradient_at_theta.T}; cost: {cost_at_theta} \")\n",
    "        \n",
    "    history = {'theta': theta_history, \"cost\": cost_history, \"grad\": grad_history}\n",
    "\n",
    "    return theta, history"
   ]
  },
  {
   "cell_type": "code",
   "execution_count": 324,
   "metadata": {},
   "outputs": [
    {
     "ename": "ValueError",
     "evalue": "shapes (50,1) and (2,) not aligned: 1 (dim 1) != 2 (dim 0)",
     "output_type": "error",
     "traceback": [
      "\u001b[0;31m---------------------------------------------------------------------------\u001b[0m",
      "\u001b[0;31mValueError\u001b[0m                                Traceback (most recent call last)",
      "\u001b[0;32m<timed exec>\u001b[0m in \u001b[0;36m<module>\u001b[0;34m\u001b[0m\n",
      "\u001b[0;32m<ipython-input-317-36402249e873>\u001b[0m in \u001b[0;36mstochastic_gradient_descent\u001b[0;34m(X, y, cost_func, gradient_func, learning_rate, n_iterations, init_guess)\u001b[0m\n\u001b[1;32m     17\u001b[0m         \u001b[0mtheta\u001b[0m \u001b[0;34m=\u001b[0m \u001b[0minit_guess\u001b[0m\u001b[0;34m\u001b[0m\u001b[0;34m\u001b[0m\u001b[0m\n\u001b[1;32m     18\u001b[0m \u001b[0;34m\u001b[0m\u001b[0m\n\u001b[0;32m---> 19\u001b[0;31m     \u001b[0mcost_at_theta\u001b[0m \u001b[0;34m=\u001b[0m \u001b[0mcost_func\u001b[0m\u001b[0;34m(\u001b[0m\u001b[0mtheta\u001b[0m\u001b[0;34m,\u001b[0m\u001b[0mX\u001b[0m\u001b[0;34m,\u001b[0m\u001b[0my\u001b[0m\u001b[0;34m)\u001b[0m\u001b[0;34m\u001b[0m\u001b[0;34m\u001b[0m\u001b[0m\n\u001b[0m\u001b[1;32m     20\u001b[0m     \u001b[0mgradient_at_theta\u001b[0m \u001b[0;34m=\u001b[0m \u001b[0mgradient_func\u001b[0m\u001b[0;34m(\u001b[0m\u001b[0mtheta\u001b[0m\u001b[0;34m,\u001b[0m\u001b[0mX\u001b[0m\u001b[0;34m,\u001b[0m\u001b[0my\u001b[0m\u001b[0;34m)\u001b[0m\u001b[0;34m\u001b[0m\u001b[0;34m\u001b[0m\u001b[0m\n\u001b[1;32m     21\u001b[0m \u001b[0;34m\u001b[0m\u001b[0m\n",
      "\u001b[0;32m<ipython-input-236-3bf0eb9b637f>\u001b[0m in \u001b[0;36mcost_func_linear_regression\u001b[0;34m(theta, X, y)\u001b[0m\n\u001b[1;32m      7\u001b[0m     \u001b[0mn\u001b[0m \u001b[0;34m=\u001b[0m \u001b[0mX\u001b[0m\u001b[0;34m.\u001b[0m\u001b[0mshape\u001b[0m\u001b[0;34m[\u001b[0m\u001b[0;36m0\u001b[0m\u001b[0;34m]\u001b[0m\u001b[0;34m\u001b[0m\u001b[0;34m\u001b[0m\u001b[0m\n\u001b[1;32m      8\u001b[0m \u001b[0;34m\u001b[0m\u001b[0m\n\u001b[0;32m----> 9\u001b[0;31m     \u001b[0mz\u001b[0m \u001b[0;34m=\u001b[0m \u001b[0mnp\u001b[0m\u001b[0;34m.\u001b[0m\u001b[0mdot\u001b[0m\u001b[0;34m(\u001b[0m\u001b[0mX\u001b[0m\u001b[0;34m,\u001b[0m\u001b[0mtheta\u001b[0m\u001b[0;34m)\u001b[0m \u001b[0;34m-\u001b[0m \u001b[0my\u001b[0m\u001b[0;34m\u001b[0m\u001b[0;34m\u001b[0m\u001b[0m\n\u001b[0m\u001b[1;32m     10\u001b[0m \u001b[0;34m\u001b[0m\u001b[0m\n\u001b[1;32m     11\u001b[0m     \u001b[0;32mreturn\u001b[0m \u001b[0mnp\u001b[0m\u001b[0;34m.\u001b[0m\u001b[0mdot\u001b[0m\u001b[0;34m(\u001b[0m\u001b[0mz\u001b[0m\u001b[0;34m.\u001b[0m\u001b[0mT\u001b[0m\u001b[0;34m,\u001b[0m\u001b[0mz\u001b[0m\u001b[0;34m)\u001b[0m\u001b[0;34m/\u001b[0m\u001b[0;36m2.0\u001b[0m\u001b[0;34m/\u001b[0m\u001b[0mn\u001b[0m\u001b[0;34m\u001b[0m\u001b[0;34m\u001b[0m\u001b[0m\n",
      "\u001b[0;32m<__array_function__ internals>\u001b[0m in \u001b[0;36mdot\u001b[0;34m(*args, **kwargs)\u001b[0m\n",
      "\u001b[0;31mValueError\u001b[0m: shapes (50,1) and (2,) not aligned: 1 (dim 1) != 2 (dim 0)"
     ]
    }
   ],
   "source": [
    "%%time\n",
    "lr = 0.7\n",
    "n_iter = 100\n",
    "\n",
    "init_guess = np.array([-200, 300])\n",
    "\n",
    "theta, history = stochastic_gradient_descent(X, y, cost_func_linear_regression, gradient_linear_regression, \n",
    "                                             lr, n_iter, init_guess)\n",
    "\n",
    "print()\n",
    "theta0 = history['theta'][0]\n",
    "grad0 =  history['grad'][0]\n",
    "cost0 = history['cost'][0]\n",
    "\n",
    "print(f\"Initial Guess it: 0 => theta: {theta0}; grad: {grad0}; cost: {cost0:.2f}\")\n",
    "\n",
    "it = n_iter -1\n",
    "theta = history['theta'][it]\n",
    "grad =  history['grad'][it]\n",
    "cost = history['cost'][it]\n",
    "\n",
    "print(f\"it: {it} => theta: {theta}; grad: {grad}; cost: {cost:.2f}\")\n",
    "print(f\"Expected theta:{theta_true:.2f}\")"
   ]
  },
  {
   "cell_type": "code",
   "execution_count": 319,
   "metadata": {},
   "outputs": [
    {
     "data": {
      "image/png": "[encoded data removed]",
      "text/plain": [
       "<Figure size 432x288 with 1 Axes>"
      ]
     },
     "metadata": {
      "needs_background": "light"
     },
     "output_type": "display_data"
    }
   ],
   "source": [
    "fig,ax = plt.subplots()\n",
    "_ = ax.plot(range(n_iter),history['cost'],'b.',label='better lr');\n",
    "# _ = ax.set_ylim([0, 25])\n",
    "ax.legend();"
   ]
  },
  {
   "cell_type": "code",
   "execution_count": 320,
   "metadata": {},
   "outputs": [
    {
     "data": {
      "image/png": "[encoded data removed]",
      "text/plain": [
       "<Figure size 432x288 with 1 Axes>"
      ]
     },
     "metadata": {
      "needs_background": "light"
     },
     "output_type": "display_data"
    }
   ],
   "source": [
    "fig,ax = plt.subplots()\n",
    "_ = ax.plot(range(n_iter),history['theta'],'b.',label='better lr');\n",
    "# _ = ax.set_ylim([0, 25])\n",
    "ax.legend();"
   ]
  },
  {
   "cell_type": "code",
   "execution_count": null,
   "metadata": {},
   "outputs": [],
   "source": [
    "thetas = history['theta']\n",
    "theta_min = np.min(thetas,axis=0)\n",
    "theta_max = np.max(thetas,axis=0)\n",
    "\n",
    "theta1,theta2 = np.meshgrid(np.linspace(theta_min[0],theta_max[0],n_iter),np.linspace(theta_min[1],theta_max[1],n_iter))\n",
    "\n",
    "grads = \n",
    "\n",
    "# gradients\n",
    "u = np.array([ grad[0]/np.norm(grad) for grad in history['grad']])\n",
    "v = np.array([ grad[1]/np.norm(grad) for grad in history['grad']])\n",
    "\n",
    "fig, ax = plt.subplots(1, 1)\n",
    "ax.set_aspect(1)\n",
    "ax.plot(theta1, theta2, c='k')\n",
    "ax.quiver(x, y, u, v, units='xy', scale=0.5, color='gray')\n",
    "ax.contour(x, y, z, 10, cmap='jet', lw=2)"
   ]
  },
  {
   "cell_type": "code",
   "execution_count": null,
   "metadata": {},
   "outputs": [],
   "source": []
  },
  {
   "cell_type": "code",
   "execution_count": null,
   "metadata": {},
   "outputs": [],
   "source": [
    "n = 3\n",
    "d = 2\n",
    "\n",
    "theta_history = np.zeros((n,d))\n",
    "\n",
    "theta = np.random.randn(d)\n",
    "\n",
    "theta.shape\n",
    "theta\n",
    "\n",
    "z = np.dot(X,theta)\n",
    "\n",
    "z.shape\n",
    "\n",
    "theta_history.shape\n",
    "\n",
    "theta_history[0,:] = theta.T\n",
    "\n",
    "\n",
    "theta_history"
   ]
  },
  {
   "cell_type": "code",
   "execution_count": null,
   "metadata": {},
   "outputs": [],
   "source": []
  }
 ],
 "metadata": {
  "kernelspec": {
   "display_name": "Python 3",
   "language": "python",
   "name": "python3"
  },
  "language_info": {
   "codemirror_mode": {
    "name": "ipython",
    "version": 3
   },
   "file_extension": ".py",
   "mimetype": "text/x-python",
   "name": "python",
   "nbconvert_exporter": "python",
   "pygments_lexer": "ipython3",
   "version": "3.8.3"
  },
  "toc": {
   "base_numbering": 1,
   "nav_menu": {},
   "number_sections": true,
   "sideBar": true,
   "skip_h1_title": true,
   "title_cell": "Table of Contents",
   "title_sidebar": "Contents",
   "toc_cell": false,
   "toc_position": {
    "height": "calc(100% - 180px)",
    "left": "10px",
    "top": "150px",
    "width": "369.594px"
   },
   "toc_section_display": true,
   "toc_window_display": true
  },
  "varInspector": {
   "cols": {
    "lenName": 16,
    "lenType": 16,
    "lenVar": 40
   },
   "kernels_config": {
    "python": {
     "delete_cmd_postfix": "",
     "delete_cmd_prefix": "del ",
     "library": "var_list.py",
     "varRefreshCmd": "print(var_dic_list())"
    },
    "r": {
     "delete_cmd_postfix": ") ",
     "delete_cmd_prefix": "rm(",
     "library": "var_list.r",
     "varRefreshCmd": "cat(var_dic_list()) "
    }
   },
   "types_to_exclude": [
    "module",
    "function",
    "builtin_function_or_method",
    "instance",
    "_Feature"
   ],
   "window_display": false
  }
 },
 "nbformat": 4,
 "nbformat_minor": 4
}
