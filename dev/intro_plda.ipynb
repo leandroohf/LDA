{
 "cells": [
  {
   "cell_type": "markdown",
   "metadata": {},
   "source": [
    "# Probabilistic Linear Discriminant Analysis\n",
    "\n",
    "It is called generative model because the model generates x (the sample of an specific class)\n",
    "\n",
    "Transforms an X into a space where the within-class variance is unit and between-class variance is diagonalized.\n",
    "\n",
    "PLDA is a probability generation model originally proposed for solving face recognition and verification problems [3, 5], and has since been widely used in pattern recognition tasks such as voiceprint recognition.\n",
    "\n",
    "PLDA assumes that the centers are subject to a continuous distribution (Gaussian distribution). Therefore, PLDA can be extended to unknown categories for identification and authentication of unknown categories.\n",
    "\n",
    "Assumed data x Satisfy the following probability relationships:\n",
    "\n",
    "P(x|y) = N(x|y,\\Phi_w) and P(y) = N(y|m,\\Phi_b)\n",
    "\n",
    "\n",
    "The probability of not belonging to any known class is: \n",
    "\n",
    "P(u_new| 0) = N(u_new| 0, \\Psi + I)\n",
    "\n",
    "It is comonly used in biometric authentication\n",
    "Are the best performance for face n speaker \n",
    "\n",
    "Motivations\n",
    "\n",
    "refs: https://ravisoji.com/assets/papers/Ioffe2006PLDA.pdf (abstract)\n",
    "\n",
    "1. Fisher LDA is common used in object recognition for feature extraction, but do not address the problem of how to use these features for recognition.\n",
    "2. latent variables of PLDA (PLDA components) represent both: the class of the object and the within variability  variability class of the object.\n",
    "3. Automatic give more wieght of the features with the most discriminativy power\n",
    "4. Can build a model of unseen class with only one example or  can combine multiple examples for a better representation of the class\n",
    "\n",
    "\n",
    "\n",
    "Assumptions of PLDA:\n",
    "\n",
    "1. All classes are normal distributed: $P(x \\mid y) = N(x \\mid y,\\Phi_w)$\n",
    "     where y is label\n",
    "2. All class has the same covariance matrix $\\Phi_w$\n",
    "3. n_k = n const: Each class has the same number of samples. Case it is not true, resample the class in order to have all class with the same number of observations\n",
    "\n",
    "The solution has the constraints:\n",
    "1. $\\Phi_w$ is positive defined\n",
    "2. The priori $P(y) = N(y \\mid 0,\\Phi_b)$ is normal distributed\n",
    "3. $\\Phi_b$ is semi-positive defined\n",
    "\n",
    "Application:\n",
    "\n",
    "* Speaker recognition\n",
    "* Face recogintion\n",
    "\n",
    "We show applications to classification, hypothesis testing,\n",
    "class inference, and clustering, on classes not observed during training.\n",
    "\n",
    "###  Small discussion about how LDA works (Can be skipped)\n",
    "\n",
    "The goal of (PLDA) is to find best new set of axis that maximizes the distance between the means of the classes and also minimize overlap between the projected classes (confusion region). \n",
    "\n",
    "The figures below describe LDA being applied to a bidimensional dataset containing 2 classes. \n",
    "\n",
    "The dataset is a set of $n$ d-dimensional samples $X = \\{x_1, x_2, ..., x_n\\}$ already labeled in 2 groups: \n",
    "$X^{(k)} = \\{ x_1^{(k)},  x_2^{(k)}, ..., x_{n_k}^{(k)} \\}$ of size $n_k$ for $k = 1,2$ where $x_i^{(k)}$ is a vector of dimension $d$.\n",
    "\n",
    "\n",
    "In order to do that, Fisher proposed to maximize the ratio \"scattter between classes/scatter within classes\" that is expressed by the Cost function:\n",
    "\n",
    "$\n",
    "J(v) = \\frac{v^t S_{b} v}{ v^t S_{v}  v}\n",
    "$\n",
    "\n",
    "where:\n",
    "\n",
    "* $S_b= \\frac{1}{N} \\sum_k=1^K n_k (m_k - m)( m_k - m)^t$ :  between-class covariance/satter matrix. (Can be understood as measure of between class spread)\n",
    "    \n",
    "* $S_{w} = \\frac{1}{N} \\sum_k=1^K S_k$ : within-class covariance/scatter matrices. (Can be understood as measure of within class spread or the sum of the spread matrix of each class) \n",
    "\n",
    "$ m_k$ is the mean of each class. $m$ is the global mean. and $S_k$ is the apread matrix of each class giben by:\n",
    "\n",
    "$\n",
    "S_k = \\sum_{x_i\\in X^{(k)}} ( x_i^{(k)} -  m_k) ( x_i^{(k)} - m_k)^t  \n",
    "$\n",
    "\n",
    "The spread matrix are related to the covariance matrx by the equation:\n",
    "\n",
    "\n",
    "$\n",
    "\\Sigma_k = \\frac{1}{N_k -1}S_k  \n",
    "$\n",
    "\n",
    "\n",
    "The total scatter is given by:\n",
    "\n",
    "$\n",
    "S_t = S_W + S_B\n",
    "$\n",
    "\n",
    "But can also be expressed as:\n",
    "\n",
    "$\n",
    "S_t = \\sum_{j=1}^{n}(x_j - m)(x_j - m)^t \\equiv \\sum_{k=1}^2 \\sum_{i=1}^{n_k}(x_i^{(k)} - m)(x_i^{(k)} - m)^t = S_w + S_b\n",
    "$\n",
    "\n",
    "$\n",
    "n = \\sum_{k=1}^2 n_k\n",
    "$\n",
    "\n",
    "Can be proved in  [here](refs/ea71fbef3b55b69e142897fadf43b3269463.pdf) and [here](refs/Dimensionality2.pdf) that maximize $J(v)$ is equivalent to find the solution of the eigenvalue problem for the matrix:\n",
    "\n",
    "$\n",
    "A =  S_{w}^{-1} S_b\n",
    "$\n",
    "\n",
    "$\n",
    "A{v} =  \\lambda {v}\n",
    "$\n",
    "\n",
    "where:\n",
    "* $v$ is the eigenvector and define the new axes\n",
    "* $\\lambda$ is the eigenvalue\n",
    "\n",
    "### Summarizing the LDA approach in 5 steps\n",
    "\n",
    "1. Compute Fisher LDA parameters \n",
    "2. Update parameters \n",
    "    * between-class: measure of dispersion between groups or classes\n",
    "    * within-class scatter matrix: measure of dispersion in the class or group\n",
    "3. Reduce dimensionality\n",
    "\n"
   ]
  },
  {
   "cell_type": "code",
   "execution_count": 127,
   "metadata": {},
   "outputs": [
    {
     "ename": "ModuleNotFoundError",
     "evalue": "No module named 'bob'",
     "output_type": "error",
     "traceback": [
      "\u001b[0;31m---------------------------------------------------------------------------\u001b[0m",
      "\u001b[0;31mModuleNotFoundError\u001b[0m                       Traceback (most recent call last)",
      "\u001b[0;32m<ipython-input-127-3f76de715f01>\u001b[0m in \u001b[0;36m<module>\u001b[0;34m()\u001b[0m\n\u001b[1;32m      7\u001b[0m \u001b[0mnp\u001b[0m\u001b[0;34m.\u001b[0m\u001b[0mset_printoptions\u001b[0m\u001b[0;34m(\u001b[0m\u001b[0mprecision\u001b[0m\u001b[0;34m=\u001b[0m\u001b[0;36m4\u001b[0m\u001b[0;34m)\u001b[0m\u001b[0;34m\u001b[0m\u001b[0m\n\u001b[1;32m      8\u001b[0m \u001b[0;34m\u001b[0m\u001b[0m\n\u001b[0;32m----> 9\u001b[0;31m \u001b[0;32mimport\u001b[0m \u001b[0mbob\u001b[0m\u001b[0;34m.\u001b[0m\u001b[0mlearn\u001b[0m\u001b[0;34m.\u001b[0m\u001b[0mem\u001b[0m\u001b[0;34m\u001b[0m\u001b[0m\n\u001b[0m\u001b[1;32m     10\u001b[0m \u001b[0;34m\u001b[0m\u001b[0m\n\u001b[1;32m     11\u001b[0m \u001b[0;32mfrom\u001b[0m \u001b[0msklearn\u001b[0m \u001b[0;32mimport\u001b[0m \u001b[0mdatasets\u001b[0m\u001b[0;34m\u001b[0m\u001b[0m\n",
      "\u001b[0;31mModuleNotFoundError\u001b[0m: No module named 'bob'"
     ]
    }
   ],
   "source": [
    "import numpy as np\n",
    "import pandas as pd\n",
    "import random as rand\n",
    "import math\n",
    "import matplotlib.pyplot as plt\n",
    "\n",
    "np.set_printoptions(precision=4)\n",
    "\n",
    "import bob.learn.em\n",
    "\n",
    "from sklearn import datasets\n",
    "from sklearn.discriminant_analysis import LinearDiscriminantAnalysis\n",
    "from sklearn.decomposition import PCA as sklearnPCA\n",
    "\n",
    "from IPython.core.interactiveshell import InteractiveShell\n",
    "InteractiveShell.ast_node_interactivity = \"all\"\n",
    "\n",
    "%matplotlib inline"
   ]
  },
  {
   "cell_type": "markdown",
   "metadata": {},
   "source": [
    "load data"
   ]
  },
  {
   "cell_type": "code",
   "execution_count": 102,
   "metadata": {
    "code_folding": [
     2
    ]
   },
   "outputs": [
    {
     "data": {
      "image/png": "[encoded data removed]",
      "text/plain": [
       "<matplotlib.figure.Figure at 0x1a244cf128>"
      ]
     },
     "metadata": {},
     "output_type": "display_data"
    },
    {
     "data": {
      "image/png": "[encoded data removed]",
      "text/plain": [
       "<matplotlib.figure.Figure at 0x1a233a32b0>"
      ]
     },
     "metadata": {},
     "output_type": "display_data"
    },
    {
     "data": {
      "text/plain": [
       "array([0, 1, 2, 3, 4])"
      ]
     },
     "execution_count": 102,
     "metadata": {},
     "output_type": "execute_result"
    },
    {
     "data": {
      "text/plain": [
       "500"
      ]
     },
     "execution_count": 102,
     "metadata": {},
     "output_type": "execute_result"
    },
    {
     "data": {
      "text/plain": [
       "100"
      ]
     },
     "execution_count": 102,
     "metadata": {},
     "output_type": "execute_result"
    },
    {
     "data": {
      "text/html": [
       "<div>\n",
       "<style scoped>\n",
       "    .dataframe tbody tr th:only-of-type {\n",
       "        vertical-align: middle;\n",
       "    }\n",
       "\n",
       "    .dataframe tbody tr th {\n",
       "        vertical-align: top;\n",
       "    }\n",
       "\n",
       "    .dataframe thead th {\n",
       "        text-align: right;\n",
       "    }\n",
       "</style>\n",
       "<table border=\"1\" class=\"dataframe\">\n",
       "  <thead>\n",
       "    <tr style=\"text-align: right;\">\n",
       "      <th></th>\n",
       "      <th>x</th>\n",
       "      <th>y</th>\n",
       "      <th>label</th>\n",
       "    </tr>\n",
       "  </thead>\n",
       "  <tbody>\n",
       "    <tr>\n",
       "      <th>419</th>\n",
       "      <td>70.666011</td>\n",
       "      <td>71.299763</td>\n",
       "      <td>4</td>\n",
       "    </tr>\n",
       "    <tr>\n",
       "      <th>98</th>\n",
       "      <td>-78.912518</td>\n",
       "      <td>-80.436834</td>\n",
       "      <td>0</td>\n",
       "    </tr>\n",
       "    <tr>\n",
       "      <th>235</th>\n",
       "      <td>49.556942</td>\n",
       "      <td>28.715026</td>\n",
       "      <td>2</td>\n",
       "    </tr>\n",
       "    <tr>\n",
       "      <th>421</th>\n",
       "      <td>74.141707</td>\n",
       "      <td>60.310675</td>\n",
       "      <td>4</td>\n",
       "    </tr>\n",
       "    <tr>\n",
       "      <th>166</th>\n",
       "      <td>47.121866</td>\n",
       "      <td>62.181778</td>\n",
       "      <td>1</td>\n",
       "    </tr>\n",
       "  </tbody>\n",
       "</table>\n",
       "</div>"
      ],
      "text/plain": [
       "             x          y  label\n",
       "419  70.666011  71.299763      4\n",
       "98  -78.912518 -80.436834      0\n",
       "235  49.556942  28.715026      2\n",
       "421  74.141707  60.310675      4\n",
       "166  47.121866  62.181778      1"
      ]
     },
     "execution_count": 102,
     "metadata": {},
     "output_type": "execute_result"
    }
   ],
   "source": [
    "%run ../simulated_plda_data.ipynb\n",
    "\n",
    "X = df[['x','y']].values\n",
    "N = X.shape[0]\n",
    "y = df.label\n",
    "\n",
    "df.label.unique()\n",
    "\n",
    "\n",
    "X1 = df.loc[df.label ==1,['x','y']].values\n",
    "nk = X1.shape[0]\n",
    "\n",
    "N\n",
    "nk\n",
    "\n",
    "df.sample(5).head(5)"
   ]
  },
  {
   "cell_type": "code",
   "execution_count": 103,
   "metadata": {
    "code_folding": []
   },
   "outputs": [],
   "source": [
    "def estimate_gaussian_parameters(Xk):\n",
    "\n",
    "    mk = np.mean(Xk,axis=0)\n",
    "    Sk = np.cov(Xk[:,0],Xk[:,1])\n",
    "    \n",
    "    return mk, Sk\n",
    "\n",
    "def get_plda_paramaters(Xk,N):\n",
    "    \n",
    "    Nk = Xk.shape[0]\n",
    "    \n",
    "    pik = Nk/N\n",
    "    \n",
    "    mk, Sk = estimate_gaussian_parameters(Xk)\n",
    "    \n",
    "    Sk_inv = np.linalg.inv(Sk)\n",
    "    \n",
    "    return Sk_inv, pik\n",
    "\n",
    "def lda_score(X_new,mk, Sk,Sk_inv, pik):\n",
    "    \n",
    "    scorek = -0.2*np.log(np.linalg.det(Sk)) \n",
    "    uk = X_new - mk\n",
    "    Ak = np.matmul(Sk_inv,uk.T)\n",
    "    scorek = scorek - 0.5*np.matmul(uk,Ak) \n",
    "    scorek += np.log(pik)\n",
    "    \n",
    "    return scorek\n",
    "\n",
    "def compute_scatter_matrixes(X,labels,nk):\n",
    "    \n",
    "    d = X.shape[1]\n",
    "    N = X.shape[0]\n",
    "    \n",
    "    m = np.mean(X,axis=0)\n",
    "    \n",
    "    Sw = np.zeros((d,d))\n",
    "    Sb = np.zeros((d,d))\n",
    "    \n",
    "    for label in labels:\n",
    "    \n",
    "        Xk = np.squeeze(X[np.argwhere(y == label)])\n",
    "        mk, Sk = estimate_gaussian_parameters(Xk)\n",
    "        \n",
    "        # within spread matrix\n",
    "        Sw = np.add(Sw,(nk -1)*Sk/N)\n",
    "        \n",
    "        # between spread matrix\n",
    "        dmk = np.add(mk,-m)\n",
    "        dmk = dmk[np.newaxis].transpose()\n",
    "\n",
    "        Sb = np.add(Sb, nk/N*np.matmul(dmk, dmk.transpose()))\n",
    "    \n",
    "    return Sw, Sb\n",
    "    \n",
    "def diagnolize_matrix(M, W):\n",
    "    \n",
    "    M_diag = np.matmul(W.T,np.matmul(M,W))\n",
    "    M_diag = np.diag(M_diag.diagonal())\n",
    "    \n",
    "    return M_diag\n",
    "    \n",
    "def compute_transformation_matrix(Sw,Sb,nk):\n",
    "    \n",
    "    Sw_inv = np.linalg.inv(Sw)\n",
    "    d = Sw.shape[0]\n",
    "     \n",
    "    S = np.matmul(Sw_inv, Sb)\n",
    "    eigen_values, W = np.linalg.eigh(S)\n",
    "        \n",
    "    # projected/diagnolized within spread matrix: projecting Sw\n",
    "    Lambda_w = diagnolize_matrix(Sw,W)\n",
    "  \n",
    "    weight = nk/(nk - 1.0)\n",
    "    \n",
    "    Lambda_w_weighted = weight*Lambda_w\n",
    "    # prevent small negative numbers due to numerical error\n",
    "    Lambda_w_weighted[np.isclose(Lambda_w_weighted, 0.0)] = 0.0\n",
    "    Lambda_w_weighted = np.sqrt(Lambda_w_weighted)\n",
    "    \n",
    "    W_transposed_inv = np.linalg.inv(W).T\n",
    "    \n",
    "    A = np.matmul(W_transposed_inv, Lambda_w_weighted)\n",
    "    \n",
    "    return A, W\n",
    "\n",
    "def compute_transformed_between_covariance(Lambda_w,Lambda_b,nk):\n",
    "    \n",
    "    weight = (nk - 1)/nk\n",
    "    \n",
    "    with np.errstate(divide='ignore', invalid='ignore'):\n",
    "         Psi_diagonal = weight * Lambda_b.diagonal() / Lambda_w.diagonal()\n",
    "\n",
    "    Psi_diagonal[np.isnan(Psi_diagonal)] = 0.0\n",
    "    Psi_diagonal = Psi_diagonal - 1.0/nk\n",
    "    \n",
    "    # max(0, Psi)\n",
    "    Psi_diagonal[Psi_diagonal < 0.0] = 0.0\n",
    "    \n",
    "    Psi_diagonal[np.isinf(Psi_diagonal)] = 0.0\n",
    "    Psi = np.diag(Psi_diagonal)\n",
    "\n",
    "    return Psi\n",
    "\n",
    "\n",
    "def plda_fit(X, labels):\n",
    "   \n",
    "    N = X.shape[0]\n",
    "    K = np.size(np.unique(labels)) #labels.nunique()\n",
    "    nk = N/K\n",
    "    \n",
    "    global_mean = np.mean(X,axis=0)\n",
    "    \n",
    "    Sw, Sb = compute_scatter_matrixes(X,np.unique(labels),nk)\n",
    "    \n",
    "    A, W = compute_transformation_matrix(Sw,Sb,nk)\n",
    "    \n",
    "    Lambda_w = diagnolize_matrix(Sw,W)\n",
    "    Lambda_b = diagnolize_matrix(Sb,W)\n",
    "    \n",
    "    # The within trasnformed covariance is Identity matrix\n",
    "    Psi = compute_transformed_between_covariance(Lambda_w,Lambda_b,nk)\n",
    "   \n",
    "    return global_mean, A, Psi\n",
    "\n",
    "def project_data(z):\n",
    "    \n",
    "    z_tranformed = np.matmul(A_inv,z - global_mean)\n",
    "    \n",
    "    return z_tranformed\n",
    "\n",
    "def plda_predict(x_new):\n",
    "    \n",
    "    # u' = A^{-1}(x - m)\n",
    "    u_new = project_data(x_new)\n",
    "    \n",
    "    for y in labels:\n",
    "        \n",
    "        u_avg = comp\n",
    "        score = _compute_posterior_probability()\n",
    "        \n",
    "    return score"
   ]
  },
  {
   "cell_type": "code",
   "execution_count": 104,
   "metadata": {},
   "outputs": [
    {
     "data": {
      "text/plain": [
       "array([[ 28.9906, -52.5728],\n",
       "       [-52.5728, 139.6685]])"
      ]
     },
     "execution_count": 104,
     "metadata": {},
     "output_type": "execute_result"
    },
    {
     "data": {
      "text/plain": [
       "array([[2779.8685, 2788.6271],\n",
       "       [2788.6271, 2798.6723]])"
      ]
     },
     "execution_count": 104,
     "metadata": {},
     "output_type": "execute_result"
    }
   ],
   "source": [
    "Sw,Sb = compute_scatter_matrixes(X,y.unique(),nk)\n",
    "\n",
    "Sw\n",
    "\n",
    "Sb"
   ]
  },
  {
   "cell_type": "code",
   "execution_count": 105,
   "metadata": {},
   "outputs": [
    {
     "data": {
      "text/plain": [
       "array([[ 0.4689, -0.8833],\n",
       "       [-0.8833, -0.4689]])"
      ]
     },
     "execution_count": 105,
     "metadata": {},
     "output_type": "execute_result"
    },
    {
     "data": {
      "text/plain": [
       "array([[  5.9397,  -2.7757],\n",
       "       [-11.1896,  -1.4734]])"
      ]
     },
     "execution_count": 105,
     "metadata": {},
     "output_type": "execute_result"
    }
   ],
   "source": [
    "A, W = compute_transformation_matrix(Sw,Sb, nk)\n",
    "W\n",
    "A"
   ]
  },
  {
   "cell_type": "code",
   "execution_count": 106,
   "metadata": {},
   "outputs": [
    {
     "name": "stdout",
     "output_type": "stream",
     "text": [
      "Lambdas\n"
     ]
    },
    {
     "data": {
      "text/plain": [
       "array([[158.8822,   0.    ],\n",
       "       [  0.    ,   9.7769]])"
      ]
     },
     "execution_count": 106,
     "metadata": {},
     "output_type": "execute_result"
    },
    {
     "data": {
      "text/plain": [
       "array([[ 484.8165,    0.    ],\n",
       "       [   0.    , 5093.7243]])"
      ]
     },
     "execution_count": 106,
     "metadata": {},
     "output_type": "execute_result"
    },
    {
     "name": "stdout",
     "output_type": "stream",
     "text": [
      "Phis\n"
     ]
    },
    {
     "data": {
      "text/plain": [
       "array([[ 42.9848, -62.3731],\n",
       "       [-62.3731, 127.3779]])"
      ]
     },
     "execution_count": 106,
     "metadata": {},
     "output_type": "execute_result"
    },
    {
     "data": {
      "text/plain": [
       "array([[4080.1105, 1909.3221],\n",
       "       [1909.3221, 1496.7267]])"
      ]
     },
     "execution_count": 106,
     "metadata": {},
     "output_type": "execute_result"
    },
    {
     "data": {
      "text/plain": [
       "array([[  3.0109,   0.    ],\n",
       "       [  0.    , 515.7765]])"
      ]
     },
     "execution_count": 106,
     "metadata": {},
     "output_type": "execute_result"
    }
   ],
   "source": [
    "Lambda_w = diagnolize_matrix(Sw,W)\n",
    "Lambda_b = diagnolize_matrix(Sb,W)\n",
    "\n",
    "Psi = compute_transformed_between_covariance(Lambda_w,Lambda_b,nk)\n",
    "\n",
    "print('Lambdas')\n",
    "Lambda_w\n",
    "Lambda_b\n",
    "\n",
    "Phi_w = np.matmul(A,A.T)\n",
    "Phi_b = np.matmul(A,np.matmul(Psi,A.T))\n",
    "\n",
    "print('Phis')\n",
    "Phi_w\n",
    "Phi_b\n",
    "\n",
    "Psi"
   ]
  },
  {
   "cell_type": "code",
   "execution_count": 107,
   "metadata": {},
   "outputs": [
    {
     "data": {
      "text/plain": [
       "array([[ 0.3187,  0.1486],\n",
       "       [ 0.1486, -0.1076]])"
      ]
     },
     "execution_count": 107,
     "metadata": {},
     "output_type": "execute_result"
    }
   ],
   "source": [
    "(Phi_w - (nk)/(nk -1)*Sw)/Phi_w\n"
   ]
  },
  {
   "cell_type": "code",
   "execution_count": 108,
   "metadata": {},
   "outputs": [
    {
     "data": {
      "text/plain": [
       "array([22.6366, 22.3433])"
      ]
     },
     "execution_count": 108,
     "metadata": {},
     "output_type": "execute_result"
    },
    {
     "data": {
      "text/plain": [
       "array([[  5.9397,  -2.7757],\n",
       "       [-11.1896,  -1.4734]])"
      ]
     },
     "execution_count": 108,
     "metadata": {},
     "output_type": "execute_result"
    },
    {
     "data": {
      "text/plain": [
       "array([[  3.0109,   0.    ],\n",
       "       [  0.    , 515.7765]])"
      ]
     },
     "execution_count": 108,
     "metadata": {},
     "output_type": "execute_result"
    }
   ],
   "source": [
    "m, A, Psi = plda_fit(X, y)\n",
    "\n",
    "m\n",
    "A\n",
    "Psi"
   ]
  },
  {
   "cell_type": "code",
   "execution_count": 109,
   "metadata": {},
   "outputs": [
    {
     "data": {
      "text/plain": [
       "-44.10933472991256"
      ]
     },
     "execution_count": 109,
     "metadata": {},
     "output_type": "execute_result"
    },
    {
     "data": {
      "text/plain": [
       "-44.10933472991256"
      ]
     },
     "execution_count": 109,
     "metadata": {},
     "output_type": "execute_result"
    },
    {
     "data": {
      "text/plain": [
       "0.9288102649910596"
      ]
     },
     "execution_count": 109,
     "metadata": {},
     "output_type": "execute_result"
    }
   ],
   "source": [
    "## double check transformations\n",
    "\n",
    "u1 = np.matmul(W.T,x_new)\n",
    "\n",
    "A_inv = np.linalg.inv(A)\n",
    "\n",
    "u2 = np.matmul(A_inv,x_new - m)\n",
    "\n",
    "np.dot(u1,u2)\n",
    "\n",
    "np.matmul(u1,u2.T)\n",
    "\n",
    "# u1 n u2 are orthogonal\n",
    "\n",
    "\n",
    "np.arccos(np.matmul(u1/np.linalg.norm(u1),u2.T/np.linalg.norm(u2)))/np.pi"
   ]
  },
  {
   "cell_type": "code",
   "execution_count": 110,
   "metadata": {},
   "outputs": [
    {
     "data": {
      "text/plain": [
       "array([[ 0.0000e+00,  0.0000e+00],\n",
       "       [ 0.0000e+00, -2.3283e-10]])"
      ]
     },
     "execution_count": 110,
     "metadata": {},
     "output_type": "execute_result"
    },
    {
     "data": {
      "text/plain": [
       "array([[1404429.5325, 1368027.1627],\n",
       "       [1368027.1627, 1469170.408 ]])"
      ]
     },
     "execution_count": 110,
     "metadata": {},
     "output_type": "execute_result"
    },
    {
     "data": {
      "text/plain": [
       "array([[1404429.5325, 1368027.1627],\n",
       "       [1368027.1627, 1469170.408 ]])"
      ]
     },
     "execution_count": 110,
     "metadata": {},
     "output_type": "execute_result"
    },
    {
     "data": {
      "text/plain": [
       "array([[1404429.5325, 1368027.1627],\n",
       "       [1368027.1627, 1469170.408 ]])"
      ]
     },
     "execution_count": 110,
     "metadata": {},
     "output_type": "execute_result"
    }
   ],
   "source": [
    "St = (N - 1.0)* np.cov(X[:,0],X[:,1])\n",
    "\n",
    "u = np.add(X,-m).transpose()\n",
    "S_hat = np.matmul(u,u.transpose())\n",
    "\n",
    "St - S_hat\n",
    "\n",
    "N*Sw + N*Sb\n",
    "\n",
    "St\n",
    "\n",
    "S_hat"
   ]
  },
  {
   "cell_type": "markdown",
   "metadata": {},
   "source": [
    "## Verification of the equations on the first sections\n",
    "\n",
    "For the verification of the formulas cited in the firsts sections (See: [Small discussion about how LDA works (Can be skipped)]()), we are going to compute all matrix: $\\hat{\\Sigma_1}$, $\\hat{\\Sigma_2}$ and $S_t$ and compare with the global covariance matrix of the data (the spread of the data conserves) $\\hat{\\Sigma}$. Also because we generated the data using two multivariate Gaussians, we know the true values of the parameters $\\Sigma_1$ and $\\Sigma_2$ and we can compare with our estimations of this parameters.\n",
    "\n",
    "* Estimating the covariances Matrix\n",
    "\n",
    "Computing $\\hat{\\Sigma_k}$ and comparing with the true values $\\Sigma_k$\n"
   ]
  },
  {
   "cell_type": "code",
   "execution_count": 119,
   "metadata": {},
   "outputs": [
    {
     "data": {
      "text/plain": [
       "array([[11.3334,  0.    ],\n",
       "       [ 0.    , 95.8518]])"
      ]
     },
     "execution_count": 119,
     "metadata": {},
     "output_type": "execute_result"
    },
    {
     "data": {
      "text/plain": [
       "array([-4.,  1.])"
      ]
     },
     "execution_count": 119,
     "metadata": {},
     "output_type": "execute_result"
    },
    {
     "data": {
      "text/plain": [
       "numpy.ndarray"
      ]
     },
     "execution_count": 119,
     "metadata": {},
     "output_type": "execute_result"
    },
    {
     "data": {
      "text/plain": [
       "(3, 2)"
      ]
     },
     "execution_count": 119,
     "metadata": {},
     "output_type": "execute_result"
    },
    {
     "data": {
      "text/plain": [
       "array([[ 1.3112,  5.9898],\n",
       "       [-1.2001, -0.3257],\n",
       "       [-0.1111, -5.6641]])"
      ]
     },
     "execution_count": 119,
     "metadata": {},
     "output_type": "execute_result"
    },
    {
     "data": {
      "text/plain": [
       "array([[ 3.1717,  8.8735],\n",
       "       [ 8.8735, 68.0659]])"
      ]
     },
     "execution_count": 119,
     "metadata": {},
     "output_type": "execute_result"
    },
    {
     "name": "stdout",
     "output_type": "stream",
     "text": [
      "mk: [1.3112 5.9898]\n",
      "uk.shape: (100, 2)\n",
      "mk: [-1.2001 -0.3257]\n",
      "uk.shape: (100, 2)\n",
      "mk: [-0.1111 -5.6641]\n",
      "uk.shape: (100, 2)\n"
     ]
    },
    {
     "data": {
      "text/plain": [
       "(300, 2)"
      ]
     },
     "execution_count": 119,
     "metadata": {},
     "output_type": "execute_result"
    },
    {
     "data": {
      "text/plain": [
       "(array([ 1.,  4.,  6., 12., 19., 22., 11., 16.,  6.,  2.]),\n",
       " array([-8.3442, -7.8336, -7.323 , -6.8124, -6.3018, -5.7911, -5.2805,\n",
       "        -4.7699, -4.2593, -3.7487, -3.2381]),\n",
       " <a list of 10 Patch objects>)"
      ]
     },
     "execution_count": 119,
     "metadata": {},
     "output_type": "execute_result"
    },
    {
     "data": {
      "image/png": "[encoded data removed]",
      "text/plain": [
       "<matplotlib.figure.Figure at 0x1a234459b0>"
      ]
     },
     "metadata": {},
     "output_type": "display_data"
    }
   ],
   "source": [
    "from numpy.random import multivariate_normal\n",
    "def gen_Psi():\n",
    "    \"\"\" Diagonal matrix describing the covariance between clusters.\n",
    "    \"\"\"\n",
    "    np.random.seed(2018)\n",
    "    d = 2\n",
    "    Psi = np.diag(10.0/np.random.sample(d))\n",
    "\n",
    "    return Psi\n",
    "\n",
    "def gen_global_mean():\n",
    "    \n",
    "    d = 2\n",
    "    m = np.random.randint(-10.0, 10.0, d).astype(float)\n",
    "    \n",
    "    return m\n",
    "\n",
    "def gen_V_space(Psi):\n",
    "    # v ~ N(v|0,Psi)\n",
    "\n",
    "    n_class = 3\n",
    "    d = Psi.shape[0]\n",
    "    \n",
    "    V = multivariate_normal(np.zeros(d),Psi,n_class)\n",
    "    V = V - V.mean(axis=0)\n",
    "    \n",
    "    return V\n",
    "    \n",
    "def gen_U_space(V):\n",
    "     # u ~ N(u|v,1)\n",
    "    \n",
    "    n_class = V.shape[0]\n",
    "    d = V.shape[1]\n",
    "    \n",
    "    nk = 100\n",
    "\n",
    "    U = []\n",
    "    for k in range(0,n_class):\n",
    "        \n",
    "        mk = V[k,:]\n",
    "        print('mk: {}'.format(mk))\n",
    "        uk = multivariate_normal(mk,np.diag([1.0 , 1.0]),nk)\n",
    "        print('uk.shape: {}'.format(uk.shape))\n",
    "        U.append(uk)\n",
    "    \n",
    "    \n",
    "    U = np.vstack(U)\n",
    "    return U \n",
    "\n",
    "\n",
    "def gen_A(V):\n",
    "    \"\"\" A = [B][inv(Λ ** .5)][Q^T] and assumes same number of data\n",
    "             in each class v. \n",
    "    \"\"\"\n",
    "    d = V.shape[1]\n",
    "    \n",
    "    np.random.seed(2018)\n",
    "    B = np.random.randint(-100, 100, (d, d)).astype(float)\n",
    "    \n",
    "    print(B)\n",
    "    \n",
    "    big_V = np.matmul(V.T, V)  # V is now a scatter matrix.\n",
    "    \n",
    "    print('bigV')\n",
    "    print(big_V)\n",
    "    \n",
    "    vals, vecs = np.linalg.eig(big_V)\n",
    "    \n",
    "    \n",
    "    print('eigen vector values')\n",
    "    print(vals)\n",
    "    print(vecs)\n",
    "    \n",
    "    A = B / np.sqrt(vals.real)\n",
    "    \n",
    "    print('partial A')\n",
    "    print(A)\n",
    "    A = np.matmul(A, vecs.T)\n",
    "    \n",
    "    return A\n",
    "\n",
    "\n",
    "Psi = gen_Psi()\n",
    "Psi\n",
    "\n",
    "m = gen_global_mean()\n",
    "m\n",
    "type(m)\n",
    "\n",
    "\n",
    "V = gen_V_space(Psi)\n",
    "V.shape\n",
    "\n",
    "V\n",
    "\n",
    "np.matmul(V.T, V)\n",
    "\n",
    "U = gen_U_space(V)\n",
    "U.shape\n",
    "\n",
    "ax = plt.gca()\n",
    "ax.hist(U[201:300,1])"
   ]
  },
  {
   "cell_type": "code",
   "execution_count": 120,
   "metadata": {},
   "outputs": [
    {
     "name": "stdout",
     "output_type": "stream",
     "text": [
      "[[  2. -91.]\n",
      " [ 49.  56.]]\n",
      "bigV\n",
      "[[ 3.1717  8.8735]\n",
      " [ 8.8735 68.0659]]\n",
      "eigen vector values\n",
      "[ 1.9802 69.2574]\n",
      "[[-0.9911 -0.1331]\n",
      " [ 0.1331 -0.9911]]\n",
      "partial A\n",
      "[[  1.4213 -10.9347]\n",
      " [ 34.8209   6.7291]]\n"
     ]
    },
    {
     "data": {
      "text/plain": [
       "array([[  0.0466,  11.0266],\n",
       "       [-35.4067,  -2.0353]])"
      ]
     },
     "execution_count": 120,
     "metadata": {},
     "output_type": "execute_result"
    }
   ],
   "source": [
    "A = gen_A(V)\n",
    "A"
   ]
  },
  {
   "cell_type": "code",
   "execution_count": 121,
   "metadata": {},
   "outputs": [
    {
     "data": {
      "text/plain": [
       "array([[ 1.0000e+00,  1.3767e-17],\n",
       "       [-5.9968e-19,  1.0000e+00]])"
      ]
     },
     "execution_count": 121,
     "metadata": {},
     "output_type": "execute_result"
    },
    {
     "data": {
      "text/plain": [
       "(300, 2)"
      ]
     },
     "execution_count": 121,
     "metadata": {},
     "output_type": "execute_result"
    }
   ],
   "source": [
    "A_inv = np.linalg.inv(A)\n",
    "\n",
    "np.matmul(A_inv,A)\n",
    "\n",
    "Au =  np.matmul(A, U.T).T\n",
    "X = m + Au\n",
    "X.shape"
   ]
  },
  {
   "cell_type": "code",
   "execution_count": 125,
   "metadata": {
    "code_folding": []
   },
   "outputs": [
    {
     "data": {
      "text/plain": [
       "(3, 2)"
      ]
     },
     "execution_count": 125,
     "metadata": {},
     "output_type": "execute_result"
    },
    {
     "data": {
      "text/plain": [
       "array([[ 62.1082, -57.6148],\n",
       "       [ -7.6469,  44.154 ],\n",
       "       [-66.4613,  16.4608]])"
      ]
     },
     "execution_count": 125,
     "metadata": {},
     "output_type": "execute_result"
    },
    {
     "data": {
      "text/plain": [
       "array([[ 1.3112,  5.9898],\n",
       "       [-1.2001, -0.3257],\n",
       "       [-0.1111, -5.6641]])"
      ]
     },
     "execution_count": 125,
     "metadata": {},
     "output_type": "execute_result"
    },
    {
     "data": {
      "text/plain": [
       "array([ 62.1082, -57.6148])"
      ]
     },
     "execution_count": 125,
     "metadata": {},
     "output_type": "execute_result"
    },
    {
     "data": {
      "text/plain": [
       "array([ 60.9195, -57.0561])"
      ]
     },
     "execution_count": 125,
     "metadata": {},
     "output_type": "execute_result"
    },
    {
     "data": {
      "text/plain": [
       "array([0.0191, 0.0097])"
      ]
     },
     "execution_count": 125,
     "metadata": {},
     "output_type": "execute_result"
    },
    {
     "data": {
      "text/plain": [
       "array([1.6737, 5.7645])"
      ]
     },
     "execution_count": 125,
     "metadata": {},
     "output_type": "execute_result"
    },
    {
     "data": {
      "text/plain": [
       "array([-0.2765,  0.0376])"
      ]
     },
     "execution_count": 125,
     "metadata": {},
     "output_type": "execute_result"
    }
   ],
   "source": [
    "# Tranformed centorid os each class (Good for verofocation)\n",
    "\n",
    "Av =  np.matmul(A, V.T).T\n",
    "Y = m + Av \n",
    "Y.shape\n",
    "\n",
    "Y\n",
    "\n",
    "V\n",
    "\n",
    "X1 = X[0:100,:]\n",
    "x_bar = np.mean(X1,axis=0)\n",
    "\n",
    "\n",
    "# Comparing the true parameter Y_1 with the estimation of this parmeter\n",
    "Y[0,:]\n",
    "x_bar\n",
    "\n",
    "(Y[0,:] - x_bar)/Y[0,:]\n",
    "\n",
    "B = np.linalg.inv(np.add(Psi,np.identity(2)))\n",
    "\n",
    "v_hat = np.matmul(B,np.matmul(Psi,U[0,:]))\n",
    "\n",
    "v_hat\n",
    "\n",
    "(V[0,:] - v_hat)/V[0,:]"
   ]
  },
  {
   "cell_type": "code",
   "execution_count": 95,
   "metadata": {},
   "outputs": [
    {
     "data": {
      "text/plain": [
       "<matplotlib.collections.PathCollection at 0x1a2444e908>"
      ]
     },
     "execution_count": 95,
     "metadata": {},
     "output_type": "execute_result"
    },
    {
     "data": {
      "text/plain": [
       "<matplotlib.collections.PathCollection at 0x1a2444ec88>"
      ]
     },
     "execution_count": 95,
     "metadata": {},
     "output_type": "execute_result"
    },
    {
     "data": {
      "text/plain": [
       "<matplotlib.collections.PathCollection at 0x1a2445b048>"
      ]
     },
     "execution_count": 95,
     "metadata": {},
     "output_type": "execute_result"
    },
    {
     "data": {
      "text/plain": [
       "(-4.139122947207262, 4.038255788077333, -9.171561312485261, 8.711185541261)"
      ]
     },
     "execution_count": 95,
     "metadata": {},
     "output_type": "execute_result"
    },
    {
     "data": {
      "image/png": "[encoded data removed]",
      "text/plain": [
       "<matplotlib.figure.Figure at 0x1a2419a780>"
      ]
     },
     "metadata": {},
     "output_type": "display_data"
    }
   ],
   "source": [
    "U_labels = ([1] * 100) + ([2] * 100) + ([3] * 100)\n",
    "\n",
    "ax = plt.gca()\n",
    "ax.scatter(U[:, 0], U[:, 1], c=U_labels, s=40, cmap='viridis', zorder=2)\n",
    "ax.scatter(V[:, 0], V[:, 1], c='red', s=40, cmap='viridis', zorder=2)\n",
    "ax.scatter(0, 0, c='black', s=40, cmap='viridis', zorder=2)\n",
    "ax.axis('equal')"
   ]
  },
  {
   "cell_type": "code",
   "execution_count": 96,
   "metadata": {},
   "outputs": [
    {
     "data": {
      "text/plain": [
       "<matplotlib.collections.PathCollection at 0x1a244f9860>"
      ]
     },
     "execution_count": 96,
     "metadata": {},
     "output_type": "execute_result"
    },
    {
     "data": {
      "text/plain": [
       "<matplotlib.collections.PathCollection at 0x1a244f9be0>"
      ]
     },
     "execution_count": 96,
     "metadata": {},
     "output_type": "execute_result"
    },
    {
     "data": {
      "text/plain": [
       "<matplotlib.collections.PathCollection at 0x1a244f9f28>"
      ]
     },
     "execution_count": 96,
     "metadata": {},
     "output_type": "execute_result"
    },
    {
     "data": {
      "text/plain": [
       "(-104.9495452087182, 91.98765141498923, -154.55663666419744, 143.6250487471396)"
      ]
     },
     "execution_count": 96,
     "metadata": {},
     "output_type": "execute_result"
    },
    {
     "data": {
      "image/png": "[encoded data removed]",
      "text/plain": [
       "<matplotlib.figure.Figure at 0x1a241ba9e8>"
      ]
     },
     "metadata": {},
     "output_type": "display_data"
    }
   ],
   "source": [
    "ax = plt.gca()\n",
    "ax.scatter(X[:, 0], X[:, 1], c=U_labels, s=40, cmap='viridis', zorder=2)\n",
    "ax.scatter(Y[:, 0], Y[:, 1], c='red', s=40, cmap='viridis', zorder=2)\n",
    "ax.scatter(m[0], m[1], c='black', s=40, cmap='viridis', zorder=2)\n",
    "ax.axis('equal')"
   ]
  },
  {
   "cell_type": "code",
   "execution_count": 97,
   "metadata": {},
   "outputs": [
    {
     "name": "stdout",
     "output_type": "stream",
     "text": [
      "A\n"
     ]
    },
    {
     "data": {
      "text/plain": [
       "array([[  0.0466,  11.0266],\n",
       "       [-35.4067,  -2.0353]])"
      ]
     },
     "execution_count": 97,
     "metadata": {},
     "output_type": "execute_result"
    },
    {
     "data": {
      "text/plain": [
       "array([[ -2.2439, -11.0328],\n",
       "       [-34.3998,   0.7197]])"
      ]
     },
     "execution_count": 97,
     "metadata": {},
     "output_type": "execute_result"
    },
    {
     "name": "stdout",
     "output_type": "stream",
     "text": [
      "Psi\n"
     ]
    },
    {
     "data": {
      "text/plain": [
       "array([[11.3334,  0.    ],\n",
       "       [ 0.    , 95.8518]])"
      ]
     },
     "execution_count": 97,
     "metadata": {},
     "output_type": "execute_result"
    },
    {
     "data": {
      "text/plain": [
       "array([[ 1.3417,  0.    ],\n",
       "       [ 0.    , 23.5318]])"
      ]
     },
     "execution_count": 97,
     "metadata": {},
     "output_type": "execute_result"
    }
   ],
   "source": [
    "y = np.array(U_labels)\n",
    "\n",
    "\n",
    "plda_m, plda_A, plda_Psi = plda_fit(X, y)\n",
    "\n",
    "print('A')\n",
    "A\n",
    "plda_A\n",
    "\n",
    "print('Psi')\n",
    "Psi\n",
    "plda_Psi"
   ]
  },
  {
   "cell_type": "code",
   "execution_count": 129,
   "metadata": {},
   "outputs": [
    {
     "data": {
      "text/plain": [
       "array([[ 126.757 ,   69.2494],\n",
       "       [  69.2494, 1183.8626]])"
      ]
     },
     "execution_count": 129,
     "metadata": {},
     "output_type": "execute_result"
    },
    {
     "name": "stdout",
     "output_type": "stream",
     "text": [
      "S1\n"
     ]
    },
    {
     "data": {
      "text/plain": [
       "array([[ 106.4194,   -3.3938],\n",
       "       [  -3.3938, 1192.1583]])"
      ]
     },
     "execution_count": 129,
     "metadata": {},
     "output_type": "execute_result"
    },
    {
     "name": "stdout",
     "output_type": "stream",
     "text": [
      "S2\n"
     ]
    },
    {
     "data": {
      "text/plain": [
       "array([[ 126.4436,   37.1527],\n",
       "       [  37.1527, 1324.9953]])"
      ]
     },
     "execution_count": 129,
     "metadata": {},
     "output_type": "execute_result"
    },
    {
     "name": "stdout",
     "output_type": "stream",
     "text": [
      "S3\n"
     ]
    },
    {
     "data": {
      "text/plain": [
       "array([[ 122.089 ,  -19.2595],\n",
       "       [ -19.2595, 1059.7529]])"
      ]
     },
     "execution_count": 129,
     "metadata": {},
     "output_type": "execute_result"
    },
    {
     "name": "stdout",
     "output_type": "stream",
     "text": [
      "AVG: (S1 + S2 + S3)/3\n"
     ]
    },
    {
     "data": {
      "text/plain": [
       "array([[ 118.3174,    4.8331],\n",
       "       [   4.8331, 1192.3022]])"
      ]
     },
     "execution_count": 129,
     "metadata": {},
     "output_type": "execute_result"
    },
    {
     "data": {
      "text/plain": [
       "array([[ 0.0666,  0.9302],\n",
       "       [ 0.9302, -0.0071]])"
      ]
     },
     "execution_count": 129,
     "metadata": {},
     "output_type": "execute_result"
    }
   ],
   "source": [
    "plda_Phi_w = np.matmul(plda_A,plda_A.T)\n",
    "plda_Phi_w\n",
    "\n",
    "\n",
    "X1 = X[0:100,:]\n",
    "X2 = X[100:200,:]\n",
    "X3 = X[200:300,:]\n",
    "\n",
    "print('S1')\n",
    "S1 = np.cov(X1[:,0],X1[:,1])\n",
    "S1\n",
    "\n",
    "print('S2')\n",
    "S2 = np.cov(X2[:,0],X2[:,1])\n",
    "S2\n",
    "\n",
    "print('S3')\n",
    "S3 = np.cov(X3[:,0],X3[:,1])\n",
    "S3\n",
    "\n",
    "print('AVG: (S1 + S2 + S3)/3')\n",
    "S_avg  = (S1 + S2 + S3)/3\n",
    "\n",
    "\n",
    "S_avg\n",
    "\n",
    "(plda_Phi_w - S_avg)/plda_Phi_w"
   ]
  },
  {
   "cell_type": "code",
   "execution_count": null,
   "metadata": {},
   "outputs": [],
   "source": []
  }
 ],
 "metadata": {
  "kernelspec": {
   "display_name": "Python 3",
   "language": "python",
   "name": "python3"
  },
  "language_info": {
   "codemirror_mode": {
    "name": "ipython",
    "version": 3
   },
   "file_extension": ".py",
   "mimetype": "text/x-python",
   "name": "python",
   "nbconvert_exporter": "python",
   "pygments_lexer": "ipython3",
   "version": "3.6.4"
  }
 },
 "nbformat": 4,
 "nbformat_minor": 2
}
