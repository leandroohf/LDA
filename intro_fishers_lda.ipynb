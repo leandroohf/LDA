{
 "cells": [
  {
   "cell_type": "markdown",
   "metadata": {},
   "source": [
    "# Fishers Linear Discriminant Analysis\n",
    "\n",
    "# Introduction\n",
    "\n",
    "Linear Discriminant Analysis (LDA) is most commonly used as dimensionality reduction technique in the pre-processing step for pattern-classification and machine learning applications. But can also be use as classifier. LDA is supervised algorithm (requires labeled data). The terms Fisher's linear discriminant, LDA and Quadratic Linear Discriminant QDA are often used interchangeably, but there are differences (See  [this](https://en.wikipedia.org/wiki/Linear_discriminant_analysis) and [this](https://en.wikipedia.org/wiki/Quadratic_classifier#Quadratic_discriminant_analysis) for better disambiguation):\n",
    "\n",
    "* QDA and LDA are classifier technique. QDA is more general than LDA. Both assuming normality. See [intro to lda n QDA](intro_lda.ipynb) notebook. \n",
    "\n",
    "* Fishers LDA is dimension reduction technique.  It does **NOT make assumption such as normality**.   \n",
    "\n",
    "In this notebook we mainly will be talking about Fishers LDA. We normally use the word LDA to refers to Fishers LDA. For simplicity, the practical aspect of Fishers LDA will be explained utilzing a 2 class problem and bi-dimensional data.\n",
    "\n",
    "## What is LDA\n",
    "\n",
    "In the figure below an labeled dataset contained 2 classes are shown. LDA reduces the dimension of the data by defining a new set of axes ($y$) with lower dimension where the 2 classes are still well separated.\n",
    "\n",
    "<img src=\"images/lda_axes_0.png\" width=\"700\"/>\n",
    "\n",
    "\n",
    "###  Small discussion about how LDA works (Can be skipped)\n",
    "\n",
    "The of goal of (LDA) is to find best new set of axis that maximizes the distance between the means of the classes and also minimize overlap between the projected classes (confusion region). \n",
    "\n",
    "The figures below describe LDA being applied to a bidimensional dataset containing 2 classes. The dataset is a set of $n$ d-dimensional samples $X = \\{x_1, x_2, ..., x_n\\}$ already labeled in 2 groups: \n",
    "$X^{(k)} = \\{ x_1^{(k)},  x_2^{(k)}, ..., x_{n_k}^{(k)} \\}$ of size $n_k$ for $k = 1,2$ where $x_i^{(k)}$ is a vector of dimension $d$.\n",
    "\n",
    "In the figures can be seen the new proposed axis. The left figure, only the distance between the classes were maximized. As a end result there is overlapping region that can noticed in the histogram. The right figure is the LDA's results when not only the distance betwen the classes are maximized but also the overlapping region is minimized\n",
    "\n",
    "<img src=\"images/lda_0.png\" width=\"700\"/>\n",
    "\n",
    "In order to do that, Fisher proposed to maximize the ratio \"scattter between classes/scatter within classes\" that is expressed by the Cost function:\n",
    "\n",
    "$\n",
    "J(w) = \\frac{w^{\\mathsf{t}}S_{b} w}{ w^{\\mathsf{t}}S_{w}  w}\n",
    "$\n",
    "\n",
    "where:\n",
    "\n",
    "* $S_{b}=\\sum_1^2( m_2 −  m)( m_2 −  m)^t$ :  between-class covariance/satter matrix. (Can be understood as measure of between class spread)\n",
    "    \n",
    "* $S_{w} =  S_1 + S_2$ : within-class covariance/scatter matrices. (Can be understood as measure of within class spread or the sum of the spread matrix of each class) \n",
    "\n",
    "$ m_1$ and $ m_2$ are the mean of each class. $S_1$ and $S_2$ are the apread matrix of each class. \n",
    "\n",
    "$\n",
    "S_k = \\sum_{x_i\\in X^{(k)}} ( x_i^{(k)} -  m_k) ( x_i^{(k)} - m_k)^t  \n",
    "$\n",
    "\n",
    "The spread matrix are related to the covariance matrx by the equation:\n",
    "\n",
    "\n",
    "$\n",
    "\\Sigma_k = \\frac{1}{N_k -1}S_k  \n",
    "$\n",
    "\n",
    "\n",
    "The total scatter is given by:\n",
    "\n",
    "$\n",
    "S_t = S_W + S_B\n",
    "$\n",
    "\n",
    "But can also be expressed as:\n",
    "\n",
    "$\n",
    "S_t = \\sum_{j=1}^{n}(x_j - m)(x_j - m)^t \\equiv \\sum_{k=1}^2 \\sum_{i=1}^{n_k}(x_i^{(k)} - m)(x_i^{(k)} - m)^t = S_W + S_B\n",
    "$\n",
    "\n",
    "$\n",
    "n = \\sum_{k=1}^2 n_k\n",
    "$\n",
    "\n",
    "Can be proved in  [here](refs/ea71fbef3b55b69e142897fadf43b3269463.pdf) and [here](refs/Dimensionality2.pdf) that maximize $J( w)$ is equivalent to find the solution of the eigenvalue problem for the matrix:\n",
    "\n",
    "$\n",
    "A =  S_{w}^{-1} S_b\n",
    "$\n",
    "\n",
    "$\n",
    "A{v} =  \\lambda {v}\n",
    "$\n",
    "\n",
    "where:\n",
    "* $v$ is the eigenvector and define the new axes\n",
    "* $\\lambda$ is the eigenvalue\n",
    "\n",
    "\n",
    "### Principal Component Analysis vs. Linear Discriminant Analysis\n",
    "\n",
    "\"\n",
    "Both Linear Discriminant Analysis (LDA) and Principal Component Analysis (PCA) are linear transformation techniques that are commonly used for dimensionality reduction. PCA can be described as an “unsupervised” algorithm, since it “ignores” class labels and its goal is to find the directions (the so-called principal components) that maximize the variance in a dataset. In contrast to PCA, LDA is “supervised” and computes the directions (“linear discriminants”) that will represent the axes that that maximize the separation between multiple classes.\n",
    "\"\n",
    "\n",
    "<img src=\"images/lda_1.png\" width=\"700\"/>\n",
    "\n",
    "### Summarizing the LDA approach in 5 steps\n",
    "\n",
    "\n",
    "1. Compute the d-dimensional mean vectors for the different classes from the dataset.\n",
    "2. Compute the scatter matrices \n",
    "    * between-class: measure of dispersion between groups or classes\n",
    "    * within-class scatter matrix: measure of dispersion in the class or group\n",
    "3. Compute the eigenvectors $( v_1, v_2, ..., v_d)$ and corresponding eigenvalues $(\\lambda_1, \\lambda_2,..., \\lambda_d)$ for the scatter matrices.\n",
    "4. Sort the eigenvectors by eigenvalues an keep the k eigenvectors with the k-largest eigenvalues\n",
    "5. Use the eigenvector matrix to transform the samples onto the new subspace. $Y = X*V$\n",
    "    * $Y$ is nxk matrix\n",
    "    * $X$ is nxd dimensional matrix. The input data\n",
    "    * $V$ is dxk dimensional. It is the eigenvector matrix\n",
    "    \n",
    "    \n",
    "$\\boldsymbol V = \\begin{bmatrix}\n",
    " v_1 & v_2 & \\cdots & v_k\n",
    "\\end{bmatrix} \n",
    "$\n",
    "\n",
    "where $v_k$ are column vectors of dimension $d$."
   ]
  },
  {
   "cell_type": "code",
   "execution_count": 1,
   "metadata": {},
   "outputs": [],
   "source": [
    "import numpy as np\n",
    "import pandas as pd\n",
    "import random as rand\n",
    "import math\n",
    "import matplotlib.pyplot as plt\n",
    "\n",
    "np.set_printoptions(precision=4)\n",
    "\n",
    "from sklearn import datasets\n",
    "from sklearn.discriminant_analysis import LinearDiscriminantAnalysis\n",
    "from sklearn.decomposition import PCA as sklearnPCA\n",
    "\n",
    "from IPython.core.interactiveshell import InteractiveShell\n",
    "InteractiveShell.ast_node_interactivity = \"all\"\n",
    "\n",
    "%matplotlib inline"
   ]
  },
  {
   "cell_type": "markdown",
   "metadata": {},
   "source": [
    "1. load data\n",
    "3. Summarize data\n",
    "    * Global covariance matrix\n",
    "    * Using the formula\n",
    "    * Using numpy.cov\n",
    "    * Visualize data"
   ]
  },
  {
   "cell_type": "code",
   "execution_count": 2,
   "metadata": {
    "code_folding": [
     2
    ]
   },
   "outputs": [
    {
     "data": {
      "image/png": "[encoded data removed]",
      "text/plain": [
       "<matplotlib.figure.Figure at 0x1a188d35f8>"
      ]
     },
     "metadata": {},
     "output_type": "display_data"
    },
    {
     "data": {
      "text/html": [
       "<div>\n",
       "<style scoped>\n",
       "    .dataframe tbody tr th:only-of-type {\n",
       "        vertical-align: middle;\n",
       "    }\n",
       "\n",
       "    .dataframe tbody tr th {\n",
       "        vertical-align: top;\n",
       "    }\n",
       "\n",
       "    .dataframe thead th {\n",
       "        text-align: right;\n",
       "    }\n",
       "</style>\n",
       "<table border=\"1\" class=\"dataframe\">\n",
       "  <thead>\n",
       "    <tr style=\"text-align: right;\">\n",
       "      <th></th>\n",
       "      <th>label</th>\n",
       "      <th>x</th>\n",
       "      <th>y</th>\n",
       "    </tr>\n",
       "  </thead>\n",
       "  <tbody>\n",
       "    <tr>\n",
       "      <th>50</th>\n",
       "      <td>1</td>\n",
       "      <td>-0.507111</td>\n",
       "      <td>2.751002</td>\n",
       "    </tr>\n",
       "    <tr>\n",
       "      <th>49</th>\n",
       "      <td>1</td>\n",
       "      <td>-0.375251</td>\n",
       "      <td>3.103473</td>\n",
       "    </tr>\n",
       "    <tr>\n",
       "      <th>119</th>\n",
       "      <td>2</td>\n",
       "      <td>5.862190</td>\n",
       "      <td>-1.352520</td>\n",
       "    </tr>\n",
       "    <tr>\n",
       "      <th>78</th>\n",
       "      <td>2</td>\n",
       "      <td>7.739502</td>\n",
       "      <td>0.742286</td>\n",
       "    </tr>\n",
       "    <tr>\n",
       "      <th>67</th>\n",
       "      <td>1</td>\n",
       "      <td>-1.141127</td>\n",
       "      <td>2.985451</td>\n",
       "    </tr>\n",
       "  </tbody>\n",
       "</table>\n",
       "</div>"
      ],
      "text/plain": [
       "     label         x         y\n",
       "50       1 -0.507111  2.751002\n",
       "49       1 -0.375251  3.103473\n",
       "119      2  5.862190 -1.352520\n",
       "78       2  7.739502  0.742286\n",
       "67       1 -1.141127  2.985451"
      ]
     },
     "execution_count": 2,
     "metadata": {},
     "output_type": "execute_result"
    },
    {
     "name": "stdout",
     "output_type": "stream",
     "text": [
      "==============================\n",
      "Global/total\n",
      " number of samples: 225\n",
      " data mean:\n"
     ]
    },
    {
     "data": {
      "text/plain": [
       "array([3.3765, 1.1237])"
      ]
     },
     "execution_count": 2,
     "metadata": {},
     "output_type": "execute_result"
    },
    {
     "name": "stdout",
     "output_type": "stream",
     "text": [
      " data variance:\n"
     ]
    },
    {
     "data": {
      "text/plain": [
       "array([8.8514, 3.9923])"
      ]
     },
     "execution_count": 2,
     "metadata": {},
     "output_type": "execute_result"
    },
    {
     "name": "stdout",
     "output_type": "stream",
     "text": [
      " Covariance matrix:\n"
     ]
    },
    {
     "data": {
      "text/plain": [
       "array([[ 8.8909, -3.3426],\n",
       "       [-3.3426,  4.0101]])"
      ]
     },
     "execution_count": 2,
     "metadata": {},
     "output_type": "execute_result"
    },
    {
     "name": "stdout",
     "output_type": "stream",
     "text": [
      "1st class true parmeters\n",
      " number of samples in first group N1: 75\n",
      "\n",
      " mean mu1:\n"
     ]
    },
    {
     "data": {
      "text/plain": [
       "[0.0, 3.5]"
      ]
     },
     "execution_count": 2,
     "metadata": {},
     "output_type": "execute_result"
    },
    {
     "name": "stdout",
     "output_type": "stream",
     "text": [
      " Covariance matrix:\n"
     ]
    },
    {
     "data": {
      "text/plain": [
       "[[2.0, 1.1], [1.1, 1.0]]"
      ]
     },
     "execution_count": 2,
     "metadata": {},
     "output_type": "execute_result"
    },
    {
     "name": "stdout",
     "output_type": "stream",
     "text": [
      "2nd class true parmeters\n",
      " number of samples in first group N1: 150\n",
      "\n",
      " mean mu2:\n"
     ]
    },
    {
     "data": {
      "text/plain": [
       "[5.0, 0.0]"
      ]
     },
     "execution_count": 2,
     "metadata": {},
     "output_type": "execute_result"
    },
    {
     "name": "stdout",
     "output_type": "stream",
     "text": [
      " Covariance matrix:\n"
     ]
    },
    {
     "data": {
      "text/plain": [
       "[[4.0, 0.5], [0.5, 1.0]]"
      ]
     },
     "execution_count": 2,
     "metadata": {},
     "output_type": "execute_result"
    }
   ],
   "source": [
    "%run simulated_data.ipynb\n",
    "\n",
    "X = df[['x','y']].values\n",
    "N = X.shape[0]\n",
    "\n",
    "X1 = df.loc[df.label ==1,['x','y']].values\n",
    "N1 = X1.shape[0] \n",
    "\n",
    "X2 = df.loc[df.label ==2,['x','y']].values\n",
    "N2 = X2.shape[0] \n",
    "\n",
    "df.sample(5).head(5)\n",
    "\n",
    "total_variance = np.var(X,axis=0)\n",
    "m = np.mean(X,axis=0)\n",
    "\n",
    "print('==============================')\n",
    "print('Global/total')\n",
    "print(' number of samples: {}'.format(N))\n",
    "print(' data mean:')\n",
    "m\n",
    "\n",
    "print(' data variance:')\n",
    "total_variance\n",
    "\n",
    "print(' Covariance matrix:')\n",
    "S = np.cov(X[:,0],X[:,1])\n",
    "S\n",
    "\n",
    "print('1st class true parmeters')\n",
    "print(' number of samples in first group N1: {}\\n'.format(N1))\n",
    "\n",
    "print(' mean mu1:')\n",
    "mu1\n",
    "\n",
    "print(' Covariance matrix:')\n",
    "Sigma1\n",
    "\n",
    "print('2nd class true parmeters')\n",
    "print(' number of samples in first group N1: {}\\n'.format(N2))\n",
    "\n",
    "print(' mean mu2:')\n",
    "mu2\n",
    "\n",
    "print(' Covariance matrix:')\n",
    "Sigma2"
   ]
  },
  {
   "cell_type": "markdown",
   "metadata": {},
   "source": [
    "### Computing between and within groups spread matrix\n",
    "\n",
    "1. compute the mean vector of each class\n",
    "2. compute the spread matrix of each group\n",
    "3. compute Sw and Sb\n"
   ]
  },
  {
   "cell_type": "code",
   "execution_count": 3,
   "metadata": {},
   "outputs": [
    {
     "name": "stdout",
     "output_type": "stream",
     "text": [
      "Within spread matrix:\n"
     ]
    },
    {
     "data": {
      "text/plain": [
       "array([[785.8784, 147.3599],\n",
       "       [147.3599, 232.2448]])"
      ]
     },
     "execution_count": 3,
     "metadata": {},
     "output_type": "execute_result"
    },
    {
     "name": "stdout",
     "output_type": "stream",
     "text": [
      "Between spread matrix:\n"
     ]
    },
    {
     "data": {
      "text/plain": [
       "array([[1205.6814, -896.1057],\n",
       "       [-896.1057,  666.018 ]])"
      ]
     },
     "execution_count": 3,
     "metadata": {},
     "output_type": "execute_result"
    }
   ],
   "source": [
    "# mean of each group\n",
    "m1 = np.mean(X1,axis=0)\n",
    "m2 = np.mean(X2,axis=0)\n",
    "\n",
    "# spread matrix for each group\n",
    "u1 = np.add(X1,-m1).transpose()\n",
    "S1 = np.matmul(u1,u1.transpose())\n",
    "\n",
    "u2 = np.add(X2,-m2).transpose()\n",
    "S2 = np.matmul(u2,u2.transpose())\n",
    "\n",
    "# within spread matrix\n",
    "Sw = np.add(S1,S2)\n",
    "\n",
    "# between spread matrix\n",
    "dm1 = (np.add(m1,-m))\n",
    "dm1 = dm1[np.newaxis].transpose()\n",
    "\n",
    "dm2 = (np.add(m2,-m))\n",
    "dm2 = dm2[np.newaxis].transpose()\n",
    "\n",
    "Sb = np.add(N1*np.dot(dm1, dm1.transpose()),N2*np.dot(dm2, dm2.transpose()))\n",
    "\n",
    "print('Within spread matrix:')\n",
    "Sw\n",
    "\n",
    "print('Between spread matrix:')\n",
    "Sb"
   ]
  },
  {
   "cell_type": "markdown",
   "metadata": {},
   "source": [
    "### Solving the eigenvalue and eigenvector \n",
    "\n",
    "* Inverting $S_w$ and check the results\n"
   ]
  },
  {
   "cell_type": "code",
   "execution_count": 4,
   "metadata": {},
   "outputs": [
    {
     "name": "stdout",
     "output_type": "stream",
     "text": [
      "Sw:\n"
     ]
    },
    {
     "data": {
      "text/plain": [
       "array([[785.8784, 147.3599],\n",
       "       [147.3599, 232.2448]])"
      ]
     },
     "execution_count": 4,
     "metadata": {},
     "output_type": "execute_result"
    },
    {
     "name": "stdout",
     "output_type": "stream",
     "text": [
      "Inverted Sw:\n"
     ]
    },
    {
     "data": {
      "text/plain": [
       "array([[ 0.0014, -0.0009],\n",
       "       [-0.0009,  0.0049]])"
      ]
     },
     "execution_count": 4,
     "metadata": {},
     "output_type": "execute_result"
    },
    {
     "name": "stdout",
     "output_type": "stream",
     "text": [
      "Identity matrix\n"
     ]
    },
    {
     "data": {
      "text/plain": [
       "array([[ 1.0000e+00, -4.3138e-17],\n",
       "       [-2.5963e-17,  1.0000e+00]])"
      ]
     },
     "execution_count": 4,
     "metadata": {},
     "output_type": "execute_result"
    }
   ],
   "source": [
    "Sw_inv = np.linalg.inv(Sw)\n",
    "I = np.matmul(Sw,Sw_inv)\n",
    "\n",
    "print('Sw:')\n",
    "Sw\n",
    "\n",
    "print('Inverted Sw:')\n",
    "Sw_inv\n",
    "\n",
    "print('Identity matrix')\n",
    "I"
   ]
  },
  {
   "cell_type": "markdown",
   "metadata": {},
   "source": [
    "* Compute matrix $A$ and solve the eigenvalue and eigenvector\n",
    "\n",
    "$V$ eigenvector matrix is a matrix with stacked column eigenvectors\n",
    "\n",
    "$\\boldsymbol V = \\begin{bmatrix}\n",
    " v_1 & v_2\n",
    "\\end{bmatrix} \\equiv \\begin{bmatrix}\n",
    " v_{1x_1} & v_{2x_1} \\\\ \n",
    " v_{1x_2} & v_{2x_2}\n",
    "\\end{bmatrix}\n",
    "$"
   ]
  },
  {
   "cell_type": "code",
   "execution_count": 5,
   "metadata": {},
   "outputs": [
    {
     "name": "stdout",
     "output_type": "stream",
     "text": [
      "A:\n"
     ]
    },
    {
     "data": {
      "text/plain": [
       "array([[ 2.5626, -1.9046],\n",
       "       [-5.4844,  4.0762]])"
      ]
     },
     "execution_count": 5,
     "metadata": {},
     "output_type": "execute_result"
    },
    {
     "name": "stdout",
     "output_type": "stream",
     "text": [
      "eigen_values:\n"
     ]
    },
    {
     "data": {
      "text/plain": [
       "array([0.    , 6.6388])"
      ]
     },
     "execution_count": 5,
     "metadata": {},
     "output_type": "execute_result"
    },
    {
     "name": "stdout",
     "output_type": "stream",
     "text": [
      "eigen_vectors matrix:\n"
     ]
    },
    {
     "data": {
      "text/plain": [
       "array([[-0.5965,  0.4233],\n",
       "       [-0.8026, -0.906 ]])"
      ]
     },
     "execution_count": 5,
     "metadata": {},
     "output_type": "execute_result"
    },
    {
     "name": "stdout",
     "output_type": "stream",
     "text": [
      "eigen_vectors :\n"
     ]
    },
    {
     "data": {
      "text/plain": [
       "array([-0.5965, -0.8026])"
      ]
     },
     "execution_count": 5,
     "metadata": {},
     "output_type": "execute_result"
    },
    {
     "data": {
      "text/plain": [
       "array([ 0.4233, -0.906 ])"
      ]
     },
     "execution_count": 5,
     "metadata": {},
     "output_type": "execute_result"
    }
   ],
   "source": [
    "A = np.matmul(Sw_inv, Sb)\n",
    "\n",
    "eigen_values, V = np.linalg.eig(A)\n",
    "\n",
    "print('A:')\n",
    "A\n",
    "\n",
    "print('eigen_values:')\n",
    "eigen_values\n",
    "print('eigen_vectors matrix:')\n",
    "V\n",
    "\n",
    "print('eigen_vectors :')\n",
    "v1 = V[:,0]\n",
    "v2 = V[:,1]\n",
    "\n",
    "v1\n",
    "v2"
   ]
  },
  {
   "cell_type": "markdown",
   "metadata": {},
   "source": [
    "The eigenvector with the largest eigenvalue is v2. So we keep v2 and remove v1.\n",
    "\n",
    "* Checking $Av_2=\\lambda_2 v_2$ is true\n",
    "* Comparing with scikitlearn (checking)|"
   ]
  },
  {
   "cell_type": "code",
   "execution_count": 6,
   "metadata": {},
   "outputs": [
    {
     "name": "stdout",
     "output_type": "stream",
     "text": [
      "checking\n"
     ]
    },
    {
     "data": {
      "text/plain": [
       "array([ 2.8103, -6.0146])"
      ]
     },
     "execution_count": 6,
     "metadata": {},
     "output_type": "execute_result"
    },
    {
     "data": {
      "text/plain": [
       "array([ 2.8103, -6.0146])"
      ]
     },
     "execution_count": 6,
     "metadata": {},
     "output_type": "execute_result"
    },
    {
     "name": "stdout",
     "output_type": "stream",
     "text": [
      "comparing with scilit learn\n",
      "eigenvectors\n"
     ]
    },
    {
     "data": {
      "text/plain": [
       "array([[ 0.4277, -0.9154]])"
      ]
     },
     "execution_count": 6,
     "metadata": {},
     "output_type": "execute_result"
    },
    {
     "data": {
      "text/plain": [
       "array([ 0.4233, -0.906 ])"
      ]
     },
     "execution_count": 6,
     "metadata": {},
     "output_type": "execute_result"
    },
    {
     "name": "stdout",
     "output_type": "stream",
     "text": [
      "angle between scikit learn and our eigenvector\n"
     ]
    },
    {
     "data": {
      "text/plain": [
       "array([1.])"
      ]
     },
     "execution_count": 6,
     "metadata": {},
     "output_type": "execute_result"
    }
   ],
   "source": [
    "print('checking')\n",
    "A.dot(v2)\n",
    "eigen_values[1]*v2\n",
    "\n",
    "np.testing.assert_array_almost_equal(A.dot(v2),\n",
    "                                         eigen_values[1] *v2,\n",
    "                                         decimal=6, err_msg='', verbose=True)\n",
    "\n",
    "print('comparing with scilit learn')\n",
    "lda = LinearDiscriminantAnalysis(n_components=2)\n",
    "X_lda = lda.fit(X, labels).transform(X)\n",
    "\n",
    "v3 = lda.scalings_\n",
    "\n",
    "print('eigenvectors')\n",
    "\n",
    "v3.T\n",
    "v2\n",
    "\n",
    "print('angle between scikit learn and our eigenvector')\n",
    "v2.dot(v3)/np.linalg.norm(v3)"
   ]
  },
  {
   "cell_type": "markdown",
   "metadata": {},
   "source": [
    "both the scikitlearn and my eigenvector have almost the same direction. The difference might be related to differnt methodology to solve the eigenvalue eigenvector problem and numerical precission.The new axis $y$ can be seen in the graph bellow\n",
    "\n",
    "\n",
    "* Visualize new axes and data"
   ]
  },
  {
   "cell_type": "code",
   "execution_count": 7,
   "metadata": {
    "code_folding": [
     0
    ]
   },
   "outputs": [
    {
     "data": {
      "text/plain": [
       "<matplotlib.quiver.Quiver at 0x1a2214b160>"
      ]
     },
     "execution_count": 7,
     "metadata": {},
     "output_type": "execute_result"
    },
    {
     "data": {
      "text/plain": [
       "Text(1.69326,-3.62393,'y')"
      ]
     },
     "execution_count": 7,
     "metadata": {},
     "output_type": "execute_result"
    },
    {
     "data": {
      "image/png": "[encoded data removed]",
      "text/plain": [
       "<matplotlib.figure.Figure at 0x1a188d3438>"
      ]
     },
     "metadata": {},
     "output_type": "display_data"
    }
   ],
   "source": [
    "## plot the input data and the new set of axes\n",
    "ax = plt.gca()\n",
    "plot_gmm(initial_guess, X, label=labels, ax=ax)\n",
    "\n",
    "p = -6.0*v2\n",
    "v2l = 10.0*v2 \n",
    "\n",
    "ax.quiver(p[0],p[1],v2l[0],v2l[1], units = 'xy',scale=1)\n",
    "ax.text(v2l[0] + p[0], v2l[1] + p[1], 'y')\n",
    "ax.grid()"
   ]
  },
  {
   "cell_type": "markdown",
   "metadata": {},
   "source": [
    "### Transform the data to the new set of axes\n",
    "\n",
    "Now in this section we re going to use eigenvector matrix in order to transform the input dataset in the new system of coordinates"
   ]
  },
  {
   "cell_type": "code",
   "execution_count": 8,
   "metadata": {},
   "outputs": [
    {
     "data": {
      "text/plain": [
       "(array([ 4.,  5.,  5.,  7., 13., 15.,  7., 12.,  4.,  3.]),\n",
       " array([-4.3388, -4.113 , -3.8871, -3.6613, -3.4354, -3.2096, -2.9837,\n",
       "        -2.7579, -2.532 , -2.3062, -2.0804]),\n",
       " <a list of 10 Patch objects>)"
      ]
     },
     "execution_count": 8,
     "metadata": {},
     "output_type": "execute_result"
    },
    {
     "data": {
      "text/plain": [
       "(array([ 4., 11., 19., 29., 33., 28., 15.,  8.,  2.,  1.]),\n",
       " array([-0.5544,  0.0823,  0.719 ,  1.3557,  1.9924,  2.6291,  3.2658,\n",
       "         3.9025,  4.5392,  5.1759,  5.8126]),\n",
       " <a list of 10 Patch objects>)"
      ]
     },
     "execution_count": 8,
     "metadata": {},
     "output_type": "execute_result"
    },
    {
     "data": {
      "text/plain": [
       "<matplotlib.legend.Legend at 0x1a2205aac8>"
      ]
     },
     "execution_count": 8,
     "metadata": {},
     "output_type": "execute_result"
    },
    {
     "data": {
      "text/plain": [
       "Text(0.5,0,'y')"
      ]
     },
     "execution_count": 8,
     "metadata": {},
     "output_type": "execute_result"
    },
    {
     "data": {
      "image/png": "[encoded data removed]",
      "text/plain": [
       "<matplotlib.figure.Figure at 0x1a188cca58>"
      ]
     },
     "metadata": {},
     "output_type": "display_data"
    }
   ],
   "source": [
    "# tranform each class\n",
    "Y1 = np.matmul(X1,v2)\n",
    "Y2 = np.matmul(X2,v2)\n",
    "\n",
    "## show me dont tell me\n",
    "ax = plt.gca()\n",
    "ax.hist(Y1,color='blue', alpha=0.5, label='1')\n",
    "ax.hist(Y2,color='yellow', alpha=0.5, label='2')\n",
    "plt.legend(loc='upper right')\n",
    "plt.xlabel('y')\n",
    "\n",
    "Y = np.matmul(X,v2)"
   ]
  },
  {
   "cell_type": "markdown",
   "metadata": {},
   "source": [
    "So the classes are well separated using only one axis, this make easy to set a threshold to split the classes."
   ]
  },
  {
   "cell_type": "markdown",
   "metadata": {},
   "source": [
    "## Verification of the equations on the first sections\n",
    "\n",
    "For verification of the formulas cited in the firsts sections (See: [Small discussion about how LDA works (Can be skipped)]()), we are going to compute all matrix: $\\hat{\\Sigma_1}$, $\\hat{\\Sigma_2}$ and $S_t$ and compare with the global covariance matrix of the data (the spread of the data conserves) $\\hat{\\Sigma}$. Also because we generated the data using two multivariate Gaussians, we know the true values of the parameters $\\Sigma_1$ and $\\Sigma_2$ and we can compare with our estimations of this parameters.\n",
    "\n",
    "* Estimating the covariances Matrix\n",
    "\n",
    "Computing $S_k$, $\\hat{\\Sigma_k}$ and comparing with the true values $\\Sigma_k$\n"
   ]
  },
  {
   "cell_type": "code",
   "execution_count": 10,
   "metadata": {},
   "outputs": [
    {
     "name": "stdout",
     "output_type": "stream",
     "text": [
      "Class: 1\n",
      " Covariance matrix estimation Sigma_1: \n"
     ]
    },
    {
     "data": {
      "text/plain": [
       "array([[1.4794, 0.8646],\n",
       "       [0.8646, 0.8188]])"
      ]
     },
     "execution_count": 10,
     "metadata": {},
     "output_type": "execute_result"
    },
    {
     "name": "stdout",
     "output_type": "stream",
     "text": [
      " Covariance matrix expected Sigma_1:\n"
     ]
    },
    {
     "data": {
      "text/plain": [
       "[[2.0, 1.1], [1.1, 1.0]]"
      ]
     },
     "execution_count": 10,
     "metadata": {},
     "output_type": "execute_result"
    },
    {
     "name": "stdout",
     "output_type": "stream",
     "text": [
      "Class: 2\n",
      " Covariance matrix estimation Sigma_2:\n"
     ]
    },
    {
     "data": {
      "text/plain": [
       "array([[4.5396, 0.5596],\n",
       "       [0.5596, 1.152 ]])"
      ]
     },
     "execution_count": 10,
     "metadata": {},
     "output_type": "execute_result"
    },
    {
     "name": "stdout",
     "output_type": "stream",
     "text": [
      " Covariance matrix expected Sigma_2:\n"
     ]
    },
    {
     "data": {
      "text/plain": [
       "[[4.0, 0.5], [0.5, 1.0]]"
      ]
     },
     "execution_count": 10,
     "metadata": {},
     "output_type": "execute_result"
    }
   ],
   "source": [
    "Sigma1_hat =  S1/(N1 - 1)\n",
    "\n",
    "print('Class: 1')\n",
    "\n",
    "print(' Covariance matrix estimation Sigma_1: ')\n",
    "Sigma1_hat\n",
    "print(' Covariance matrix expected Sigma_1:')\n",
    "Sigma1\n",
    "\n",
    "Sigma2_hat = S2/(N2 - 1)\n",
    "\n",
    "print('Class: 2')\n",
    "print(' Covariance matrix estimation Sigma_2:')\n",
    "Sigma2_hat\n",
    "\n",
    "print(' Covariance matrix expected Sigma_2:')\n",
    "Sigma2"
   ]
  },
  {
   "cell_type": "markdown",
   "metadata": {},
   "source": [
    "the difference is due to the small sample size of each group."
   ]
  },
  {
   "cell_type": "code",
   "execution_count": 11,
   "metadata": {},
   "outputs": [
    {
     "name": "stdout",
     "output_type": "stream",
     "text": [
      " Spread matrix Sw:\n"
     ]
    },
    {
     "data": {
      "text/plain": [
       "array([[785.8784, 147.3599],\n",
       "       [147.3599, 232.2448]])"
      ]
     },
     "execution_count": 11,
     "metadata": {},
     "output_type": "execute_result"
    },
    {
     "name": "stdout",
     "output_type": "stream",
     "text": [
      " Spread matrix Sb:\n"
     ]
    },
    {
     "data": {
      "text/plain": [
       "array([[1205.6814, -896.1057],\n",
       "       [-896.1057,  666.018 ]])"
      ]
     },
     "execution_count": 11,
     "metadata": {},
     "output_type": "execute_result"
    },
    {
     "name": "stdout",
     "output_type": "stream",
     "text": [
      " Total spread matrix S_hat:\n"
     ]
    },
    {
     "data": {
      "text/plain": [
       "array([[1991.5598, -748.7458],\n",
       "       [-748.7458,  898.2628]])"
      ]
     },
     "execution_count": 11,
     "metadata": {},
     "output_type": "execute_result"
    },
    {
     "name": "stdout",
     "output_type": "stream",
     "text": [
      " Global covariance matrix Sigma_hat:\n"
     ]
    },
    {
     "data": {
      "text/plain": [
       "array([[ 8.8909, -3.3426],\n",
       "       [-3.3426,  4.0101]])"
      ]
     },
     "execution_count": 11,
     "metadata": {},
     "output_type": "execute_result"
    },
    {
     "name": "stdout",
     "output_type": "stream",
     "text": [
      " Covariance matrix expected Sigma:\n"
     ]
    },
    {
     "data": {
      "text/plain": [
       "array([[ 8.8909, -3.3426],\n",
       "       [-3.3426,  4.0101]])"
      ]
     },
     "execution_count": 11,
     "metadata": {},
     "output_type": "execute_result"
    }
   ],
   "source": [
    "u = np.add(X,-m).transpose()\n",
    "S_hat = np.matmul(u,u.transpose())\n",
    "\n",
    "Sigma_hat = S_hat/(N-1)\n",
    "\n",
    "print(' Spread matrix Sw:')\n",
    "Sw\n",
    "\n",
    "print(' Spread matrix Sb:')\n",
    "Sb\n",
    "\n",
    "print(' Total spread matrix S_hat:')\n",
    "S_hat\n",
    "\n",
    "print(' Global covariance matrix Sigma_hat:')\n",
    "Sigma_hat\n",
    "\n",
    "print(' Covariance matrix expected Sigma:')\n",
    "S"
   ]
  },
  {
   "cell_type": "markdown",
   "metadata": {},
   "source": [
    "* Comparing matrix $S_t$ and $\\hat{S}$"
   ]
  },
  {
   "cell_type": "code",
   "execution_count": 12,
   "metadata": {},
   "outputs": [
    {
     "name": "stdout",
     "output_type": "stream",
     "text": [
      " Total spread matrix S_t:\n"
     ]
    },
    {
     "data": {
      "text/plain": [
       "array([[1991.5598, -748.7458],\n",
       "       [-748.7458,  898.2628]])"
      ]
     },
     "execution_count": 12,
     "metadata": {},
     "output_type": "execute_result"
    },
    {
     "name": "stdout",
     "output_type": "stream",
     "text": [
      " Total spread matrix S_hat:\n"
     ]
    },
    {
     "data": {
      "text/plain": [
       "array([[1991.5598, -748.7458],\n",
       "       [-748.7458,  898.2628]])"
      ]
     },
     "execution_count": 12,
     "metadata": {},
     "output_type": "execute_result"
    },
    {
     "name": "stdout",
     "output_type": "stream",
     "text": [
      " (S_hat - St)/S_hat:\n"
     ]
    },
    {
     "data": {
      "text/plain": [
       "array([[-3.4251e-16, -3.0367e-16],\n",
       "       [-3.0367e-16,  0.0000e+00]])"
      ]
     },
     "execution_count": 12,
     "metadata": {},
     "output_type": "execute_result"
    }
   ],
   "source": [
    "St = Sw + Sb\n",
    "print(' Total spread matrix S_t:')\n",
    "St\n",
    "\n",
    "print(' Total spread matrix S_hat:')\n",
    "S_hat\n",
    "\n",
    "print(' (S_hat - St)/S_hat:')\n",
    "(S_hat - St)/S_hat"
   ]
  },
  {
   "cell_type": "markdown",
   "metadata": {},
   "source": [
    "The largest difference between S_hat and St is 6%.\n",
    "\n",
    "### Checking eigenvelaue and eigenvector equations\n",
    "\n",
    "checking eigenvalues and eigenvectros properties\n",
    "\n",
    "1. eigenvectors are normalized\n",
    "2. A is not **symetric** ($A \\neq A^t$), their eigenvectors are **NOT orthogonal**\n",
    "2. $trace(A) = \\sum \\lambda_i$ (sum of all eigenvalues)\n"
   ]
  },
  {
   "cell_type": "code",
   "execution_count": 15,
   "metadata": {},
   "outputs": [
    {
     "name": "stdout",
     "output_type": "stream",
     "text": [
      "A and A transpose\n"
     ]
    },
    {
     "data": {
      "text/plain": [
       "array([[ 2.5626, -1.9046],\n",
       "       [-5.4844,  4.0762]])"
      ]
     },
     "execution_count": 15,
     "metadata": {},
     "output_type": "execute_result"
    },
    {
     "data": {
      "text/plain": [
       "array([[ 2.5626, -5.4844],\n",
       "       [-1.9046,  4.0762]])"
      ]
     },
     "execution_count": 15,
     "metadata": {},
     "output_type": "execute_result"
    },
    {
     "name": "stdout",
     "output_type": "stream",
     "text": [
      "check eigenvectors\n"
     ]
    },
    {
     "data": {
      "text/plain": [
       "1.0"
      ]
     },
     "execution_count": 15,
     "metadata": {},
     "output_type": "execute_result"
    },
    {
     "data": {
      "text/plain": [
       "0.9999999999999999"
      ]
     },
     "execution_count": 15,
     "metadata": {},
     "output_type": "execute_result"
    },
    {
     "name": "stdout",
     "output_type": "stream",
     "text": [
      "Since A is NOt symetric their eigenvectors are not orthogonal\n"
     ]
    },
    {
     "data": {
      "text/plain": [
       "0.4746233554034873"
      ]
     },
     "execution_count": 15,
     "metadata": {},
     "output_type": "execute_result"
    },
    {
     "name": "stdout",
     "output_type": "stream",
     "text": [
      "check eigenvalues\n",
      "cheking trace(A) and sum of all eigenvalues\n"
     ]
    },
    {
     "data": {
      "text/plain": [
       "6.63877036877583"
      ]
     },
     "execution_count": 15,
     "metadata": {},
     "output_type": "execute_result"
    },
    {
     "data": {
      "text/plain": [
       "6.63877036877583"
      ]
     },
     "execution_count": 15,
     "metadata": {},
     "output_type": "execute_result"
    }
   ],
   "source": [
    "print('A and A transpose')\n",
    "A\n",
    "A.T\n",
    "\n",
    "print('check eigenvectors')\n",
    "# Checking the norms\n",
    "np.linalg.norm(v1)\n",
    "np.linalg.norm(v2)\n",
    "\n",
    "# If I was reducing form 3s to 2d than at leats 2 eigenvetors are orthogornal\n",
    "print('Since A is NOt symetric their eigenvectors are not orthogonal')\n",
    "\n",
    "v1.dot(v2.T)\n",
    "\n",
    "print('check eigenvalues')\n",
    "\n",
    "# checking eigenvalues\n",
    "print('cheking trace(A) and sum of all eigenvalues')\n",
    "np.sum(eigen_values)\n",
    "np.trace(A)\n",
    "\n",
    "assert np.abs(np.sum(eigen_values) - np.trace(A)) < 0.1"
   ]
  },
  {
   "cell_type": "markdown",
   "metadata": {},
   "source": [
    "## Comparing LDA and PCA with scikit learn and iris dataset\n",
    "\n",
    "### Iris database\n",
    "\n",
    "\n",
    "The three classes in the Iris dataset:\n",
    "\n",
    "* Iris-setosa (n=50)\n",
    "* Iris-versicolor (n=50)\n",
    "* Iris-virginica (n=50)\n",
    "\n",
    "The four features of the Iris dataset:\n",
    "\n",
    "* sepal length in cm\n",
    "* sepal width in cm\n",
    "* petal length in cm\n",
    "* petal width in cm\n",
    "\n",
    "<img src=\"images/iris_petal_sepal.png\" width=\"250\"/>"
   ]
  },
  {
   "cell_type": "code",
   "execution_count": 16,
   "metadata": {
    "code_folding": [
     3,
     13,
     57,
     94
    ]
   },
   "outputs": [],
   "source": [
    "# shameless stolen from: \n",
    "# https://sebastianraschka.com/Articles/2014_python_lda.html#checking-the-eigenvector-eigenvalue-calculation\n",
    "\n",
    "feature_dict = {i:label for i,label in zip(\n",
    "                range(4),\n",
    "                  ('sepal length in cm',\n",
    "                  'sepal width in cm',\n",
    "                  'petal length in cm',\n",
    "                  'petal width in cm', ))}\n",
    "\n",
    "label_dict = {0: 'Setosa', 1: 'Versicolor', 2:'Virginica'}\n",
    "\n",
    "\n",
    "def plot_data(X, title):\n",
    "\n",
    "    fig, axes = plt.subplots(nrows=2, ncols=2, figsize=(12,6))\n",
    "\n",
    "    for ax,cnt in zip(axes.ravel(), range(4)):  \n",
    "\n",
    "        # set bin sizes\n",
    "        min_b = math.floor(np.min(X[:,cnt]))\n",
    "        max_b = math.ceil(np.max(X[:,cnt]))\n",
    "        bins = np.linspace(min_b, max_b, 25)\n",
    "\n",
    "        # plottling the histograms\n",
    "        for lab,col in zip(range(0,3), ('blue', 'red', 'green')):\n",
    "            ax.hist(X[y==lab, cnt],\n",
    "                   color=col,\n",
    "                   label='%s' %label_dict[lab],\n",
    "                   bins=bins,\n",
    "                   alpha=0.5,)\n",
    "        ylims = ax.get_ylim()\n",
    "\n",
    "        # plot annotation\n",
    "        leg = ax.legend(loc='upper right', fancybox=True, fontsize=8)\n",
    "        leg.get_frame().set_alpha(0.5)\n",
    "        ax.set_ylim([0, max(ylims)+2])\n",
    "        ax.set_xlabel(feature_dict[cnt])\n",
    "        ax.set_title('Iris histogram #%s' %str(cnt+1))\n",
    "\n",
    "        # hide axis ticks\n",
    "        ax.tick_params(axis=\"both\", which=\"both\", bottom=\"off\", top=\"off\",  \n",
    "            labelbottom=\"on\", left=\"off\", right=\"off\", labelleft=\"on\")\n",
    "\n",
    "        # remove axis spines\n",
    "        ax.spines[\"top\"].set_visible(False)  \n",
    "        ax.spines[\"right\"].set_visible(False)\n",
    "        ax.spines[\"bottom\"].set_visible(False)\n",
    "        ax.spines[\"left\"].set_visible(False)    \n",
    "\n",
    "    axes[0][0].set_ylabel('count')\n",
    "    axes[1][0].set_ylabel('count')\n",
    "\n",
    "    fig.tight_layout()       \n",
    "\n",
    "    plt.show()\n",
    "\n",
    "def plot_pca(X,title):\n",
    "\n",
    "    ax = plt.subplot(111)\n",
    "\n",
    "    for label,marker,color in zip(\n",
    "        range(0,3),('^', 's', 'o'),('blue', 'red', 'green')):\n",
    "\n",
    "        plt.scatter(x=X[:,0][y == label],\n",
    "                y=X[:,1][y == label],\n",
    "                marker=marker,\n",
    "                color=color,\n",
    "                alpha=0.5,\n",
    "                label=label_dict[label]\n",
    "                )\n",
    "\n",
    "    plt.xlabel('PC1')\n",
    "    plt.ylabel('PC2')\n",
    "\n",
    "    leg = plt.legend(loc='upper left', fancybox=True)\n",
    "    leg.get_frame().set_alpha(0.5)\n",
    "    plt.title(title)\n",
    "\n",
    "    # hide axis ticks\n",
    "    plt.tick_params(axis=\"both\", which=\"both\", bottom=\"off\", top=\"off\",  \n",
    "            labelbottom=\"on\", left=\"off\", right=\"off\", labelleft=\"on\")\n",
    "\n",
    "    # remove axis spines\n",
    "    ax.spines[\"top\"].set_visible(False)  \n",
    "    ax.spines[\"right\"].set_visible(False)\n",
    "    ax.spines[\"bottom\"].set_visible(False)\n",
    "    ax.spines[\"left\"].set_visible(False)    \n",
    "\n",
    "    plt.tight_layout\n",
    "    plt.grid()\n",
    "\n",
    "    plt.show()\n",
    "    \n",
    "def plot_lda(X, title):\n",
    "\n",
    "    ax = plt.subplot(111)\n",
    "    for label,marker,color in zip(\n",
    "        range(0,3),('^', 's', 'o'),('blue', 'red', 'green')):\n",
    "\n",
    "        plt.scatter(x=X[:,0][y == label],\n",
    "                    y=X[:,1][y == label] * -1, # flip the figure\n",
    "                    marker=marker,\n",
    "                    color=color,\n",
    "                    alpha=0.5,\n",
    "                    label=label_dict[label])\n",
    "\n",
    "    plt.xlabel('LD1')\n",
    "    plt.ylabel('LD2')\n",
    "\n",
    "    leg = plt.legend(loc='upper right', fancybox=True)\n",
    "    leg.get_frame().set_alpha(0.5)\n",
    "    plt.title(title)\n",
    "\n",
    "    # hide axis ticks\n",
    "    plt.tick_params(axis=\"both\", which=\"both\", bottom=\"off\", top=\"off\",  \n",
    "            labelbottom=\"on\", left=\"off\", right=\"off\", labelleft=\"on\")\n",
    "\n",
    "    # remove axis spines\n",
    "    ax.spines[\"top\"].set_visible(False)  \n",
    "    ax.spines[\"right\"].set_visible(False)\n",
    "    ax.spines[\"bottom\"].set_visible(False)\n",
    "    ax.spines[\"left\"].set_visible(False)    \n",
    "\n",
    "    plt.grid()\n",
    "    plt.tight_layout\n",
    "    plt.show()"
   ]
  },
  {
   "cell_type": "code",
   "execution_count": 17,
   "metadata": {},
   "outputs": [
    {
     "data": {
      "text/plain": [
       "(150, 4)"
      ]
     },
     "execution_count": 17,
     "metadata": {},
     "output_type": "execute_result"
    },
    {
     "data": {
      "text/plain": [
       "array([0, 1, 2])"
      ]
     },
     "execution_count": 17,
     "metadata": {},
     "output_type": "execute_result"
    },
    {
     "data": {
      "image/png": "[encoded data removed]",
      "text/plain": [
       "<matplotlib.figure.Figure at 0x1a1942e2e8>"
      ]
     },
     "metadata": {},
     "output_type": "display_data"
    }
   ],
   "source": [
    "# Load the Iris flower dataset:\n",
    "iris = datasets.load_iris()\n",
    "X = iris.data\n",
    "y = iris.target\n",
    "\n",
    "X.shape\n",
    "np.unique(y, axis=0)\n",
    "\n",
    "plot_data(X, title='Scikit learn iris dataset')"
   ]
  },
  {
   "cell_type": "code",
   "execution_count": 18,
   "metadata": {},
   "outputs": [],
   "source": [
    "# LDA\n",
    "lda = LinearDiscriminantAnalysis(n_components=2)\n",
    "X_lda = lda.fit(X, y).transform(X)\n",
    "\n",
    "## PCA See no need to use labels\n",
    "pca = sklearnPCA(n_components=2)\n",
    "X_pca = pca.fit_transform(X)"
   ]
  },
  {
   "cell_type": "code",
   "execution_count": 19,
   "metadata": {},
   "outputs": [
    {
     "name": "stdout",
     "output_type": "stream",
     "text": [
      "Original number of features: 4\n",
      "LDA:\n",
      " Explaned variance ratio: [0.9915 0.0085]\n",
      " Reduced number of features: 2\n"
     ]
    },
    {
     "data": {
      "text/plain": [
       "DescribeResult(nobs=150, minmax=(array([-9.8694, -2.6169]), array([9.1883, 2.7556])), mean=array([ 1.9954e-15, -1.1768e-16]), variance=array([32.8254,  1.2604]), skewness=array([-0.4117,  0.1813]), kurtosis=array([-1.4209, -0.2893]))"
      ]
     },
     "execution_count": 19,
     "metadata": {},
     "output_type": "execute_result"
    },
    {
     "name": "stdout",
     "output_type": "stream",
     "text": [
      "PCA:\n",
      " Explaned variance ratio: [0.9246 0.053 ]\n",
      " Reduced number of features: 2\n"
     ]
    },
    {
     "data": {
      "text/plain": [
       "DescribeResult(nobs=150, minmax=(array([-3.2252, -1.2625]), array([3.7947, 1.3705])), mean=array([-2.8422e-15, -8.3489e-16]), variance=array([4.2248, 0.2422]), skewness=array([-0.2166,  0.1622]), kurtosis=array([-1.371 ,  0.1704]))"
      ]
     },
     "execution_count": 19,
     "metadata": {},
     "output_type": "execute_result"
    }
   ],
   "source": [
    "from scipy import stats\n",
    "print('Original number of features:', X.shape[1])\n",
    "print('LDA:')\n",
    "print(' Explaned variance ratio: {}'.format(lda.explained_variance_ratio_))\n",
    "print(' Reduced number of features:', X_lda.shape[1])\n",
    "stats.describe(X_lda)\n",
    "\n",
    "\n",
    "print('PCA:')\n",
    "print(' Explaned variance ratio: {}'.format(pca.explained_variance_ratio_))\n",
    "print(' Reduced number of features:', X_pca.shape[1])\n",
    "stats.describe(X_pca)"
   ]
  },
  {
   "cell_type": "code",
   "execution_count": 20,
   "metadata": {},
   "outputs": [
    {
     "data": {
      "image/png": "[encoded data removed]",
      "text/plain": [
       "<matplotlib.figure.Figure at 0x1a22033780>"
      ]
     },
     "metadata": {},
     "output_type": "display_data"
    },
    {
     "data": {
      "image/png": "[encoded data removed]",
      "text/plain": [
       "<matplotlib.figure.Figure at 0x1a22033860>"
      ]
     },
     "metadata": {},
     "output_type": "display_data"
    }
   ],
   "source": [
    "plot_pca(X_pca,title='PCA via scikit-learn')\n",
    "plot_lda(X_lda, title='LDA via scikit-learn')"
   ]
  },
  {
   "cell_type": "markdown",
   "metadata": {},
   "source": [
    "LDA gave us a better separated classes: Versicolor and Virginica."
   ]
  }
 ],
 "metadata": {
  "kernelspec": {
   "display_name": "Python 3",
   "language": "python",
   "name": "python3"
  },
  "language_info": {
   "codemirror_mode": {
    "name": "ipython",
    "version": 3
   },
   "file_extension": ".py",
   "mimetype": "text/x-python",
   "name": "python",
   "nbconvert_exporter": "python",
   "pygments_lexer": "ipython3",
   "version": "3.6.4"
  }
 },
 "nbformat": 4,
 "nbformat_minor": 2
}
