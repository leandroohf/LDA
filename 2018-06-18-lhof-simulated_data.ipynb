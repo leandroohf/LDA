{
 "cells": [
  {
   "cell_type": "markdown",
   "metadata": {},
   "source": [
    "# Linear Discriminant Analysis\n",
    "\n"
   ]
  },
  {
   "attachments": {},
   "cell_type": "markdown",
   "metadata": {},
   "source": [
    "# Introduction\n",
    "\n",
    "**WIP**\n",
    "\n",
    "Linear Discriminant Analysis (LDA) is most commonly used as dimensionality reduction technique in the pre-processing step for pattern-classification and machine learning applications. But can also be use as classifier. LDA is supervised algorithm (requires labeled data). The terms Fisher's linear discriminant, LDA and Quadratic Linear Discriminant QDA are often used interchangeably, but there are differences (See  [this](https://en.wikipedia.org/wiki/Linear_discriminant_analysis) and [this](https://en.wikipedia.org/wiki/Quadratic_classifier#Quadratic_discriminant_analysis) for better disambiguation):\n",
    "\n",
    "* QDA and LDA are classifier technique. QDA is more general than LDA. The main assumptions are:    \n",
    "\n",
    "    * The data are normally distributed. Multivariate Gaussians ($ N( x|  \\mu, \\Sigma) = \\frac{1}{(2\\pi)^{d/2}\\sqrt{\\Sigma}} \\exp{\\left[\\frac{1}{2}( x-  \\mu)\\Sigma^{-1}( x-  \\mu)^t\\right]}$) are used to score a new unlabeled data (Both QDA and LDA).   \n",
    "        \n",
    "        - LDA assume all classes follows the same distribution ( **homosdacity** ), So all covariance matrix are identical.  \n",
    "\n",
    "        - LDA assumes no multicollinearity between features. **Multicollinearity** can degraded prediction performance   \n",
    "    * The observations are independent: features are assumed to be randomly sampled (Both QDA and LDA).    \n",
    "\n",
    "\n",
    "LDA has been empirical verified to be relatively robust to slight violations of these assumptions. However, LDA is quite sensitive to outliers and the size of the smallest group must be larger (NICE to HAVE) than the number of predictor variables\n",
    "\n",
    "* Fishers LDA is dimension reduction technique.  It does not make assumption such as normality.   \n",
    "\n",
    "In this notebook we mainly will be talking about Fishers LDA and later will discuss about QDA and LDA as predictors. We normally use the word LDA to refers to Fishers LDA. For simplicity, the practical aspect of Fishers LDA will be explained utilzing a 2 class problem\n",
    "\n",
    "## What is LDA\n",
    "\n",
    "In the figure below an labeled dataset contained 2 classes are shown. LDA reduces the dimension of the data by defining a new set of axes ($y$) with lower dimension where the 2 classes are still well separated.\n",
    "\n",
    "<img src=\"images/lda_axes_0.png\" width=\"700\"/>\n",
    "\n",
    "\n",
    "###  Small discussion about how LDA works (Can be skipped)\n",
    "\n",
    "The of goal of (LDA) is to find best new set of axis that maximizes the distance between the means of the classes and also minimize overlap between the projected classes (confusion region). \n",
    "\n",
    "The figures below describe LDA being applied to a bidimensional dataset containing 2 classes. The dataset is a set of $n$ d-dimensional samples $X = \\{x_1, x_2, ..., x_n\\}$ already labeled in 2 groups: \n",
    "$X^{(k)} = \\{ x_1^{(k)},  x_2^{(k)}, ..., x_{n_k}^{(k)} \\}$ of size $n_k$ for $k = 1,2$ where $x_i^{(k)}$ is a vector of dimension $d$.\n",
    "\n",
    "In the figures can be seen the new proposed set of axes. The left figure, only the distance between the classes were maximized. As a end result there is overlapping region that can noticed in the histogram. The right figure is the LDA's results when not only the distance betwen the classes are maximized but also the overlapping region is minimized\n",
    "\n",
    "TODO: Try to find a better images or add extras axes in the figure\n",
    "\n",
    "<img src=\"images/lda_0.png\" width=\"700\"/>\n",
    "\n",
    "In order to do that, Fisher proposed to maximize the ratio \"scattter between classes/scatter within classes\" that is expressed by the Cost function:\n",
    "\n",
    "$\n",
    "J(w) = \\frac{w^{\\mathsf{t}}S_{b} w}{ w^{\\mathsf{t}}S_{w}  w}\n",
    "$\n",
    "\n",
    "where:\n",
    "\n",
    "* $S_{b}=\\sum_1^2( m_2 −  m)( m_2 −  m)^t$ :  between-class covariance/satter matrix. (Can be understood as measure of between class spread)\n",
    "    \n",
    "* $S_{w} =  S_1 + S_2$ : within-class covariance/scatter matrices. (Can be understood as measure of within class spread or the sum of the covaraince matrix) \n",
    "\n",
    "$ m_1$ and $ m_2$ are the mean of each class. $S_1$ and $S_2$ are the covariance matrix of each class. \n",
    "\n",
    "$\n",
    "S_k = \\sum_{i\\in X^{(k)}} ( x_i^{(k)} -  m_k) ( x_i^{(k)} - m_k)^t  \n",
    "$\n",
    "\n",
    "The total scatter is given by the covariance matrix and should be *conserved* in the new set of axes:\n",
    "\n",
    "$\n",
    "S_t = \\sum_{j=1}^{n}(x_j - m)(x_j - m)^t \\equiv \\sum_{k=1}^2 \\sum_{i=1}^{n_k}(x_i^{(k)} - m)(x_i^{(k)} - m)^t = S_W + S_B\n",
    "$\n",
    "\n",
    "$\n",
    "n = \\sum_{k=1}^2 n_k\n",
    "$\n",
    "\n",
    "Can be proved in  [here](refs/ea71fbef3b55b69e142897fadf43b3269463.pdf) and [here](refs/Dimensionality2.pdf) that maximize $J( w)$ is equivalent to find the solution of the eigenvalue problem for the matrix:\n",
    "\n",
    "$\n",
    "A =  S_{w}^{-1} S_b\n",
    "$\n",
    "\n",
    "$\n",
    "A{v} =  \\lambda {v}\n",
    "$\n",
    "\n",
    "where:\n",
    "* $v$ is the eigenvector and define the new sets of axes\n",
    "* $\\lambda$ is the eigenvalue\n",
    "\n",
    "\n",
    "### Principal Component Analysis vs. Linear Discriminant Analysis\n",
    "\n",
    "\"\n",
    "Both Linear Discriminant Analysis (LDA) and Principal Component Analysis (PCA) are linear transformation techniques that are commonly used for dimensionality reduction. PCA can be described as an “unsupervised” algorithm, since it “ignores” class labels and its goal is to find the directions (the so-called principal components) that maximize the variance in a dataset. In contrast to PCA, LDA is “supervised” and computes the directions (“linear discriminants”) that will represent the axes that that maximize the separation between multiple classes.\n",
    "\"\n",
    "\n",
    "<img src=\"images/lda_1.png\" width=\"700\"/>\n",
    "\n",
    "\n",
    "### Summarizing the LDA approach in 5 steps\n",
    "\n",
    "\n",
    "1. Compute the d-dimensional mean vectors for the different classes from the dataset.\n",
    "2. Compute the scatter matrices \n",
    "    * between-class: measure of dispersion between groups or classes\n",
    "    * within-class scatter matrix: measure of dispersion in the class or group\n",
    "3. Compute the eigenvectors $(\\pmb e_1, \\pmb e_2, ..., \\pmb e_d)$ and corresponding eigenvalues $(\\lambda_1, \\lambda_2,..., \\lambda_d)$ for the scatter matrices.\n",
    "4. Sort the eigenvectors by eigenvalues an keep the k eigenvectors with the k-largest eigenvalues\n",
    "5. Use the eigenvector matrix to transform the samples onto the new subspace. $Y = X*W$\n",
    "    * $Y$ is nxk matrix\n",
    "    * $X$ is nxd dimensional matrix. The input data\n",
    "    * $W$ is dxk dimensional scatter matrix\n",
    "\n",
    "\n",
    "### LDA or QDA as predictor\n",
    "\n",
    "\n",
    "The assumption of LDA and Quadradict discriminant analsys is that each class can be modelled by multivariate gaussian.\n",
    "\n",
    "$ \n",
    "N( x|  \\mu_k, \\Sigma_k) = \\frac{1}{(2\\pi)^{d/2}\\sqrt{\\Sigma_k}} \\exp{\\left[\\frac{1}{2}( x-  \\mu_k)\\Sigma_k^{-1}( x-  \\mu_k)^t\\right]}\n",
    "$\n",
    "\n",
    "The parameters of the Gaussian of eac classe can be estimated by using the mean and covariance of each group $X^(k)$.\n",
    "\n",
    "for QDA\n",
    "$\n",
    "\\boldsymbol\\Sigma_k = \\begin{bmatrix}\n",
    " \\sigma^2(x_1) & cov(x_2,x_1) \\\\\n",
    " cov(x_1,x_2) &  \\sigma^2(x_2)\n",
    "\\end{bmatrix}\n",
    "$ or for LDA $\n",
    "\\boldsymbol\\Sigma_k = \\begin{bmatrix}\n",
    " \\sigma^2(x_1) & 0 \\\\\n",
    " 0 &  \\sigma^2(x_2)\n",
    "\\end{bmatrix}\n",
    "$.\n",
    "\n",
    "where the index $i$ denotes the dimension of $x$ and $x \\in X^{(k)}$. The figure bellow ilustrate the procedure of label a new data point $x_{new}$. \n",
    "\n",
    "<img src=\"images/lda_predictor.png\" width=\"400\"/>\n",
    "\n",
    "$x_{new}$ will be labeled comparing the probabilities $N( x_{new}|  \\mu_k, \\Sigma_k)$:\n",
    "\n",
    "* 1 if $N( x_{new}|  \\mu_1, \\Sigma_1) > N( x_{new}|  \\mu_2, \\Sigma_2) $\n",
    "* 2 otherwise\n"
   ]
  },
  {
   "cell_type": "code",
   "execution_count": 41,
   "metadata": {},
   "outputs": [],
   "source": [
    "import numpy as np\n",
    "import pandas as pd\n",
    "import random as rand\n",
    "import matplotlib.pyplot as plt\n",
    "\n",
    "np.set_printoptions(precision=4)\n",
    "\n",
    "from IPython.core.interactiveshell import InteractiveShell\n",
    "InteractiveShell.ast_node_interactivity = \"all\"\n",
    "\n",
    "%matplotlib inline"
   ]
  },
  {
   "cell_type": "code",
   "execution_count": 87,
   "metadata": {},
   "outputs": [
    {
     "data": {
      "text/html": [
       "<div>\n",
       "<style scoped>\n",
       "    .dataframe tbody tr th:only-of-type {\n",
       "        vertical-align: middle;\n",
       "    }\n",
       "\n",
       "    .dataframe tbody tr th {\n",
       "        vertical-align: top;\n",
       "    }\n",
       "\n",
       "    .dataframe thead th {\n",
       "        text-align: right;\n",
       "    }\n",
       "</style>\n",
       "<table border=\"1\" class=\"dataframe\">\n",
       "  <thead>\n",
       "    <tr style=\"text-align: right;\">\n",
       "      <th></th>\n",
       "      <th>label</th>\n",
       "      <th>x</th>\n",
       "      <th>y</th>\n",
       "    </tr>\n",
       "  </thead>\n",
       "  <tbody>\n",
       "    <tr>\n",
       "      <th>0</th>\n",
       "      <td>1</td>\n",
       "      <td>-0.092040</td>\n",
       "      <td>4.709057</td>\n",
       "    </tr>\n",
       "    <tr>\n",
       "      <th>1</th>\n",
       "      <td>1</td>\n",
       "      <td>1.974166</td>\n",
       "      <td>3.841060</td>\n",
       "    </tr>\n",
       "    <tr>\n",
       "      <th>2</th>\n",
       "      <td>1</td>\n",
       "      <td>1.844352</td>\n",
       "      <td>4.467505</td>\n",
       "    </tr>\n",
       "    <tr>\n",
       "      <th>3</th>\n",
       "      <td>1</td>\n",
       "      <td>-2.555581</td>\n",
       "      <td>3.343549</td>\n",
       "    </tr>\n",
       "    <tr>\n",
       "      <th>4</th>\n",
       "      <td>1</td>\n",
       "      <td>-0.598959</td>\n",
       "      <td>3.541881</td>\n",
       "    </tr>\n",
       "  </tbody>\n",
       "</table>\n",
       "</div>"
      ],
      "text/plain": [
       "   label         x         y\n",
       "0      1 -0.092040  4.709057\n",
       "1      1  1.974166  3.841060\n",
       "2      1  1.844352  4.467505\n",
       "3      1 -2.555581  3.343549\n",
       "4      1 -0.598959  3.541881"
      ]
     },
     "execution_count": 87,
     "metadata": {},
     "output_type": "execute_result"
    },
    {
     "data": {
      "text/html": [
       "<div>\n",
       "<style scoped>\n",
       "    .dataframe tbody tr th:only-of-type {\n",
       "        vertical-align: middle;\n",
       "    }\n",
       "\n",
       "    .dataframe tbody tr th {\n",
       "        vertical-align: top;\n",
       "    }\n",
       "\n",
       "    .dataframe thead th {\n",
       "        text-align: right;\n",
       "    }\n",
       "</style>\n",
       "<table border=\"1\" class=\"dataframe\">\n",
       "  <thead>\n",
       "    <tr style=\"text-align: right;\">\n",
       "      <th></th>\n",
       "      <th>label</th>\n",
       "      <th>x</th>\n",
       "      <th>y</th>\n",
       "    </tr>\n",
       "  </thead>\n",
       "  <tbody>\n",
       "    <tr>\n",
       "      <th>220</th>\n",
       "      <td>2</td>\n",
       "      <td>6.574923</td>\n",
       "      <td>0.430610</td>\n",
       "    </tr>\n",
       "    <tr>\n",
       "      <th>221</th>\n",
       "      <td>2</td>\n",
       "      <td>8.519331</td>\n",
       "      <td>-0.012836</td>\n",
       "    </tr>\n",
       "    <tr>\n",
       "      <th>222</th>\n",
       "      <td>2</td>\n",
       "      <td>3.996991</td>\n",
       "      <td>-1.121867</td>\n",
       "    </tr>\n",
       "    <tr>\n",
       "      <th>223</th>\n",
       "      <td>2</td>\n",
       "      <td>6.721137</td>\n",
       "      <td>-0.264398</td>\n",
       "    </tr>\n",
       "    <tr>\n",
       "      <th>224</th>\n",
       "      <td>2</td>\n",
       "      <td>4.116927</td>\n",
       "      <td>0.593576</td>\n",
       "    </tr>\n",
       "  </tbody>\n",
       "</table>\n",
       "</div>"
      ],
      "text/plain": [
       "     label         x         y\n",
       "220      2  6.574923  0.430610\n",
       "221      2  8.519331 -0.012836\n",
       "222      2  3.996991 -1.121867\n",
       "223      2  6.721137 -0.264398\n",
       "224      2  4.116927  0.593576"
      ]
     },
     "execution_count": 87,
     "metadata": {},
     "output_type": "execute_result"
    },
    {
     "data": {
      "text/plain": [
       "<matplotlib.collections.PathCollection at 0x1a236860f0>"
      ]
     },
     "execution_count": 87,
     "metadata": {},
     "output_type": "execute_result"
    },
    {
     "data": {
      "image/png": "[encoded data removed]",
      "text/plain": [
       "<matplotlib.figure.Figure at 0x1a236fb940>"
      ]
     },
     "metadata": {},
     "output_type": "display_data"
    }
   ],
   "source": [
    "### Setup\n",
    "# set random seed\n",
    "rand.seed(2018)\n",
    "\n",
    "# 2 clusters\n",
    "# not that both covariance matrices are diagonal\n",
    "mu1 = [0.0, 4.0]\n",
    "Sigma1 = [ [2.0, 1.0], [1.0, 1.0] ]\n",
    "\n",
    "mu2 = [5.0, 0.0]\n",
    "Sigma2 = [ [4.0, 0.50], [0.50, 1.0] ]\n",
    "\n",
    "# generate samples\n",
    "N1 = 75\n",
    "N2 = 150\n",
    "x1, y1 = np.random.multivariate_normal(mu1, Sigma1, N1).T\n",
    "x2, y2 = np.random.multivariate_normal(mu2, Sigma2, N2).T\n",
    "\n",
    "xs = np.concatenate((x1, x2))\n",
    "ys = np.concatenate((y1, y2))\n",
    "labels = ([1] * N1) + ([2] * N2)\n",
    "\n",
    "data = {'x': xs, 'y': ys, 'label': labels}\n",
    "df = pd.DataFrame(data=data)\n",
    "\n",
    "# inspect the data\n",
    "df.head()\n",
    "df.tail()\n",
    "\n",
    "fig = plt.figure()\n",
    "plt.scatter(data['x'], data['y'], 24, c=data['label'])"
   ]
  },
  {
   "cell_type": "markdown",
   "metadata": {},
   "source": [
    "*TODO* <font color='red'>Move data generation to another notebook later</font>\n",
    "\n",
    "does need to be here"
   ]
  },
  {
   "cell_type": "code",
   "execution_count": 69,
   "metadata": {
    "code_folding": [
     2,
     20
    ]
   },
   "outputs": [],
   "source": [
    "from matplotlib.patches import Ellipse\n",
    "\n",
    "def draw_ellipse(position, covariance, ax=None, **kwargs):\n",
    "    \"\"\"Draw an ellipse with a given position and covariance\"\"\"\n",
    "    ax = ax or plt.gca()\n",
    "    \n",
    "    # Convert covariance to principal axes\n",
    "    if covariance.shape == (2, 2):\n",
    "        U, s, Vt = np.linalg.svd(covariance)\n",
    "        angle = np.degrees(np.arctan2(U[1, 0], U[0, 0]))\n",
    "        width, height = 2 * np.sqrt(s)\n",
    "    else:\n",
    "        angle = 0\n",
    "        width, height = 2 * np.sqrt(covariance)\n",
    "    \n",
    "    # Draw the Ellipse\n",
    "    for nsig in range(1, 4):\n",
    "        ax.add_patch(Ellipse(position, nsig * width, nsig * height,\n",
    "                             angle, **kwargs))\n",
    "\n",
    "def plot_gmm(gmm, X, label=[], ax=None):\n",
    "    ax = ax or plt.gca()\n",
    "    \n",
    "    if len(label) > 0:\n",
    "        labels = label\n",
    "        ax.scatter(X[:, 0], X[:, 1], c=labels, s=40, cmap='viridis', zorder=2)\n",
    "    else:\n",
    "        ax.scatter(X[:, 0], X[:, 1], s=40, zorder=2)\n",
    "    ax.axis('equal')\n",
    "    \n",
    "    ws = [value for g in gmm for (param, value) in g.items() if param == 'w']\n",
    "    w_factor = 0.2 /np.max(ws)\n",
    "    for param in gmm:\n",
    "        pos = param['mu']\n",
    "        covar = param['Covar']\n",
    "        w = param['w']\n",
    "\n",
    "        draw_ellipse(pos, covar, alpha=w * w_factor)"
   ]
  },
  {
   "cell_type": "code",
   "execution_count": 88,
   "metadata": {
    "code_folding": []
   },
   "outputs": [
    {
     "data": {
      "text/plain": [
       "<matplotlib.collections.PathCollection at 0x1a2384cf98>"
      ]
     },
     "execution_count": 88,
     "metadata": {},
     "output_type": "execute_result"
    },
    {
     "data": {
      "text/plain": [
       "Text(4.2,3.2,'new point')"
      ]
     },
     "execution_count": 88,
     "metadata": {},
     "output_type": "execute_result"
    },
    {
     "data": {
      "image/png": "[encoded data removed]",
      "text/plain": [
       "<matplotlib.figure.Figure at 0x1a234d9b00>"
      ]
     },
     "metadata": {},
     "output_type": "display_data"
    }
   ],
   "source": [
    "labels = df.label\n",
    "X = df[['x','y']].values\n",
    "\n",
    "initial_guess = [{ 'mu': np.asarray(mu1),\n",
    "          'Covar': np.asarray(Sigma1),\n",
    "          'w': 0.5 },  \n",
    "          {'mu': np.asarray(mu2),\n",
    "          'Covar': np.asarray(Sigma2),\n",
    "          'w': 0.5}]\n",
    "\n",
    "#plot_gmm(initial_guess, X,label=labels)\n",
    "\n",
    "ax = plt.gca()\n",
    "plot_gmm(initial_guess, X, label=labels, ax=ax)\n",
    "\n",
    "ax.scatter(4, 3, s=40, cmap='viridis', zorder=2)\n",
    "ax.text(4.2, 3.2, 'new point')"
   ]
  },
  {
   "cell_type": "code",
   "execution_count": 23,
   "metadata": {},
   "outputs": [],
   "source": [
    "df.to_csv('bi_dimensional_n_bi_modal_data.csv', index=False)"
   ]
  },
  {
   "cell_type": "markdown",
   "metadata": {},
   "source": [
    "## Read the data\n",
    "\n",
    "For verification of the formulas cited in the section above, we are going to compute all matrix: $S_w$, $\\hat{\\Sigma_1}$, $\\hat{\\Sigma_2}$,  $S_b$ and $S_t$ and compare with the global covariance matrix of the data (the spread of the data conserves) $\\hat{\\Sigma}$. Also because we generated the data using two multivariate Gaussians, we know the true values of the parameters $\\Sigma_1$ and $\\Sigma_2$ and we can compare with our estimations of this parameters.\n",
    "\n",
    "1. read data\n",
    "2. Compute global mean and\n",
    "3. Global covariance matrix\n",
    "    * Using the formula\n",
    "    * Using numpy.cov"
   ]
  },
  {
   "cell_type": "code",
   "execution_count": 89,
   "metadata": {},
   "outputs": [
    {
     "data": {
      "text/html": [
       "<div>\n",
       "<style scoped>\n",
       "    .dataframe tbody tr th:only-of-type {\n",
       "        vertical-align: middle;\n",
       "    }\n",
       "\n",
       "    .dataframe tbody tr th {\n",
       "        vertical-align: top;\n",
       "    }\n",
       "\n",
       "    .dataframe thead th {\n",
       "        text-align: right;\n",
       "    }\n",
       "</style>\n",
       "<table border=\"1\" class=\"dataframe\">\n",
       "  <thead>\n",
       "    <tr style=\"text-align: right;\">\n",
       "      <th></th>\n",
       "      <th>label</th>\n",
       "      <th>x</th>\n",
       "      <th>y</th>\n",
       "    </tr>\n",
       "  </thead>\n",
       "  <tbody>\n",
       "    <tr>\n",
       "      <th>9</th>\n",
       "      <td>1</td>\n",
       "      <td>1.869851</td>\n",
       "      <td>4.702323</td>\n",
       "    </tr>\n",
       "    <tr>\n",
       "      <th>185</th>\n",
       "      <td>2</td>\n",
       "      <td>3.105632</td>\n",
       "      <td>-0.877444</td>\n",
       "    </tr>\n",
       "    <tr>\n",
       "      <th>36</th>\n",
       "      <td>1</td>\n",
       "      <td>1.815062</td>\n",
       "      <td>3.759188</td>\n",
       "    </tr>\n",
       "    <tr>\n",
       "      <th>71</th>\n",
       "      <td>1</td>\n",
       "      <td>0.741355</td>\n",
       "      <td>4.740705</td>\n",
       "    </tr>\n",
       "    <tr>\n",
       "      <th>207</th>\n",
       "      <td>2</td>\n",
       "      <td>5.845130</td>\n",
       "      <td>1.072151</td>\n",
       "    </tr>\n",
       "  </tbody>\n",
       "</table>\n",
       "</div>"
      ],
      "text/plain": [
       "     label         x         y\n",
       "9        1  1.869851  4.702323\n",
       "185      2  3.105632 -0.877444\n",
       "36       1  1.815062  3.759188\n",
       "71       1  0.741355  4.740705\n",
       "207      2  5.845130  1.072151"
      ]
     },
     "execution_count": 89,
     "metadata": {},
     "output_type": "execute_result"
    },
    {
     "data": {
      "text/plain": [
       "(-0.5679008206193149, 1.3020853342039664e-20)"
      ]
     },
     "execution_count": 89,
     "metadata": {},
     "output_type": "execute_result"
    },
    {
     "name": "stdout",
     "output_type": "stream",
     "text": [
      "total variance: [8.9373 4.4671]\n"
     ]
    },
    {
     "data": {
      "text/plain": [
       "array([3.3189, 1.4704])"
      ]
     },
     "execution_count": 89,
     "metadata": {},
     "output_type": "execute_result"
    },
    {
     "data": {
      "text/plain": [
       "array([[ 8.9772, -3.6043],\n",
       "       [-3.6043,  4.487 ]])"
      ]
     },
     "execution_count": 89,
     "metadata": {},
     "output_type": "execute_result"
    }
   ],
   "source": [
    "#df = pd.read_csv('bi_dimensional_n_bi_modal_data.csv', index_col=False)\n",
    "\n",
    "df.sample(5).head(5)\n",
    "\n",
    "X = df[['x','y']].values\n",
    "\n",
    "total_variance = np.var(X,axis=0)\n",
    "from scipy.stats.stats import pearsonr \n",
    "pearsonr(X[:,0],X[:,1])\n",
    "\n",
    "m = np.mean(X,axis=0)\n",
    "S = np.cov(X[:,0],X[:,1])\n",
    "\n",
    "print('total variance: {}'.format(total_variance))\n",
    "m\n",
    "S"
   ]
  },
  {
   "cell_type": "markdown",
   "metadata": {},
   "source": [
    "### Estimating the covariances Matrix\n",
    "\n",
    "\n",
    "Computing $Sk$, $\\hat{\\Sigma_k}$ and comparing with the true values $\\Sigma_k$\n"
   ]
  },
  {
   "cell_type": "code",
   "execution_count": 90,
   "metadata": {},
   "outputs": [
    {
     "name": "stdout",
     "output_type": "stream",
     "text": [
      "Class: 1\n",
      " number of samples in first group N1: 75\n",
      "\n",
      " Spread matrix S1:\n"
     ]
    },
    {
     "data": {
      "text/plain": [
       "array([[163.3178,  68.339 ],\n",
       "       [ 68.339 ,  66.3529]])"
      ]
     },
     "execution_count": 90,
     "metadata": {},
     "output_type": "execute_result"
    },
    {
     "name": "stdout",
     "output_type": "stream",
     "text": [
      " Covariance matrix estimation Sigma_1: \n"
     ]
    },
    {
     "data": {
      "text/plain": [
       "array([[2.207 , 0.9235],\n",
       "       [0.9235, 0.8967]])"
      ]
     },
     "execution_count": 90,
     "metadata": {},
     "output_type": "execute_result"
    },
    {
     "name": "stdout",
     "output_type": "stream",
     "text": [
      " Covariance matrix expected Sigma_1:\n"
     ]
    },
    {
     "data": {
      "text/plain": [
       "[[2.0, 1.0], [1.0, 1.0]]"
      ]
     },
     "execution_count": 90,
     "metadata": {},
     "output_type": "execute_result"
    },
    {
     "name": "stdout",
     "output_type": "stream",
     "text": [
      "Class: 2\n",
      " number of samples in first group N2: 150\n",
      "\n",
      " Spread matrix S2:\n"
     ]
    },
    {
     "data": {
      "text/plain": [
       "array([[655.6355,  92.394 ],\n",
       "       [ 92.394 , 152.4445]])"
      ]
     },
     "execution_count": 90,
     "metadata": {},
     "output_type": "execute_result"
    },
    {
     "name": "stdout",
     "output_type": "stream",
     "text": [
      " Covariance matrix estimation Sigma_2:\n"
     ]
    },
    {
     "data": {
      "text/plain": [
       "array([[4.4002, 0.6201],\n",
       "       [0.6201, 1.0231]])"
      ]
     },
     "execution_count": 90,
     "metadata": {},
     "output_type": "execute_result"
    },
    {
     "name": "stdout",
     "output_type": "stream",
     "text": [
      " Covariance matrix expected Sigma_2:\n"
     ]
    },
    {
     "data": {
      "text/plain": [
       "[[4.0, 0.5], [0.5, 1.0]]"
      ]
     },
     "execution_count": 90,
     "metadata": {},
     "output_type": "execute_result"
    }
   ],
   "source": [
    "X1 = df.loc[df.label ==1,['x','y']].values\n",
    "m1 = np.mean(X1,axis=0)\n",
    "\n",
    "u1 = np.add(X1,-m1).transpose()\n",
    "N1 = X1.shape[0] \n",
    "\n",
    "Sigma1_hat = np.matmul(u1,u1.transpose())*1.0/(N1- 1)\n",
    "S1 = Sigma1_hat*(N1 - 1)\n",
    "\n",
    "print('Class: 1')\n",
    "print(' number of samples in first group N1: {}\\n'.format(N1))\n",
    "print(' Spread matrix S1:')\n",
    "S1\n",
    "print(' Covariance matrix estimation Sigma_1: ')\n",
    "Sigma1_hat\n",
    "print(' Covariance matrix expected Sigma_1:')\n",
    "Sigma1\n",
    "\n",
    "\n",
    "X2 = df.loc[df.label == 2,['x','y']].values\n",
    "N2 = X2.shape[0]\n",
    "\n",
    "m2 = np.mean(X2,axis=0)\n",
    "u2 = np.add(X2,-m2).transpose()\n",
    "Sigma2_hat = np.matmul(u2,u2.transpose())*1.0/(N2 - 1)\n",
    "S2 = Sigma2_hat*(N2 - 1)\n",
    "\n",
    "\n",
    "print('Class: 2')\n",
    "print(' number of samples in first group N2: {}\\n'.format(N2))\n",
    "print(' Spread matrix S2:')\n",
    "S2\n",
    "print(' Covariance matrix estimation Sigma_2:')\n",
    "Sigma2_hat\n",
    "print(' Covariance matrix expected Sigma_2:')\n",
    "Sigma2"
   ]
  },
  {
   "cell_type": "markdown",
   "metadata": {},
   "source": [
    "the rough 10% difference is due to the small sample size of each group\n",
    "\n",
    "### Computing between and within groups spread matrix\n"
   ]
  },
  {
   "cell_type": "code",
   "execution_count": 93,
   "metadata": {},
   "outputs": [
    {
     "name": "stdout",
     "output_type": "stream",
     "text": [
      " Spread matrix Sw:\n"
     ]
    },
    {
     "data": {
      "text/plain": [
       "array([[818.9533, 160.7331],\n",
       "       [160.7331, 218.7974]])"
      ]
     },
     "execution_count": 93,
     "metadata": {},
     "output_type": "execute_result"
    },
    {
     "name": "stdout",
     "output_type": "stream",
     "text": [
      " Spread matrix Sb:\n"
     ]
    },
    {
     "data": {
      "text/plain": [
       "array([[1191.9399, -968.096 ],\n",
       "       [-968.096 ,  786.2894]])"
      ]
     },
     "execution_count": 93,
     "metadata": {},
     "output_type": "execute_result"
    },
    {
     "name": "stdout",
     "output_type": "stream",
     "text": [
      " Total spread matrix S_hat:\n"
     ]
    },
    {
     "data": {
      "text/plain": [
       "array([[2010.8932, -807.3629],\n",
       "       [-807.3629, 1005.0868]])"
      ]
     },
     "execution_count": 93,
     "metadata": {},
     "output_type": "execute_result"
    },
    {
     "name": "stdout",
     "output_type": "stream",
     "text": [
      " Global covariance matrix Sigma_hat:\n"
     ]
    },
    {
     "data": {
      "text/plain": [
       "array([[ 8.9772, -3.6043],\n",
       "       [-3.6043,  4.487 ]])"
      ]
     },
     "execution_count": 93,
     "metadata": {},
     "output_type": "execute_result"
    },
    {
     "name": "stdout",
     "output_type": "stream",
     "text": [
      " Covariance matrix expected Sigma:\n"
     ]
    },
    {
     "data": {
      "text/plain": [
       "array([[ 8.9772, -3.6043],\n",
       "       [-3.6043,  4.487 ]])"
      ]
     },
     "execution_count": 93,
     "metadata": {},
     "output_type": "execute_result"
    }
   ],
   "source": [
    "\n",
    "\n",
    "Sw = np.add(S1,S2)\n",
    "\n",
    "\n",
    "\n",
    "\n",
    "dm1 = (np.add(m1,-m))\n",
    "dm1 = dm1[np.newaxis].transpose()\n",
    "\n",
    "dm2 = (np.add(m2,-m))\n",
    "dm2 = dm2[np.newaxis].transpose()\n",
    "\n",
    "Sb = np.add(N1*np.dot(dm1, dm1.transpose()),N2*np.dot(dm2, dm2.transpose()))\n",
    "\n",
    "\n",
    "N = X.shape[0]\n",
    "u = np.add(X,-m).transpose()\n",
    "\n",
    "Sigma_hat = np.matmul(u,u.transpose())*1.0/(N - 1)\n",
    "S_hat = Sigma_hat*(N-1)\n",
    "\n",
    "print(' Spread matrix Sw:')\n",
    "Sw\n",
    "\n",
    "print(' Spread matrix Sb:')\n",
    "Sb\n",
    "\n",
    "print(' Total spread matrix S_hat:')\n",
    "S_hat\n",
    "\n",
    "print(' Global covariance matrix Sigma_hat:')\n",
    "Sigma_hat\n",
    "\n",
    "print(' Covariance matrix expected Sigma:')\n",
    "S"
   ]
  },
  {
   "cell_type": "markdown",
   "metadata": {},
   "source": [
    "Comparing matrix $S_t$ and $\\hat{S}$"
   ]
  },
  {
   "cell_type": "code",
   "execution_count": null,
   "metadata": {},
   "outputs": [],
   "source": [
    "St = Sw + Sb\n",
    "print(' Total spread matrix S_t:')\n",
    "St\n",
    "\n",
    "print(' Total spread matrix S_hat:')\n",
    "S_hat\n"
   ]
  },
  {
   "cell_type": "markdown",
   "metadata": {},
   "source": [
    "### Solving the eigenvalue and eigenvector \n",
    "\n",
    "* Inverting $S_w$ and check the results\n"
   ]
  },
  {
   "cell_type": "code",
   "execution_count": 97,
   "metadata": {},
   "outputs": [
    {
     "name": "stdout",
     "output_type": "stream",
     "text": [
      "Sw:\n"
     ]
    },
    {
     "data": {
      "text/plain": [
       "array([[818.9533, 160.7331],\n",
       "       [160.7331, 218.7974]])"
      ]
     },
     "execution_count": 97,
     "metadata": {},
     "output_type": "execute_result"
    },
    {
     "name": "stdout",
     "output_type": "stream",
     "text": [
      "Inverted Sw:\n"
     ]
    },
    {
     "data": {
      "text/plain": [
       "array([[ 0.0014, -0.001 ],\n",
       "       [-0.001 ,  0.0053]])"
      ]
     },
     "execution_count": 97,
     "metadata": {},
     "output_type": "execute_result"
    },
    {
     "name": "stdout",
     "output_type": "stream",
     "text": [
      "Identity matrix\n"
     ]
    },
    {
     "data": {
      "text/plain": [
       "array([[ 1.0000e+00,  2.4789e-18],\n",
       "       [-7.8002e-18,  1.0000e+00]])"
      ]
     },
     "execution_count": 97,
     "metadata": {},
     "output_type": "execute_result"
    }
   ],
   "source": [
    "Sw_inv = np.linalg.inv(Sw)\n",
    "I = np.matmul(Sw,Sw_inv)\n",
    "\n",
    "print('Sw:')\n",
    "Sw\n",
    "\n",
    "print('Inverted Sw:')\n",
    "Sw_inv\n",
    "\n",
    "print('Identity matrix')\n",
    "I\n"
   ]
  },
  {
   "cell_type": "code",
   "execution_count": 96,
   "metadata": {},
   "outputs": [
    {
     "name": "stdout",
     "output_type": "stream",
     "text": [
      "A:\n"
     ]
    },
    {
     "data": {
      "text/plain": [
       "array([[ 2.7154, -2.2054],\n",
       "       [-6.4194,  5.2138]])"
      ]
     },
     "execution_count": 96,
     "metadata": {},
     "output_type": "execute_result"
    },
    {
     "name": "stdout",
     "output_type": "stream",
     "text": [
      "eigen_values:\n"
     ]
    },
    {
     "data": {
      "text/plain": [
       "array([0.    , 7.9292])"
      ]
     },
     "execution_count": 96,
     "metadata": {},
     "output_type": "execute_result"
    },
    {
     "name": "stdout",
     "output_type": "stream",
     "text": [
      "eigen_vectors:\n"
     ]
    },
    {
     "data": {
      "text/plain": [
       "array([[-0.6305,  0.3896],\n",
       "       [-0.7762, -0.921 ]])"
      ]
     },
     "execution_count": 96,
     "metadata": {},
     "output_type": "execute_result"
    }
   ],
   "source": [
    "A = np.matmul(Sw_inv, Sb)\n",
    "\n",
    "eigen_values, v = np.linalg.eig(A)\n",
    "\n",
    "\n",
    "print('A:')\n",
    "A\n",
    "print('eigen_values:')\n",
    "eigen_values\n",
    "print('eigen_vectors:')\n",
    "v"
   ]
  },
  {
   "cell_type": "markdown",
   "metadata": {},
   "source": [
    "### Transform the data to the new set of axes\n",
    "\n",
    "* Create transformation matrix "
   ]
  },
  {
   "cell_type": "code",
   "execution_count": null,
   "metadata": {},
   "outputs": [],
   "source": [
    "\n",
    "# Tranformation matrix\n",
    "\n",
    "\n",
    "# Apply transformation matrix\n",
    "\n",
    "\n",
    "# plot data in the new coordinate system\n",
    "\n",
    "# show the total variance is the same\n",
    "\n",
    "\n",
    "# then remove 1 axis  with the lowest eigenvalue\n",
    "\n",
    "\n",
    "# show after variance"
   ]
  },
  {
   "cell_type": "markdown",
   "metadata": {},
   "source": [
    "## Run scikit learn with iris dataset\n",
    "\n",
    "I could be more creative on that\n",
    "\n",
    "\n",
    "\n",
    "*TODO* <font color='red'>Important to include a discussion about the histograms separation before and after LDA</font>"
   ]
  },
  {
   "cell_type": "code",
   "execution_count": null,
   "metadata": {},
   "outputs": [],
   "source": [
    "from sklearn import datasets\n",
    "from sklearn.discriminant_analysis import LinearDiscriminantAnalysis\n",
    "\n",
    "# Load the Iris flower dataset:\n",
    "iris = datasets.load_iris()\n",
    "X = iris.data\n",
    "y = iris.target"
   ]
  },
  {
   "cell_type": "code",
   "execution_count": null,
   "metadata": {},
   "outputs": [],
   "source": [
    "# Create an LDA that will reduce the data down to 1 feature\n",
    "lda = LinearDiscriminantAnalysis(n_components=1)\n",
    "\n",
    "# run an LDA and use it to transform the features\n",
    "X_lda = lda.fit(X, y).transform(X)"
   ]
  },
  {
   "cell_type": "code",
   "execution_count": null,
   "metadata": {},
   "outputs": [],
   "source": [
    "# Print the number of features\n",
    "print('Original number of features:', X.shape[1])\n",
    "print('Reduced number of features:', X_lda.shape[1])"
   ]
  },
  {
   "cell_type": "code",
   "execution_count": null,
   "metadata": {},
   "outputs": [],
   "source": [
    "## View the ratio of explained variance\n",
    "\n",
    "lda_var_ratios = lda.explained_variance_ratio_\n",
    "\n",
    "lda_var_ratios"
   ]
  },
  {
   "cell_type": "code",
   "execution_count": null,
   "metadata": {},
   "outputs": [],
   "source": [
    "# Create a function\n",
    "def select_n_components(var_ratio, goal_var: float) -> int:\n",
    "    # Set initial variance explained so far\n",
    "    total_variance = 0.0\n",
    "    \n",
    "    # Set initial number of features\n",
    "    n_components = 0\n",
    "    \n",
    "    # For the explained variance of each feature:\n",
    "    for explained_variance in var_ratio:\n",
    "        \n",
    "        # Add the explained variance to the total\n",
    "        total_variance += explained_variance\n",
    "        \n",
    "        # Add one to the number of components\n",
    "        n_components += 1\n",
    "        \n",
    "        # If we reach our goal level of explained variance\n",
    "        if total_variance >= goal_var:\n",
    "            # End the loop\n",
    "            break\n",
    "            \n",
    "    # Return the number of components\n",
    "    return n_components"
   ]
  },
  {
   "cell_type": "code",
   "execution_count": null,
   "metadata": {},
   "outputs": [],
   "source": [
    "# Run function\n",
    "select_n_components(lda_var_ratios, 0.95)"
   ]
  },
  {
   "cell_type": "code",
   "execution_count": null,
   "metadata": {},
   "outputs": [],
   "source": []
  }
 ],
 "metadata": {
  "kernelspec": {
   "display_name": "Python 3",
   "language": "python",
   "name": "python3"
  },
  "language_info": {
   "codemirror_mode": {
    "name": "ipython",
    "version": 3
   },
   "file_extension": ".py",
   "mimetype": "text/x-python",
   "name": "python",
   "nbconvert_exporter": "python",
   "pygments_lexer": "ipython3",
   "version": "3.6.4"
  }
 },
 "nbformat": 4,
 "nbformat_minor": 2
}
