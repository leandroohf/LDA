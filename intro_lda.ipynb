{
 "cells": [
  {
   "cell_type": "markdown",
   "metadata": {},
   "source": [
    "# Linear/Quadradic Discriminant Analysis\n",
    "\n",
    "# Introduction\n",
    "\n",
    "**WIP**\n",
    "\n",
    "Linear Discriminant Analysis (LDA) is most commonly used as dimensionality reduction technique in the pre-processing step for pattern-classification and machine learning applications. But can also be use as classifier. LDA is supervised algorithm (requires labeled data). The terms Fisher's linear discriminant, LDA and Quadratic Linear Discriminant QDA are often used interchangeably, but there are differences (See  [this](https://en.wikipedia.org/wiki/Linear_discriminant_analysis) and [this](https://en.wikipedia.org/wiki/Quadratic_classifier#Quadratic_discriminant_analysis) for better disambiguation):\n",
    "\n",
    "* QDA and LDA are classifier technique. QDA is more general than LDA. The main assumptions are:    \n",
    "\n",
    "    * The data are normally distributed. Multivariate Gaussians ($ N( x|  \\mu, \\Sigma) = \\frac{1}{(2\\pi)^{d/2}\\sqrt{|\\Sigma|}} \\exp{\\left[\\frac{1}{2}( x-  \\mu)\\Sigma^{-1}( x-  \\mu)^t\\right]}$) are used to score a new unlabeled data (Both QDA and LDA).   \n",
    "        \n",
    "        - LDA assume all classes follows the same distribution ( **homosdacity** ), So all covariance matrix are identical.  \n",
    "\n",
    "        - LDA assumes no multicollinearity between features. **Multicollinearity** can degraded prediction performance   \n",
    "    * The observations are independent: features are assumed to be randomly sampled (Both QDA and LDA).    \n",
    "\n",
    "\n",
    "LDA has been empirical verified to be relatively robust to slight violations of these assumptions. However, LDA is quite sensitive to outliers and the size of the smallest group must be larger (NICE to HAVE) than the number of predictor variables\n",
    "\n",
    "* Fishers LDA is dimension reduction technique.  It does not make assumption such as normality.   \n",
    "\n",
    "In this notebook we mainly will be talking about Fishers LDA and later will discuss about QDA and LDA as predictors. We normally use the word LDA to refers to Fishers LDA. For simplicity, the practical aspect of Fishers LDA will be explained utilzing a 2 class problem and bi-dimensional data.\n",
    "\n",
    "## What is LDA\n",
    "\n",
    "In the figure below an labeled dataset contained 2 classes are shown. LDA reduces the dimension of the data by defining a new set of axes ($y$) with lower dimension where the 2 classes are still well separated.\n",
    "\n",
    "The assumption of LDA and Quadradict discriminant analsys is that each class can be modelled by multivariate gaussian.\n",
    "\n",
    "$ \n",
    "N( x|  \\mu_k, \\Sigma_k) = \\frac{1}{(2\\pi)^{d/2}\\sqrt{|\\Sigma_k|}} \\exp{\\left[\\frac{1}{2}( x-  \\mu_k)\\Sigma_k^{-1}( x-  \\mu_k)^t\\right]}\n",
    "$\n",
    "\n",
    "The parameters of the Gaussian of each class can be estimated by using the mean and covariance of each group $X^{(k)}$.\n",
    "\n",
    "for QDA\n",
    "$\n",
    "\\boldsymbol\\Sigma_k = \\begin{bmatrix}\n",
    " \\sigma^2(x_1) & cov(x_2,x_1) \\\\\n",
    " cov(x_1,x_2) &  \\sigma^2(x_2)\n",
    "\\end{bmatrix}\n",
    "$ for $x \\in X^{(k)}$  or for LDA $\n",
    "\\boldsymbol\\Sigma_k = \\begin{bmatrix}\n",
    " \\sigma^2 & 0 \\\\\n",
    " 0 &  \\sigma^2\n",
    "\\end{bmatrix}\n",
    "$.\n",
    "\n",
    "where the index $i$ denotes the dimension of $x$ and $x \\in X^{(k)}$. The figure bellow ilustrate the procedure of label a new data point $x_{new}$. \n",
    "\n",
    "<img src=\"images/lda_predictor.png\" width=\"400\"/>\n",
    "\n",
    "$x_{new}$ will be labeled comparing the probabilities $N( x_{new}|  \\mu_k, \\Sigma_k)$:\n",
    "\n",
    "\n",
    "###  Small discussion about how LDA works (Can be skipped)\n",
    "\n",
    "The of goal of (LDA) is to find best new set of axis that maximizes the distance between the means of the classes and also minimize overlap between the projected classes (confusion region). \n",
    "\n",
    "The figures below describe LDA being applied to a bidimensional dataset containing 2 classes. The dataset is a set of $n$ d-dimensional samples $X = \\{x_1, x_2, ..., x_n\\}$ already labeled in 2 groups: \n",
    "$X^{(k)} = \\{ x_1^{(k)},  x_2^{(k)}, ..., x_{n_k}^{(k)} \\}$ of size $n_k$ for $k = 1,2$ where $x_i^{(k)}$ is a vector of dimension $d$.\n",
    "\n",
    "In the figures can be seen the new proposed set of axes. The left figure, only the distance between the classes were maximized. As a end result there is overlapping region that can noticed in the histogram. The right figure is the LDA's results when not only the distance betwen the classes are maximized but also the overlapping region is minimized\n",
    "\n",
    "\n",
    "$\n",
    "P(C=k|X=x) = \\frac{P(X=x|C=k)P(C=k)}{P(X=x)}\n",
    "$\n",
    "\n",
    "Where $P(X=x|C=k) = N( x|  \\mu_k, \\Sigma_k)$ and $P(C=k) = N_k/N$ and assuming $P(X=x) = const$ is an uniform.\n",
    "$P(C=k|X=x)$ gives the probability of $x$ belongs to class $k$ and it is known as likelihood. Taking the log of likelihood and ignoring the denominator we have the score function:\n",
    "\n",
    "$\n",
    "\\delta_k(x) = -\\frac{1}{2} \\log |\\Sigma_k| - \\frac{1}{2} (x - \\mu_k)\\Sigma_k^{-1}(x - \\mu_k)^t + \\log \\pi_k\n",
    "$\n",
    "\n",
    "\n",
    "### Summarizing the LDA/QDA approach in 3 steps\n",
    "\n",
    "In practice the parameters of the Gaussian distribution are unknown or can be estimated by. Below there are 5 steps to\n",
    "take to label a new data usimg QDA/LDA.\n",
    "\n",
    "1. $\\pi_k = N_k /N$, where $N_k$ is the number of observations in class k\n",
    "2. $\\hat{\\mu_k} =  \\frac{1}{N_k} \\sum_{x_i\\in X^{(k)}}  x_i^{(k)} \\equiv mean(X^{(k)})$\n",
    "3. $\\hat{\\Sigma_k} = \\frac{1}{N_k -1}\\sum_{x_i\\in X^{(k)}} ( x_i^{(k)} -  \\hat{\\mu_k}) ( x_i^{(k)} - \\hat{\\mu_k})^t \\equiv Cov(X^{k})$\n",
    "4. Compute $\\delta_k(x)$, the score function\n",
    "5. assign label of the new data to the class with large $\\delta_k(x)$.\n",
    "\n"
   ]
  },
  {
   "cell_type": "code",
   "execution_count": null,
   "metadata": {},
   "outputs": [],
   "source": [
    "import numpy as np\n",
    "import pandas as pd\n",
    "import random as rand\n",
    "import matplotlib.pyplot as plt\n",
    "\n",
    "np.set_printoptions(precision=4)\n",
    "\n",
    "from sklearn import datasets\n",
    "from sklearn.discriminant_analysis import LinearDiscriminantAnalysis\n",
    "\n",
    "from IPython.core.interactiveshell import InteractiveShell\n",
    "InteractiveShell.ast_node_interactivity = \"all\"\n",
    "\n",
    "%matplotlib inline"
   ]
  },
  {
   "cell_type": "markdown",
   "metadata": {},
   "source": [
    "1. load data\n",
    "3. Summarize data\n",
    "    * Global covariance matrix\n",
    "    * Using the formula\n",
    "    * Using numpy.cov\n",
    "    * Visualize data"
   ]
  },
  {
   "cell_type": "code",
   "execution_count": null,
   "metadata": {
    "code_folding": [
     2
    ]
   },
   "outputs": [],
   "source": [
    "%run simulated_data.ipynb\n",
    "\n",
    "X = df[['x','y']].values\n",
    "N = X.shape[0]\n",
    "\n",
    "X1 = df.loc[df.label ==1,['x','y']].values\n",
    "N1 = X1.shape[0] \n",
    "\n",
    "X2 = df.loc[df.label ==2,['x','y']].values\n",
    "N2 = X2.shape[0] \n",
    "\n",
    "df.sample(5).head(5)\n",
    "\n",
    "total_variance = np.var(X,axis=0)\n",
    "m = np.mean(X,axis=0)\n",
    "\n",
    "print('Global data mean:')\n",
    "m\n",
    "\n",
    "print('Global data variance:')\n",
    "total_variance\n",
    "\n",
    "print('Global Covariance matrix:')\n",
    "S = np.cov(X[:,0],X[:,1])\n",
    "S\n",
    "\n",
    "print('1st class true parmeters')\n",
    "print(' number of samples in first group N1: {}\\n'.format(N1))\n",
    "\n",
    "print(' mean mu1:')\n",
    "mu1\n",
    "\n",
    "print(' Covariance matrix:')\n",
    "Sigma1\n",
    "\n",
    "print('2nd class true parmeters')\n",
    "print(' number of samples in first group N1: {}\\n'.format(N2))\n",
    "\n",
    "print(' mean mu2:')\n",
    "mu2\n",
    "\n",
    "print(' Covariance matrix:')\n",
    "Sigma2"
   ]
  },
  {
   "cell_type": "code",
   "execution_count": null,
   "metadata": {},
   "outputs": [],
   "source": [
    "def estimate_gaussian_parameters(Xk):\n",
    "\n",
    "    mk = np.mean(Xk,axis=0)\n",
    "    Sk = np.cov(Xk[:,0],Xk[:,1])\n",
    "    return mk, Sk\n",
    "\n",
    "def get_lda_paramaters(Xk,N):\n",
    "    \n",
    "    Nk = Xk.shape[0]\n",
    "    \n",
    "    pik = Nk/N\n",
    "    \n",
    "    mk, Sk = estimate_gaussian_parameters(Xk)\n",
    "    \n",
    "    Sk_inv = np.linalg.inv(Sk)\n",
    "    \n",
    "    return Sk_inv, pik\n",
    "\n",
    "def lda_score(X_new,mk, Sk,Sk_inv, pik):\n",
    "    \n",
    "    scorek = -0.2*np.log(np.linalg.det(Sk)) \n",
    "    uk = X_new - mk\n",
    "    Ak = np.matmul(Sk_inv,uk.T)\n",
    "    scorek = scorek - 0.5*np.matmul(uk,Ak) \n",
    "    scorek += np.log(pik)\n",
    "    \n",
    "    return scorek"
   ]
  },
  {
   "cell_type": "markdown",
   "metadata": {},
   "source": [
    "## Estimating Gaussian parameters"
   ]
  },
  {
   "cell_type": "code",
   "execution_count": null,
   "metadata": {},
   "outputs": [],
   "source": [
    "m1, S1 = estimate_gaussian_parameters(X1)\n",
    "m1\n",
    "mu1\n",
    "Sigma1\n",
    "S1\n",
    "\n",
    "m2, S2= estimate_gaussian_parameters(X2)\n",
    "m2\n",
    "mu2\n",
    "Sigma2\n",
    "S2\n",
    "\n",
    "S1_inv, pi1 = get_lda_paramaters(X1,N)\n",
    "np.matmul(S1_inv,S1)\n",
    "\n",
    "S2_inv, pi2 = get_lda_paramaters(X2,N)\n",
    "np.matmul(S2_inv,S2)\n",
    "\n",
    "s1 = lda_score(x_new,m1, S1,S1_inv, pi1)\n",
    "s2 = lda_score(x_new,m2, S2,S2_inv, pi2)\n",
    "\n",
    "s1\n",
    "s2\n",
    "\n",
    "if score1 > score2:\n",
    "    label_new = 1\n",
    "else:\n",
    "    label_new = 2\n",
    "\n",
    "label_new"
   ]
  },
  {
   "cell_type": "code",
   "execution_count": null,
   "metadata": {},
   "outputs": [],
   "source": [
    "X1[0,:]\n",
    "s1 = lda_score(m1,m1, S1,S1_inv, pi1)\n",
    "s2 = lda_score(m1,m2, S2,S2_inv, pi2)\n",
    "\n",
    "s1\n",
    "s2\n",
    "\n",
    "s1=lda_score(m2,m1, S1,S1_inv, pi1)\n",
    "s2 = lda_score(m2,m2, S2,S2_inv, pi2)\n",
    "\n",
    "s1\n",
    "s2\n",
    "\n",
    "X2[0,:]\n",
    "s1=lda_score(X2[0,:],m1, S1,S1_inv, pi1)\n",
    "s2 = lda_score(X2[0,:],m2, S2,S2_inv, pi2)\n",
    "\n",
    "s1\n",
    "s2\n",
    "\n",
    "\n",
    "s1=lda_score([0,0],m1, S1,S1_inv, pi1)\n",
    "s2 = lda_score([0,0],m2, S2,S2_inv, pi2)\n",
    "\n",
    "s1\n",
    "s2\n",
    "\n",
    "\n",
    "s1=lda_score([4,0],m1, S1,S1_inv, pi1)\n",
    "s2 = lda_score([4,0],m2, S2,S2_inv, pi2)\n",
    "\n",
    "s1\n",
    "s2"
   ]
  },
  {
   "cell_type": "code",
   "execution_count": 90,
   "metadata": {},
   "outputs": [
    {
     "data": {
      "text/plain": [
       "<matplotlib.collections.PathCollection at 0x1a1b375fd0>"
      ]
     },
     "execution_count": 90,
     "metadata": {},
     "output_type": "execute_result"
    },
    {
     "data": {
      "text/plain": [
       "Text(4.41,3.36,'new point')"
      ]
     },
     "execution_count": 90,
     "metadata": {},
     "output_type": "execute_result"
    },
    {
     "data": {
      "text/plain": [
       "Text(0.5,0,'x1')"
      ]
     },
     "execution_count": 90,
     "metadata": {},
     "output_type": "execute_result"
    },
    {
     "data": {
      "text/plain": [
       "Text(0,0.5,'x2')"
      ]
     },
     "execution_count": 90,
     "metadata": {},
     "output_type": "execute_result"
    },
    {
     "data": {
      "image/png": "[encoded data removed]",
      "text/plain": [
       "<matplotlib.figure.Figure at 0x1a1b28fa58>"
      ]
     },
     "metadata": {},
     "output_type": "display_data"
    }
   ],
   "source": [
    "ax = plt.gca()\n",
    "\n",
    "## Confusion. Maybe is not worthwhile\n",
    "label_color = 'yellow' if label_new == 2 else 2\n",
    "\n",
    "plot_gmm(initial_guess, X, label=labels, ax=ax)\n",
    "\n",
    "ax.scatter(x_new[0], x_new[1], s=40, c=label_color, cmap='viridis', zorder=2)\n",
    "ax.text( x_new[0]*1.05,x_new[1]*1.05, 'new point')\n",
    "plt.xlabel('x1')\n",
    "plt.ylabel('x2')"
   ]
  },
  {
   "cell_type": "code",
   "execution_count": null,
   "metadata": {},
   "outputs": [],
   "source": []
  }
 ],
 "metadata": {
  "kernelspec": {
   "display_name": "Python 3",
   "language": "python",
   "name": "python3"
  },
  "language_info": {
   "codemirror_mode": {
    "name": "ipython",
    "version": 3
   },
   "file_extension": ".py",
   "mimetype": "text/x-python",
   "name": "python",
   "nbconvert_exporter": "python",
   "pygments_lexer": "ipython3",
   "version": "3.6.4"
  }
 },
 "nbformat": 4,
 "nbformat_minor": 2
}
