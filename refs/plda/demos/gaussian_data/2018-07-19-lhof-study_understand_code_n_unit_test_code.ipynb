{
 "cells": [
  {
   "cell_type": "code",
   "execution_count": 1,
   "metadata": {},
   "outputs": [],
   "source": [
    "import os\n",
    "import sys\n",
    "import numpy as np\n",
    "import matplotlib.pyplot as plt\n",
    "import matplotlib.cm as cm\n",
    "sys.path.append(os.getcwd() + '/../../')\n",
    "\n",
    "from matplotlib.patches import Ellipse\n",
    "from numpy.random import multivariate_normal as m_normal\n",
    "import plda\n",
    "from scipy.stats import norm, chi2\n",
    "\n",
    "from IPython.core.interactiveshell import InteractiveShell\n",
    "InteractiveShell.ast_node_interactivity = \"all\"\n",
    "\n",
    "%matplotlib inline"
   ]
  },
  {
   "cell_type": "code",
   "execution_count": 2,
   "metadata": {},
   "outputs": [],
   "source": [
    "import numpy as np\n",
    "#from PLDA import PLDA\n",
    "from numpy.random import multivariate_normal as m_normal\n",
    "\n",
    "from scipy.linalg import eig\n",
    "from scipy.linalg import inv\n",
    "from scipy.stats import linregress"
   ]
  },
  {
   "cell_type": "code",
   "execution_count": 17,
   "metadata": {
    "code_folding": []
   },
   "outputs": [],
   "source": [
    "def gen_Ψ(n_dims):\n",
    "    \"\"\" Diagonal matrix describing the covariance between clusters.\n",
    "    \"\"\"\n",
    "    Ψ = np.diag(10 / np.random.sample(n_dims))\n",
    "\n",
    "    return Ψ\n",
    "\n",
    "def gen_m(n_dims):\n",
    "    \"\"\" Displacement of the mean of the data from the origin.\n",
    "    \"\"\"\n",
    "    m = np.random.randint(-10, 10, n_dims).astype(float)\n",
    "\n",
    "    return m\n",
    "\n",
    "def gen_V(Ψ, n_classes, n_dims):\n",
    "    \"\"\" v ~ N(0, Ψ): Consult Equations (2) on p. 533.\n",
    "\n",
    "    DESCRIPTION: Samples whitened class centers from a multivariate\n",
    "                  Gaussian distribution centered at 0, with covariance Ψ.\n",
    "                  For testing purposes, we ensure that V.sum(axis=0) = 0. \n",
    "\n",
    "    PARAMETERS\n",
    "     n_classes      (int): Number of classes.\n",
    "     n_dims         (int): Dimensionality of the data.\n",
    "     Ψ        (ndarray): Covariance between whitened class centers.\n",
    "                            [n_dims x n_dims] \n",
    "    RETURNS\n",
    "     V          (ndarray): Whitened class centers. [n_classes x n_dims] \n",
    "    \"\"\"\n",
    "    assert Ψ.shape[0] == Ψ.shape[1]\n",
    "\n",
    "    μ = np.zeros(n_dims)  # [1 x n_dims] \n",
    "    np.random.seed(0)\n",
    "    V = m_normal(μ, Ψ, n_classes)\n",
    "    V = V - V.mean(axis=0)  # Center means at origin to control result.\n",
    "\n",
    "\n",
    "    assert np.allclose(V.sum(axis=0), 0)\n",
    "\n",
    "    return V\n",
    "\n",
    "def gen_A(V, n_classes, n_dims, return_S_b=False):\n",
    "    # XXX Where this eq come from\n",
    "    \"\"\" A = [B][inv(Λ ** .5)][Q^T] and assumes same number of data\n",
    "         in each class v. \"\"\"\n",
    "    \n",
    "    \n",
    "    #np.random.seed(2018)\n",
    "    B = np.random.randint(-200, 200, (n_dims, n_dims)).astype(float)\n",
    "    big_V = np.matmul(V.T, V)  # V is now a scatter matrix.\n",
    "    vals, vecs = eig(big_V)\n",
    "    A = B / np.sqrt(vals.real)\n",
    "    A = np.matmul(A, vecs.T)\n",
    "    \n",
    "    # XXX It works as well does not need to be that eq. But Why is he doing that? !?\n",
    "    #A = B\n",
    "    \n",
    "    D = np.matmul(np.matmul(vecs.T, big_V), vecs)\n",
    "    assert np.allclose(D, np.diag(vals))\n",
    "    \n",
    "    if return_S_b is True:\n",
    "        \n",
    "        # XXX Where this eq come from\n",
    "        S_b = 1 /n_classes * np.matmul(np.matmul(A, big_V), A.T)\n",
    "        x = np.matmul(A, V.T).T\n",
    "\n",
    "        S_b_empirical = 1 / n_classes * np.matmul(x.T, x)\n",
    "        assert np.allclose(S_b, S_b_empirical)\n",
    "\n",
    "        return A, S_b\n",
    "    else:\n",
    "        return A\n",
    "\n",
    "def gen_U(n_dims, n, V):\n",
    "    \"\"\" u ~ N(v, I). 533.\n",
    "    \"\"\"\n",
    "    cov = np.eye(n_dims)\n",
    "\n",
    "    U = []\n",
    "    for v in V:\n",
    "        μ = np.zeros(n_dims)\n",
    "        U_for_class_v = m_normal(μ, cov, n)\n",
    "        U_for_class_v -= U_for_class_v.mean(axis=0)\n",
    "        U_for_class_v += v  # Center at v to control test results.\n",
    "        U.append(U_for_class_v)\n",
    "\n",
    "    # To control the test result, each set of u's sums to its respective v.\n",
    "    for x in range(len(U)):\n",
    "        are_same = np.allclose(V[x], U[x].mean(axis=0))\n",
    "        assert are_same ==  True\n",
    "\n",
    "    U = np.vstack(U)\n",
    "\n",
    "    return U\n",
    "\n",
    "def unwhiten(U, A, m):\n",
    "    \"\"\" inv(A)[x - m]. See p. 537 Fig. 2.\n",
    "    \"\"\"\n",
    "    X = np.matmul(A, U.T).T\n",
    "    X += m\n",
    "\n",
    "    return X\n",
    "\n",
    "def gen_labels(n_classes, n):\n",
    "    labels = []\n",
    "    for x in range(n_classes):\n",
    "        labels += [x] * n\n",
    "\n",
    "    return labels\n",
    "\n",
    "def label(data, labels):\n",
    "    labeled_data = []\n",
    "    for datum, label in zip(data, labels):\n",
    "        labeled_data.append((datum, label))\n",
    "        \n",
    "    return labeled_data\n",
    "\n",
    "def experiment(n, n_dims, n_classes):\n",
    "\n",
    "    Ψ = gen_Ψ(n_dims)\n",
    "    m = gen_m(n_dims)\n",
    "    V = gen_V(Ψ, n_classes, n_dims)\n",
    "    U = gen_U(n_dims, n, V)\n",
    "    A, S_b = gen_A(V, n_classes, n_dims,\n",
    "                             return_S_b=True)\n",
    "    X = unwhiten(U, A, m)\n",
    "    Y = gen_labels(n_classes, n)\n",
    "    labels = []\n",
    "    for k in range(0,n_classes):\n",
    "        labels += [k]*n\n",
    " \n",
    "    classifier = plda.Classifier(X, np.array(labels))\n",
    "    classifier.fit_model()\n",
    "\n",
    "    return A, Ψ,classifier.model"
   ]
  },
  {
   "cell_type": "code",
   "execution_count": 5,
   "metadata": {},
   "outputs": [
    {
     "data": {
      "text/plain": [
       "array([[128.61172724,   0.        ],\n",
       "       [  0.        , 185.30473375]])"
      ]
     },
     "execution_count": 5,
     "metadata": {},
     "output_type": "execute_result"
    },
    {
     "data": {
      "text/plain": [
       "array([6., 7.])"
      ]
     },
     "execution_count": 5,
     "metadata": {},
     "output_type": "execute_result"
    }
   ],
   "source": [
    "n_dims = 2\n",
    "\n",
    "Psi = gen_Ψ(n_dims)\n",
    "m = gen_m(n_dims)\n",
    "\n",
    "Psi\n",
    "m"
   ]
  },
  {
   "cell_type": "code",
   "execution_count": 6,
   "metadata": {},
   "outputs": [
    {
     "data": {
      "text/plain": [
       "array([[ -1.75138722,   3.09374527],\n",
       "       [ 19.12386778,  -7.59647852],\n",
       "       [-17.37248056,   4.50273325]])"
      ]
     },
     "execution_count": 6,
     "metadata": {},
     "output_type": "execute_result"
    },
    {
     "data": {
      "text/plain": [
       "(3, 2)"
      ]
     },
     "execution_count": 6,
     "metadata": {},
     "output_type": "execute_result"
    },
    {
     "data": {
      "text/plain": [
       "(300, 2)"
      ]
     },
     "execution_count": 6,
     "metadata": {},
     "output_type": "execute_result"
    },
    {
     "data": {
      "text/plain": [
       "array([[ -9.55137473, -37.91257083],\n",
       "       [-17.10153281, -34.93773515]])"
      ]
     },
     "execution_count": 6,
     "metadata": {},
     "output_type": "execute_result"
    }
   ],
   "source": [
    "n = 100\n",
    "n_classes = 3 \n",
    "\n",
    "V = gen_V(Psi, n_classes, n_dims)\n",
    "A, Sb = gen_A(V, n_classes, n_dims, return_S_b=True)\n",
    "U = gen_U(n_dims, n, V)\n",
    "\n",
    "V\n",
    "V.shape\n",
    "\n",
    "U.shape\n",
    "A\n"
   ]
  },
  {
   "cell_type": "code",
   "execution_count": 7,
   "metadata": {},
   "outputs": [
    {
     "data": {
      "text/plain": [
       "array([[-94.56368097, -71.13704678],\n",
       "       [111.34280263, -54.64369752],\n",
       "       [  1.22087834, 146.7807443 ]])"
      ]
     },
     "execution_count": 7,
     "metadata": {},
     "output_type": "execute_result"
    },
    {
     "data": {
      "text/plain": [
       "(300, 2)"
      ]
     },
     "execution_count": 7,
     "metadata": {},
     "output_type": "execute_result"
    }
   ],
   "source": [
    "Y = unwhiten(V, A, m)\n",
    "\n",
    "Y\n",
    "\n",
    "X = unwhiten(U, A, m)\n",
    "X.shape"
   ]
  },
  {
   "cell_type": "code",
   "execution_count": 9,
   "metadata": {},
   "outputs": [
    {
     "data": {
      "text/plain": [
       "<matplotlib.collections.PathCollection at 0x1089a9240>"
      ]
     },
     "execution_count": 9,
     "metadata": {},
     "output_type": "execute_result"
    },
    {
     "data": {
      "text/plain": [
       "<matplotlib.collections.PathCollection at 0x1089a9710>"
      ]
     },
     "execution_count": 9,
     "metadata": {},
     "output_type": "execute_result"
    },
    {
     "data": {
      "text/plain": [
       "<matplotlib.collections.PathCollection at 0x1089a95c0>"
      ]
     },
     "execution_count": 9,
     "metadata": {},
     "output_type": "execute_result"
    },
    {
     "data": {
      "text/plain": [
       "(-22.238233360003605,\n",
       " 23.80575477479957,\n",
       " -11.432751889069955,\n",
       " 8.192036369183855)"
      ]
     },
     "execution_count": 9,
     "metadata": {},
     "output_type": "execute_result"
    },
    {
     "data": {
      "image/png": "[encoded data removed]",
      "text/plain": [
       "<matplotlib.figure.Figure at 0x10574b6d8>"
      ]
     },
     "metadata": {},
     "output_type": "display_data"
    }
   ],
   "source": [
    "U_labels = ([1] * 100) + ([2] * 100) + ([3] * 100)\n",
    "\n",
    "ax = plt.gca()\n",
    "ax.scatter(U[:, 0], U[:, 1], c=U_labels, s=40, cmap='viridis', zorder=2)\n",
    "ax.scatter(V[:, 0], V[:, 1], c='red', s=40, cmap='viridis', zorder=2)\n",
    "ax.scatter(0, 0, c='blue', s=40, cmap='viridis', zorder=2)\n",
    "ax.axis('equal')"
   ]
  },
  {
   "cell_type": "code",
   "execution_count": 10,
   "metadata": {},
   "outputs": [
    {
     "data": {
      "text/plain": [
       "<matplotlib.collections.PathCollection at 0x1115d7358>"
      ]
     },
     "execution_count": 10,
     "metadata": {},
     "output_type": "execute_result"
    },
    {
     "data": {
      "text/plain": [
       "<matplotlib.collections.PathCollection at 0x1115d77f0>"
      ]
     },
     "execution_count": 10,
     "metadata": {},
     "output_type": "execute_result"
    },
    {
     "data": {
      "text/plain": [
       "<matplotlib.collections.PathCollection at 0x1115d7c50>"
      ]
     },
     "execution_count": 10,
     "metadata": {},
     "output_type": "execute_result"
    },
    {
     "data": {
      "text/plain": [
       "(-207.89961064885154,\n",
       " 259.4138277876043,\n",
       " -196.31258445024238,\n",
       " 293.37533914267993)"
      ]
     },
     "execution_count": 10,
     "metadata": {},
     "output_type": "execute_result"
    },
    {
     "data": {
      "image/png": "[encoded data removed]",
      "text/plain": [
       "<matplotlib.figure.Figure at 0x108949128>"
      ]
     },
     "metadata": {},
     "output_type": "display_data"
    }
   ],
   "source": [
    "ax = plt.gca()\n",
    "ax.scatter(X[:, 0], X[:, 1], c=U_labels, s=40, cmap='viridis', zorder=2)\n",
    "ax.scatter(Y[:, 0], Y[:, 1], c='red', s=40, cmap='viridis', zorder=2)\n",
    "ax.scatter(m[0], m[1], c='blue', s=40, cmap='viridis', zorder=2)\n",
    "ax.axis('equal')"
   ]
  },
  {
   "cell_type": "code",
   "execution_count": 11,
   "metadata": {},
   "outputs": [],
   "source": [
    "classifier = plda.Classifier(X, np.array(U_labels))\n",
    "classifier.fit_model()"
   ]
  },
  {
   "cell_type": "code",
   "execution_count": 12,
   "metadata": {},
   "outputs": [
    {
     "data": {
      "text/plain": [
       "[100, 100, 100]"
      ]
     },
     "execution_count": 12,
     "metadata": {},
     "output_type": "execute_result"
    },
    {
     "data": {
      "text/plain": [
       "array([[-94.56368097, -71.13704678],\n",
       "       [111.34280263, -54.64369752],\n",
       "       [  1.22087834, 146.7807443 ]])"
      ]
     },
     "execution_count": 12,
     "metadata": {},
     "output_type": "execute_result"
    },
    {
     "data": {
      "text/plain": [
       "[array([-94.56368097, -71.13704678]),\n",
       " array([111.34280263, -54.64369752]),\n",
       " array([  1.22087834, 146.7807443 ])]"
      ]
     },
     "execution_count": 12,
     "metadata": {},
     "output_type": "execute_result"
    },
    {
     "data": {
      "text/plain": [
       "array([6., 7.])"
      ]
     },
     "execution_count": 12,
     "metadata": {},
     "output_type": "execute_result"
    },
    {
     "data": {
      "text/plain": [
       "array([6., 7.])"
      ]
     },
     "execution_count": 12,
     "metadata": {},
     "output_type": "execute_result"
    },
    {
     "data": {
      "text/plain": [
       "array([[7077.66666667,  232.        ],\n",
       "       [ 232.        , 9814.66666667]])"
      ]
     },
     "execution_count": 12,
     "metadata": {},
     "output_type": "execute_result"
    },
    {
     "data": {
      "text/plain": [
       "array([[7077.66666667,  232.        ],\n",
       "       [ 232.        , 9814.66666667]])"
      ]
     },
     "execution_count": 12,
     "metadata": {},
     "output_type": "execute_result"
    },
    {
     "data": {
      "text/plain": [
       "array([[-0.01341884, -0.12232308],\n",
       "       [-0.01109092,  0.12233377]])"
      ]
     },
     "execution_count": 12,
     "metadata": {},
     "output_type": "execute_result"
    },
    {
     "data": {
      "text/plain": [
       "array([[ -9.55137473, -37.91257083],\n",
       "       [-17.10153281, -34.93773515]])"
      ]
     },
     "execution_count": 12,
     "metadata": {},
     "output_type": "execute_result"
    },
    {
     "data": {
      "text/plain": [
       "array([[-41.00724913,  -3.71776264],\n",
       "       [-41.00366396,   4.49810079]])"
      ]
     },
     "execution_count": 12,
     "metadata": {},
     "output_type": "execute_result"
    }
   ],
   "source": [
    "model_mk, labels1 = classifier.model.get_means(return_labels=True)\n",
    "model_ns, labels2 = classifier.model.get_ns(return_labels=True)\n",
    "model_covs, labels3 = classifier.model.get_covs(return_labels=True)\n",
    "\n",
    "model_ns\n",
    "\n",
    "Y\n",
    "model_mk\n",
    "\n",
    "model_m = classifier.model.calc_m(model_mk,model_ns,300)\n",
    "\n",
    "m\n",
    "model_m\n",
    "\n",
    "model_Sw = classifier.model.S_w\n",
    "model_Sb = classifier.model.S_b\n",
    "\n",
    "Sb\n",
    "model_Sb\n",
    "\n",
    "model_W = classifier.model.calc_W(model_Sw, model_Sw)\n",
    "model_W\n",
    "\n",
    "Lambda_w = classifier.model.calc_Λ_w(model_Sw, model_W)\n",
    "Lambda_b = classifier.model.calc_Λ_b(model_Sw, model_W)\n",
    "\n",
    "model_A = classifier.model.calc_A(n, Lambda_w, model_W)\n",
    "\n",
    "A\n",
    "model_A "
   ]
  },
  {
   "cell_type": "code",
   "execution_count": 13,
   "metadata": {},
   "outputs": [
    {
     "data": {
      "text/plain": [
       "array([[1695.41623986, 1664.7245922 ],\n",
       "       [1664.7245922 , 1701.53336922]])"
      ]
     },
     "execution_count": 13,
     "metadata": {},
     "output_type": "execute_result"
    },
    {
     "data": {
      "text/plain": [
       "array([[1695.41623986, 1664.7245922 ],\n",
       "       [1664.7245922 , 1701.53336922]])"
      ]
     },
     "execution_count": 13,
     "metadata": {},
     "output_type": "execute_result"
    },
    {
     "data": {
      "text/plain": [
       "array([[1528.59178631, 1487.92250696],\n",
       "       [1487.92250696, 1513.10776194]])"
      ]
     },
     "execution_count": 13,
     "metadata": {},
     "output_type": "execute_result"
    },
    {
     "data": {
      "text/plain": [
       "array([[-0.10913604, -0.11882479],\n",
       "       [-0.11882479, -0.12452887]])"
      ]
     },
     "execution_count": 13,
     "metadata": {},
     "output_type": "execute_result"
    },
    {
     "name": "stdout",
     "output_type": "stream",
     "text": [
      "S1\n"
     ]
    },
    {
     "data": {
      "text/plain": [
       "array([[1438.79074765, 1392.84904842],\n",
       "       [1392.84904842, 1412.67309989]])"
      ]
     },
     "execution_count": 13,
     "metadata": {},
     "output_type": "execute_result"
    },
    {
     "name": "stdout",
     "output_type": "stream",
     "text": [
      "S2\n"
     ]
    },
    {
     "data": {
      "text/plain": [
       "array([[1745.01363625, 1746.66192031],\n",
       "       [1746.66192031, 1810.52705648]])"
      ]
     },
     "execution_count": 13,
     "metadata": {},
     "output_type": "execute_result"
    },
    {
     "name": "stdout",
     "output_type": "stream",
     "text": [
      "S3\n"
     ]
    },
    {
     "data": {
      "text/plain": [
       "array([[1902.44433569, 1854.66280788],\n",
       "       [1854.66280788, 1881.39995128]])"
      ]
     },
     "execution_count": 13,
     "metadata": {},
     "output_type": "execute_result"
    },
    {
     "name": "stdout",
     "output_type": "stream",
     "text": [
      "AVG: (S1 + S2 + S3)/3\n"
     ]
    },
    {
     "data": {
      "text/plain": [
       "array([[1695.41623986, 1664.7245922 ],\n",
       "       [1664.7245922 , 1701.53336922]])"
      ]
     },
     "execution_count": 13,
     "metadata": {},
     "output_type": "execute_result"
    },
    {
     "name": "stdout",
     "output_type": "stream",
     "text": [
      "Sww\n"
     ]
    },
    {
     "data": {
      "text/plain": [
       "array([[17.12541656, 16.81539992],\n",
       "       [16.81539992, 17.18720575]])"
      ]
     },
     "execution_count": 13,
     "metadata": {},
     "output_type": "execute_result"
    }
   ],
   "source": [
    "model_Phi_w = np.matmul(model_A,model_A.T)\n",
    "\n",
    "model_Phi_w\n",
    "n/(n-1)*model_Sw\n",
    "\n",
    "Phi_w = np.matmul(A,A.T)\n",
    "Phi_w\n",
    "\n",
    "(Phi_w - model_Phi_w)/Phi_w\n",
    "\n",
    "X1 = X[0:100,:]\n",
    "X2 = X[100:200,:]\n",
    "X3 = X[200:300,:]\n",
    "\n",
    "print('S1')\n",
    "S1 = np.cov(X1[:,0],X1[:,1])\n",
    "S1\n",
    "\n",
    "print('S2')\n",
    "S2 = np.cov(X2[:,0],X2[:,1])\n",
    "S2\n",
    "\n",
    "print('S3')\n",
    "S3 = np.cov(X3[:,0],X3[:,1])\n",
    "S3\n",
    "\n",
    "print('AVG: (S1 + S2 + S3)/3')\n",
    "(S1 + S2 + S3)/3\n",
    "\n",
    "print('Sww')\n",
    "Sww = ((S1 + S2 + S3)/300)*n/(n-1)\n",
    "Sww"
   ]
  },
  {
   "cell_type": "code",
   "execution_count": 18,
   "metadata": {},
   "outputs": [
    {
     "data": {
      "text/plain": [
       "3"
      ]
     },
     "execution_count": 18,
     "metadata": {},
     "output_type": "execute_result"
    },
    {
     "data": {
      "text/plain": [
       "array([1.e+02, 1.e+04, 1.e+06])"
      ]
     },
     "execution_count": 18,
     "metadata": {},
     "output_type": "execute_result"
    },
    {
     "data": {
      "text/plain": [
       "2"
      ]
     },
     "execution_count": 18,
     "metadata": {},
     "output_type": "execute_result"
    },
    {
     "name": "stdout",
     "output_type": "stream",
     "text": [
      "Testing Φ_w with 100.0 samples: 3.6904703920462043 percent error\n",
      "Testing Φ_w with 10000.0 samples: 0.5633831629357423 percent error\n",
      "Testing Φ_w with 1000000.0 samples: 0.01870634434343993 percent error\n"
     ]
    }
   ],
   "source": [
    "n_experiments = int(np.log10(1000000) / 2)\n",
    "n_experiments\n",
    "\n",
    "n_list = [100 ** x for x in range(1, n_experiments + 1)]\n",
    "n_list = np.array(n_list).astype(float)\n",
    "\n",
    "n_list\n",
    "\n",
    "n_dims \n",
    "n_classes = 30 #self.n_classes\n",
    "\n",
    "Φ_w_L1_errors = []\n",
    "for n in n_list:\n",
    "    A, Ψ, model = experiment(int(n), n_dims, n_classes)\n",
    "\n",
    "    Φ_w = np.matmul(A, A.T)\n",
    "    Φ_w_model = np.matmul(model.A, model.A.T)\n",
    "\n",
    "    L1_error = np.abs(Φ_w - Φ_w_model).mean()\n",
    "    abs_μ = (np.abs(Φ_w).mean() + np.abs(Φ_w_model).mean()) * .5\n",
    "    percent_error = L1_error / abs_μ * 100\n",
    "    \n",
    "    print('Testing Φ_w with {} samples: {} percent error'.format(n,\n",
    "          percent_error))\n",
    "    \n",
    "    Φ_w_L1_errors.append(percent_error)\n",
    "\n",
    "Y = Φ_w_L1_errors\n",
    "X = [x for x in range(len(Φ_w_L1_errors))]\n",
    "slope_of_error_vs_N = linregress(X, Y)[0]"
   ]
  },
  {
   "cell_type": "code",
   "execution_count": 27,
   "metadata": {},
   "outputs": [
    {
     "data": {
      "text/plain": [
       "array([1.e+02, 1.e+04, 1.e+06])"
      ]
     },
     "execution_count": 27,
     "metadata": {},
     "output_type": "execute_result"
    },
    {
     "data": {
      "text/plain": [
       "array([2., 4., 6.])"
      ]
     },
     "execution_count": 27,
     "metadata": {},
     "output_type": "execute_result"
    },
    {
     "data": {
      "text/plain": [
       "[3.6904703920462043, 0.5633831629357423, 0.01870634434343993]"
      ]
     },
     "execution_count": 27,
     "metadata": {},
     "output_type": "execute_result"
    },
    {
     "data": {
      "text/plain": [
       "[<matplotlib.lines.Line2D at 0x10574b780>]"
      ]
     },
     "execution_count": 27,
     "metadata": {},
     "output_type": "execute_result"
    },
    {
     "data": {
      "image/png": "[encoded data removed]",
      "text/plain": [
       "<matplotlib.figure.Figure at 0x1a15e682b0>"
      ]
     },
     "metadata": {},
     "output_type": "display_data"
    }
   ],
   "source": [
    "\n",
    "n_list\n",
    "np.log10(n_list)\n",
    "Φ_w_L1_errors\n",
    "\n",
    "# ax = plt.gca()\n",
    "# ax.lines.(np.array(n_list), Φ_w_L1_errors)\n",
    "plt.plot(np.log10(n_list), Φ_w_L1_errors, 'bo-', label='line 1', linewidth=2)"
   ]
  },
  {
   "cell_type": "code",
   "execution_count": null,
   "metadata": {},
   "outputs": [],
   "source": []
  }
 ],
 "metadata": {
  "kernelspec": {
   "display_name": "Python 3",
   "language": "python",
   "name": "python3"
  },
  "language_info": {
   "codemirror_mode": {
    "name": "ipython",
    "version": 3
   },
   "file_extension": ".py",
   "mimetype": "text/x-python",
   "name": "python",
   "nbconvert_exporter": "python",
   "pygments_lexer": "ipython3",
   "version": "3.6.4"
  }
 },
 "nbformat": 4,
 "nbformat_minor": 2
}
