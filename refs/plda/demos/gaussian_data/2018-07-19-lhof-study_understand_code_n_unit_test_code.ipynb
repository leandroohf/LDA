{
 "cells": [
  {
   "cell_type": "code",
   "execution_count": 1,
   "metadata": {},
   "outputs": [],
   "source": [
    "import os\n",
    "import sys\n",
    "import numpy as np\n",
    "import matplotlib.pyplot as plt\n",
    "import matplotlib.cm as cm\n",
    "sys.path.append(os.getcwd() + '/../../')\n",
    "from matplotlib.patches import Ellipse\n",
    "from numpy.random import multivariate_normal as m_normal\n",
    "import plda\n",
    "from scipy.stats import norm, chi2\n",
    "\n",
    "\n",
    "from IPython.core.interactiveshell import InteractiveShell\n",
    "InteractiveShell.ast_node_interactivity = \"all\"\n",
    "\n",
    "%matplotlib inline"
   ]
  },
  {
   "cell_type": "code",
   "execution_count": 2,
   "metadata": {},
   "outputs": [],
   "source": [
    "import numpy as np\n",
    "#from PLDA import PLDA\n",
    "from numpy.random import multivariate_normal as m_normal\n",
    "\n",
    "from scipy.linalg import eig\n",
    "from scipy.linalg import inv\n",
    "from scipy.stats import linregress"
   ]
  },
  {
   "cell_type": "code",
   "execution_count": 40,
   "metadata": {
    "code_folding": []
   },
   "outputs": [],
   "source": [
    "def gen_Ψ(n_dims):\n",
    "    \"\"\" Diagonal matrix describing the covariance between clusters.\n",
    "    \"\"\"\n",
    "    Ψ = np.diag(10 / np.random.sample(n_dims))\n",
    "\n",
    "    return Ψ\n",
    "\n",
    "def gen_m(n_dims):\n",
    "    \"\"\" Displacement of the mean of the data from the origin.\n",
    "    \"\"\"\n",
    "    m = np.random.randint(-1000, 1000, n_dims).astype(float)\n",
    "\n",
    "    return m\n",
    "\n",
    "def gen_V(Ψ, n_classes, n_dims):\n",
    "    \"\"\" v ~ N(0, Ψ): Consult Equations (2) on p. 533.\n",
    "\n",
    "    DESCRIPTION: Samples whitened class centers from a multivariate\n",
    "                  Gaussian distribution centered at 0, with covariance Ψ.\n",
    "                  For testing purposes, we ensure that V.sum(axis=0) = 0. \n",
    "\n",
    "    PARAMETERS\n",
    "     n_classes      (int): Number of classes.\n",
    "     n_dims         (int): Dimensionality of the data.\n",
    "     Ψ        (ndarray): Covariance between whitened class centers.\n",
    "                            [n_dims x n_dims] \n",
    "    RETURNS\n",
    "     V          (ndarray): Whitened class centers. [n_classes x n_dims] \n",
    "    \"\"\"\n",
    "    assert Ψ.shape[0] == Ψ.shape[1]\n",
    "\n",
    "    μ = np.zeros(n_dims)  # [1 x n_dims] \n",
    "    np.random.seed(0)\n",
    "    V = m_normal(μ, Ψ, n_classes)\n",
    "    V = V - V.mean(axis=0)  # Center means at origin to control result.\n",
    "\n",
    "\n",
    "    assert np.allclose(V.sum(axis=0), 0)\n",
    "\n",
    "    return V\n",
    "\n",
    "def gen_A(V, n_classes, n_dims, return_S_b=False):\n",
    "    # XXX Where this eq come from\n",
    "    \"\"\" A = [B][inv(Λ ** .5)][Q^T] and assumes same number of data\n",
    "         in each class v. \"\"\"\n",
    "    \n",
    "    \n",
    "    #np.random.seed(2018)\n",
    "    B = np.random.randint(-20, 20, (n_dims, n_dims)).astype(float)\n",
    "    big_V = np.matmul(V.T, V)  # V is now a scatter matrix.\n",
    "    vals, vecs = eig(big_V)\n",
    "    A = B / np.sqrt(vals.real)\n",
    "    A = np.matmul(A, vecs.T)\n",
    "    \n",
    "    # XXX It works as well does not need to be that eq. But Why is he doing that? !?\n",
    "    #A = B\n",
    "    \n",
    "    D = np.matmul(np.matmul(vecs.T, big_V), vecs)\n",
    "    assert np.allclose(D, np.diag(vals))\n",
    "    \n",
    "    if return_S_b is True:\n",
    "        \n",
    "        # XXX Where this eq come from\n",
    "        S_b = 1 /n_classes * np.matmul(np.matmul(A, big_V), A.T)\n",
    "        x = np.matmul(A, V.T).T\n",
    "\n",
    "        S_b_empirical = 1 / n_classes * np.matmul(x.T, x)\n",
    "        assert np.allclose(S_b, S_b_empirical)\n",
    "\n",
    "        return A, S_b\n",
    "    else:\n",
    "        return A\n",
    "\n",
    "def gen_U(n_dims, n, V):\n",
    "    \"\"\" u ~ N(v, I). 533.\n",
    "    \"\"\"\n",
    "    cov = np.eye(n_dims)\n",
    "\n",
    "    U = []\n",
    "    for v in V:\n",
    "        μ = np.zeros(n_dims)\n",
    "        U_for_class_v = m_normal(μ, cov, n)\n",
    "        U_for_class_v -= U_for_class_v.mean(axis=0)\n",
    "        U_for_class_v += v  # Center at v to control test results.\n",
    "        U.append(U_for_class_v)\n",
    "\n",
    "    # To control the test result, each set of u's sums to its respective v.\n",
    "    for x in range(len(U)):\n",
    "        are_same = np.allclose(V[x], U[x].mean(axis=0))\n",
    "        assert are_same ==  True\n",
    "\n",
    "    U = np.vstack(U)\n",
    "\n",
    "    return U\n",
    "\n",
    "def unwhiten(U, A, m):\n",
    "    \"\"\" inv(A)[x - m]. See p. 537 Fig. 2.\n",
    "    \"\"\"\n",
    "    X = np.matmul(A, U.T).T\n",
    "    X += m\n",
    "\n",
    "    return X\n",
    "\n",
    "def gen_labels(n_classes, n):\n",
    "    labels = []\n",
    "    for x in range(n_classes):\n",
    "        labels += [x] * n\n",
    "\n",
    "    return labels\n",
    "\n",
    "def label(data, labels):\n",
    "        labeled_data = []\n",
    "        for datum, label in zip(data, labels):\n",
    "            labeled_data.append((datum, label))\n",
    "\n",
    "def experiment(n, n_dims, n_classes):\n",
    "    Ψ = gen_Ψ(n_dims)\n",
    "    m = gen_m(n_dims)\n",
    "    V = gen_V(Ψ, n_classes, n_dims)\n",
    "    U = gen_U(n_dims, n, V)\n",
    "    A,_b = gen_A(V, n_classes, n_dims,\n",
    "                             return_S_b=True)\n",
    "    X = unwhiten(U, A, m)\n",
    "    Y = gen_labels(n_classes, n)\n",
    "    labels = ([1] * 100) + ([2] * 100) + ([3] * 100)\n",
    "    #laled_X = label(X, Y)\n",
    " \n",
    "    model = plda.Classifier(X, np.array(labels))\n",
    "    classifier.fit_model()\n",
    "\n",
    "    return A, Ψ, model"
   ]
  },
  {
   "cell_type": "code",
   "execution_count": 41,
   "metadata": {},
   "outputs": [
    {
     "data": {
      "text/plain": [
       "array([[250.04499622,   0.        ],\n",
       "       [  0.        ,  15.63220288]])"
      ]
     },
     "execution_count": 41,
     "metadata": {},
     "output_type": "execute_result"
    },
    {
     "data": {
      "text/plain": [
       "array([-467.,  630.])"
      ]
     },
     "execution_count": 41,
     "metadata": {},
     "output_type": "execute_result"
    }
   ],
   "source": [
    "n_dims = 2\n",
    "\n",
    "Psi = gen_Ψ(n_dims)\n",
    "m = gen_m(n_dims)\n",
    "\n",
    "Psi\n",
    "m"
   ]
  },
  {
   "cell_type": "code",
   "execution_count": 42,
   "metadata": {},
   "outputs": [
    {
     "data": {
      "text/plain": [
       "array([[ 3.59377083, -0.61059323],\n",
       "       [-8.82425686,  6.66723155],\n",
       "       [ 5.23048603, -6.05663832]])"
      ]
     },
     "execution_count": 42,
     "metadata": {},
     "output_type": "execute_result"
    },
    {
     "data": {
      "text/plain": [
       "(3, 2)"
      ]
     },
     "execution_count": 42,
     "metadata": {},
     "output_type": "execute_result"
    },
    {
     "data": {
      "text/plain": [
       "(300, 2)"
      ]
     },
     "execution_count": 42,
     "metadata": {},
     "output_type": "execute_result"
    },
    {
     "data": {
      "text/plain": [
       "array([[ 16.,   3.],\n",
       "       [-14.,   4.]])"
      ]
     },
     "execution_count": 42,
     "metadata": {},
     "output_type": "execute_result"
    }
   ],
   "source": [
    "n = 100\n",
    "n_classes = 3 \n",
    "\n",
    "V = gen_V(Psi, n_classes, n_dims)\n",
    "A, Sb = gen_A(V, n_classes, n_dims, return_S_b=True)\n",
    "U = gen_U(n_dims, n, V)\n",
    "\n",
    "V\n",
    "V.shape\n",
    "\n",
    "U.shape\n",
    "A\n"
   ]
  },
  {
   "cell_type": "code",
   "execution_count": 43,
   "metadata": {},
   "outputs": [
    {
     "data": {
      "text/plain": [
       "array([[-411.33144641,  577.24483548],\n",
       "       [-588.18641514,  780.20852227],\n",
       "       [-401.48213845,  532.54664224]])"
      ]
     },
     "execution_count": 43,
     "metadata": {},
     "output_type": "execute_result"
    },
    {
     "data": {
      "text/plain": [
       "(300, 2)"
      ]
     },
     "execution_count": 43,
     "metadata": {},
     "output_type": "execute_result"
    }
   ],
   "source": [
    "Y = unwhiten(V, A, m)\n",
    "\n",
    "Y\n",
    "\n",
    "X = unwhiten(U, A, m)\n",
    "X.shape"
   ]
  },
  {
   "cell_type": "code",
   "execution_count": 44,
   "metadata": {},
   "outputs": [],
   "source": [
    "labeled_X = label(X, Y)\n",
    "labeled_X\n"
   ]
  },
  {
   "cell_type": "code",
   "execution_count": 45,
   "metadata": {},
   "outputs": [
    {
     "data": {
      "text/plain": [
       "<matplotlib.collections.PathCollection at 0x113390d30>"
      ]
     },
     "execution_count": 45,
     "metadata": {},
     "output_type": "execute_result"
    },
    {
     "data": {
      "text/plain": [
       "<matplotlib.collections.PathCollection at 0x113390a20>"
      ]
     },
     "execution_count": 45,
     "metadata": {},
     "output_type": "execute_result"
    },
    {
     "data": {
      "text/plain": [
       "<matplotlib.collections.PathCollection at 0x1133900f0>"
      ]
     },
     "execution_count": 45,
     "metadata": {},
     "output_type": "execute_result"
    },
    {
     "data": {
      "text/plain": [
       "(-12.298935034916482, 9.051227209912945, -9.903545307369177, 9.937369614591542)"
      ]
     },
     "execution_count": 45,
     "metadata": {},
     "output_type": "execute_result"
    },
    {
     "data": {
      "image/png": "[encoded data removed]",
      "text/plain": [
       "<matplotlib.figure.Figure at 0x1a19e53470>"
      ]
     },
     "metadata": {},
     "output_type": "display_data"
    }
   ],
   "source": [
    "U_labels = ([1] * 100) + ([2] * 100) + ([3] * 100)\n",
    "\n",
    "ax = plt.gca()\n",
    "ax.scatter(U[:, 0], U[:, 1], c=U_labels, s=40, cmap='viridis', zorder=2)\n",
    "ax.scatter(V[:, 0], V[:, 1], c='red', s=40, cmap='viridis', zorder=2)\n",
    "ax.scatter(0, 0, c='blue', s=40, cmap='viridis', zorder=2)\n",
    "ax.axis('equal')"
   ]
  },
  {
   "cell_type": "code",
   "execution_count": 46,
   "metadata": {},
   "outputs": [
    {
     "data": {
      "text/plain": [
       "<matplotlib.collections.PathCollection at 0x1120ee908>"
      ]
     },
     "execution_count": 46,
     "metadata": {},
     "output_type": "execute_result"
    },
    {
     "data": {
      "text/plain": [
       "<matplotlib.collections.PathCollection at 0x1132cc4a8>"
      ]
     },
     "execution_count": 46,
     "metadata": {},
     "output_type": "execute_result"
    },
    {
     "data": {
      "text/plain": [
       "<matplotlib.collections.PathCollection at 0x1120d44a8>"
      ]
     },
     "execution_count": 46,
     "metadata": {},
     "output_type": "execute_result"
    },
    {
     "data": {
      "text/plain": [
       "(-639.5076025951555,\n",
       " -342.38880643649185,\n",
       " 476.67548569879386,\n",
       " 834.2149787424677)"
      ]
     },
     "execution_count": 46,
     "metadata": {},
     "output_type": "execute_result"
    },
    {
     "data": {
      "image/png": "[encoded data removed]",
      "text/plain": [
       "<matplotlib.figure.Figure at 0x1133bda90>"
      ]
     },
     "metadata": {},
     "output_type": "display_data"
    }
   ],
   "source": [
    "ax = plt.gca()\n",
    "ax.scatter(X[:, 0], X[:, 1], c=U_labels, s=40, cmap='viridis', zorder=2)\n",
    "ax.scatter(Y[:, 0], Y[:, 1], c='red', s=40, cmap='viridis', zorder=2)\n",
    "ax.scatter(m[0], m[1], c='blue', s=40, cmap='viridis', zorder=2)\n",
    "ax.axis('equal')"
   ]
  },
  {
   "cell_type": "code",
   "execution_count": 47,
   "metadata": {},
   "outputs": [],
   "source": [
    "classifier = plda.Classifier(X, np.array(U_labels))\n",
    "classifier.fit_model()"
   ]
  },
  {
   "cell_type": "code",
   "execution_count": 49,
   "metadata": {},
   "outputs": [
    {
     "data": {
      "text/plain": [
       "[100, 100, 100]"
      ]
     },
     "execution_count": 49,
     "metadata": {},
     "output_type": "execute_result"
    },
    {
     "data": {
      "text/plain": [
       "array([[-411.33144641,  577.24483548],\n",
       "       [-588.18641514,  780.20852227],\n",
       "       [-401.48213845,  532.54664224]])"
      ]
     },
     "execution_count": 49,
     "metadata": {},
     "output_type": "execute_result"
    },
    {
     "data": {
      "text/plain": [
       "[array([-411.33144641,  577.24483548]),\n",
       " array([-588.18641514,  780.20852227]),\n",
       " array([-401.48213845,  532.54664224])]"
      ]
     },
     "execution_count": 49,
     "metadata": {},
     "output_type": "execute_result"
    },
    {
     "data": {
      "text/plain": [
       "array([-467.,  630.])"
      ]
     },
     "execution_count": 49,
     "metadata": {},
     "output_type": "execute_result"
    },
    {
     "data": {
      "text/plain": [
       "array([-467.,  630.])"
      ]
     },
     "execution_count": 49,
     "metadata": {},
     "output_type": "execute_result"
    },
    {
     "data": {
      "text/plain": [
       "array([[ 7359.24175177, -9174.99054742],\n",
       "       [-9174.99054742, 11614.28816174]])"
      ]
     },
     "execution_count": 49,
     "metadata": {},
     "output_type": "execute_result"
    },
    {
     "data": {
      "text/plain": [
       "array([[ 7359.24175177, -9174.99054742],\n",
       "       [-9174.99054742, 11614.28816174]])"
      ]
     },
     "execution_count": 49,
     "metadata": {},
     "output_type": "execute_result"
    },
    {
     "data": {
      "text/plain": [
       "array([[-0.00454801,  0.13946829],\n",
       "       [ 0.06398673,  0.14189915]])"
      ]
     },
     "execution_count": 49,
     "metadata": {},
     "output_type": "execute_result"
    },
    {
     "data": {
      "text/plain": [
       "array([[ 16.,   3.],\n",
       "       [-14.,   4.]])"
      ]
     },
     "execution_count": 49,
     "metadata": {},
     "output_type": "execute_result"
    },
    {
     "data": {
      "text/plain": [
       "array([[-14.90300704,   6.72022863],\n",
       "       [ 14.6477053 ,   0.47765629]])"
      ]
     },
     "execution_count": 49,
     "metadata": {},
     "output_type": "execute_result"
    }
   ],
   "source": [
    "model_mk, labels1 = classifier.model.get_means(return_labels=True)\n",
    "model_ns, labels2 = classifier.model.get_ns(return_labels=True)\n",
    "model_covs, labels3 = classifier.model.get_covs(return_labels=True)\n",
    "\n",
    "model_ns\n",
    "\n",
    "Y\n",
    "model_mk\n",
    "\n",
    "model_m = classifier.model.calc_m(model_mk,model_ns,300)\n",
    "\n",
    "m\n",
    "model_m\n",
    "\n",
    "model_Sw = classifier.model.S_w\n",
    "model_Sb = classifier.model.S_b\n",
    "\n",
    "Sb\n",
    "model_Sb\n",
    "\n",
    "model_W = classifier.model.calc_W(model_Sw, model_Sw)\n",
    "model_W\n",
    "\n",
    "Lambda_w = classifier.model.calc_Λ_w(model_Sw, model_W)\n",
    "Lambda_b = classifier.model.calc_Λ_b(model_Sw, model_W)\n",
    "\n",
    "\n",
    "model_A = classifier.model.calc_A(n, Lambda_w, model_W)\n",
    "\n",
    "A\n",
    "model_A \n"
   ]
  },
  {
   "cell_type": "code",
   "execution_count": 50,
   "metadata": {},
   "outputs": [
    {
     "data": {
      "text/plain": [
       "array([[ 267.26109172, -215.0848957 ],\n",
       "       [-215.0848957 ,  214.78342597]])"
      ]
     },
     "execution_count": 50,
     "metadata": {},
     "output_type": "execute_result"
    },
    {
     "data": {
      "text/plain": [
       "array([[ 267.26109172, -215.0848957 ],\n",
       "       [-215.0848957 ,  214.78342597]])"
      ]
     },
     "execution_count": 50,
     "metadata": {},
     "output_type": "execute_result"
    },
    {
     "data": {
      "text/plain": [
       "array([[ 265., -212.],\n",
       "       [-212.,  212.]])"
      ]
     },
     "execution_count": 50,
     "metadata": {},
     "output_type": "execute_result"
    },
    {
     "data": {
      "text/plain": [
       "array([[-0.00853242, -0.01455139],\n",
       "       [-0.01455139, -0.01312937]])"
      ]
     },
     "execution_count": 50,
     "metadata": {},
     "output_type": "execute_result"
    },
    {
     "name": "stdout",
     "output_type": "stream",
     "text": [
      "S1\n"
     ]
    },
    {
     "data": {
      "text/plain": [
       "array([[ 258.39973981, -209.11684931],\n",
       "       [-209.11684931,  213.13423463]])"
      ]
     },
     "execution_count": 50,
     "metadata": {},
     "output_type": "execute_result"
    },
    {
     "name": "stdout",
     "output_type": "stream",
     "text": [
      "S2\n"
     ]
    },
    {
     "data": {
      "text/plain": [
       "array([[ 246.68206001, -206.90321073],\n",
       "       [-206.90321073,  210.11300674]])"
      ]
     },
     "execution_count": 50,
     "metadata": {},
     "output_type": "execute_result"
    },
    {
     "name": "stdout",
     "output_type": "stream",
     "text": [
      "S3\n"
     ]
    },
    {
     "data": {
      "text/plain": [
       "array([[ 296.70147533, -229.23462706],\n",
       "       [-229.23462706,  221.10303656]])"
      ]
     },
     "execution_count": 50,
     "metadata": {},
     "output_type": "execute_result"
    },
    {
     "name": "stdout",
     "output_type": "stream",
     "text": [
      "AVG: (S1 + S2 + S3)/3\n"
     ]
    },
    {
     "data": {
      "text/plain": [
       "array([[ 267.26109172, -215.0848957 ],\n",
       "       [-215.0848957 ,  214.78342597]])"
      ]
     },
     "execution_count": 50,
     "metadata": {},
     "output_type": "execute_result"
    },
    {
     "name": "stdout",
     "output_type": "stream",
     "text": [
      "Sww\n"
     ]
    },
    {
     "data": {
      "text/plain": [
       "array([[ 2.69960699, -2.1725747 ],\n",
       "       [-2.1725747 ,  2.16952956]])"
      ]
     },
     "execution_count": 50,
     "metadata": {},
     "output_type": "execute_result"
    }
   ],
   "source": [
    "model_Phi_w = np.matmul(model_A,model_A.T)\n",
    "\n",
    "model_Phi_w\n",
    "n/(n-1)*model_Sw\n",
    "\n",
    "Phi_w = np.matmul(A,A.T)\n",
    "Phi_w\n",
    "\n",
    "(Phi_w - model_Phi_w)/Phi_w\n",
    "\n",
    "X1 = X[0:100,:]\n",
    "X2 = X[100:200,:]\n",
    "X3 = X[200:300,:]\n",
    "\n",
    "print('S1')\n",
    "S1 = np.cov(X1[:,0],X1[:,1])\n",
    "S1\n",
    "\n",
    "print('S2')\n",
    "S2 = np.cov(X2[:,0],X2[:,1])\n",
    "S2\n",
    "\n",
    "print('S3')\n",
    "S3 = np.cov(X3[:,0],X3[:,1])\n",
    "S3\n",
    "\n",
    "print('AVG: (S1 + S2 + S3)/3')\n",
    "(S1 + S2 + S3)/3\n",
    "\n",
    "print('Sww')\n",
    "Sww = ((S1 + S2 + S3)/300)*n/(n-1)\n",
    "Sww"
   ]
  },
  {
   "cell_type": "code",
   "execution_count": 87,
   "metadata": {},
   "outputs": [
    {
     "data": {
      "text/plain": [
       "3"
      ]
     },
     "execution_count": 87,
     "metadata": {},
     "output_type": "execute_result"
    },
    {
     "data": {
      "text/plain": [
       "array([1.e+02, 1.e+04, 1.e+06])"
      ]
     },
     "execution_count": 87,
     "metadata": {},
     "output_type": "execute_result"
    },
    {
     "data": {
      "text/plain": [
       "2"
      ]
     },
     "execution_count": 87,
     "metadata": {},
     "output_type": "execute_result"
    },
    {
     "ename": "AssertionError",
     "evalue": "",
     "output_type": "error",
     "traceback": [
      "\u001b[0;31m---------------------------------------------------------------------------\u001b[0m",
      "\u001b[0;31mAssertionError\u001b[0m                            Traceback (most recent call last)",
      "\u001b[0;32m<ipython-input-87-76b609e87b34>\u001b[0m in \u001b[0;36m<module>\u001b[0;34m()\u001b[0m\n\u001b[1;32m     12\u001b[0m \u001b[0mΦ_w_L1_errors\u001b[0m \u001b[0;34m=\u001b[0m \u001b[0;34m[\u001b[0m\u001b[0;34m]\u001b[0m\u001b[0;34m\u001b[0m\u001b[0m\n\u001b[1;32m     13\u001b[0m \u001b[0;32mfor\u001b[0m \u001b[0mn\u001b[0m \u001b[0;32min\u001b[0m \u001b[0mn_list\u001b[0m\u001b[0;34m:\u001b[0m\u001b[0;34m\u001b[0m\u001b[0m\n\u001b[0;32m---> 14\u001b[0;31m     \u001b[0mA\u001b[0m\u001b[0;34m,\u001b[0m \u001b[0mΨ\u001b[0m\u001b[0;34m,\u001b[0m \u001b[0mmodel\u001b[0m \u001b[0;34m=\u001b[0m \u001b[0mexperiment\u001b[0m\u001b[0;34m(\u001b[0m\u001b[0mint\u001b[0m\u001b[0;34m(\u001b[0m\u001b[0mn\u001b[0m\u001b[0;34m)\u001b[0m\u001b[0;34m,\u001b[0m \u001b[0mn_dims\u001b[0m\u001b[0;34m,\u001b[0m \u001b[0mn_classes\u001b[0m\u001b[0;34m)\u001b[0m\u001b[0;34m\u001b[0m\u001b[0m\n\u001b[0m\u001b[1;32m     15\u001b[0m \u001b[0;34m\u001b[0m\u001b[0m\n\u001b[1;32m     16\u001b[0m     \u001b[0mΦ_w\u001b[0m \u001b[0;34m=\u001b[0m \u001b[0mnp\u001b[0m\u001b[0;34m.\u001b[0m\u001b[0mmatmul\u001b[0m\u001b[0;34m(\u001b[0m\u001b[0mA\u001b[0m\u001b[0;34m,\u001b[0m \u001b[0mA\u001b[0m\u001b[0;34m.\u001b[0m\u001b[0mT\u001b[0m\u001b[0;34m)\u001b[0m\u001b[0;34m\u001b[0m\u001b[0m\n",
      "\u001b[0;32m<ipython-input-86-99269d6a3b02>\u001b[0m in \u001b[0;36mexperiment\u001b[0;34m(n, n_dims, n_classes)\u001b[0m\n\u001b[1;32m    117\u001b[0m     \u001b[0;31m#laled_X = label(X, Y)\u001b[0m\u001b[0;34m\u001b[0m\u001b[0;34m\u001b[0m\u001b[0m\n\u001b[1;32m    118\u001b[0m \u001b[0;34m\u001b[0m\u001b[0m\n\u001b[0;32m--> 119\u001b[0;31m     \u001b[0mmodel\u001b[0m \u001b[0;34m=\u001b[0m \u001b[0mplda\u001b[0m\u001b[0;34m.\u001b[0m\u001b[0mClassifier\u001b[0m\u001b[0;34m(\u001b[0m\u001b[0mX\u001b[0m\u001b[0;34m,\u001b[0m \u001b[0mnp\u001b[0m\u001b[0;34m.\u001b[0m\u001b[0marray\u001b[0m\u001b[0;34m(\u001b[0m\u001b[0mlabels\u001b[0m\u001b[0;34m)\u001b[0m\u001b[0;34m)\u001b[0m\u001b[0;34m\u001b[0m\u001b[0m\n\u001b[0m\u001b[1;32m    120\u001b[0m     \u001b[0mclassifier\u001b[0m\u001b[0;34m.\u001b[0m\u001b[0mfit_model\u001b[0m\u001b[0;34m(\u001b[0m\u001b[0;34m)\u001b[0m\u001b[0;34m\u001b[0m\u001b[0m\n\u001b[1;32m    121\u001b[0m \u001b[0;34m\u001b[0m\u001b[0m\n",
      "\u001b[0;32m~/Documents/leandro/studies/plda/demos/gaussian_data/../../plda/classifier.py\u001b[0m in \u001b[0;36m__init__\u001b[0;34m(self, X, Y, fnames)\u001b[0m\n\u001b[1;32m     23\u001b[0m     \u001b[0;32mdef\u001b[0m \u001b[0m__init__\u001b[0m\u001b[0;34m(\u001b[0m\u001b[0mself\u001b[0m\u001b[0;34m,\u001b[0m \u001b[0mX\u001b[0m\u001b[0;34m,\u001b[0m \u001b[0mY\u001b[0m\u001b[0;34m,\u001b[0m \u001b[0mfnames\u001b[0m\u001b[0;34m=\u001b[0m\u001b[0;32mNone\u001b[0m\u001b[0;34m)\u001b[0m\u001b[0;34m:\u001b[0m\u001b[0;34m\u001b[0m\u001b[0m\n\u001b[1;32m     24\u001b[0m         \u001b[0;32massert\u001b[0m \u001b[0mlen\u001b[0m\u001b[0;34m(\u001b[0m\u001b[0mX\u001b[0m\u001b[0;34m.\u001b[0m\u001b[0mshape\u001b[0m\u001b[0;34m)\u001b[0m \u001b[0;34m==\u001b[0m \u001b[0;36m2\u001b[0m\u001b[0;34m\u001b[0m\u001b[0m\n\u001b[0;32m---> 25\u001b[0;31m         \u001b[0;32massert\u001b[0m \u001b[0mX\u001b[0m\u001b[0;34m.\u001b[0m\u001b[0mshape\u001b[0m\u001b[0;34m[\u001b[0m\u001b[0;36m0\u001b[0m\u001b[0;34m]\u001b[0m \u001b[0;34m==\u001b[0m \u001b[0mY\u001b[0m\u001b[0;34m.\u001b[0m\u001b[0mshape\u001b[0m\u001b[0;34m[\u001b[0m\u001b[0;36m0\u001b[0m\u001b[0;34m]\u001b[0m\u001b[0;34m\u001b[0m\u001b[0m\n\u001b[0m\u001b[1;32m     26\u001b[0m         \u001b[0;32mif\u001b[0m \u001b[0mfnames\u001b[0m \u001b[0;32mis\u001b[0m \u001b[0;32mnot\u001b[0m \u001b[0;32mNone\u001b[0m\u001b[0;34m:\u001b[0m\u001b[0;34m\u001b[0m\u001b[0m\n\u001b[1;32m     27\u001b[0m             \u001b[0;32massert\u001b[0m \u001b[0mX\u001b[0m\u001b[0;34m.\u001b[0m\u001b[0mshape\u001b[0m\u001b[0;34m[\u001b[0m\u001b[0;36m0\u001b[0m\u001b[0;34m]\u001b[0m \u001b[0;34m==\u001b[0m \u001b[0mfnames\u001b[0m\u001b[0;34m.\u001b[0m\u001b[0mshape\u001b[0m\u001b[0;34m[\u001b[0m\u001b[0;36m0\u001b[0m\u001b[0;34m]\u001b[0m\u001b[0;34m\u001b[0m\u001b[0m\n",
      "\u001b[0;31mAssertionError\u001b[0m: "
     ]
    }
   ],
   "source": [
    "n_experiments = int(np.log10(1000000) / 2)\n",
    "n_experiments\n",
    "\n",
    "n_list = [100 ** x for x in range(1, n_experiments + 1)]\n",
    "n_list = np.array(n_list).astype(float)\n",
    "\n",
    "n_list\n",
    "\n",
    "n_dims \n",
    "n_classes = 30 #self.n_classes\n",
    "\n",
    "Φ_w_L1_errors = []\n",
    "for n in n_list:\n",
    "    A, Ψ, model = experiment(int(n), n_dims, n_classes)\n",
    "\n",
    "    Φ_w = np.matmul(A, A.T)\n",
    "    Φ_w_model = np.matmul(model.A, model.A.T)\n",
    "\n",
    "    L1_error = np.abs(Φ_w - Φ_w_model).mean()\n",
    "    abs_μ = (np.abs(Φ_w).mean() + np.abs(Φ_w_model).mean()) * .5\n",
    "    percent_error = L1_error / abs_μ * 100\n",
    "    \n",
    "    print('Testing Φ_w with {} samples: {} percent error'.format(n,\n",
    "          percent_error))\n",
    "    \n",
    "    Φ_w_L1_errors.append(percent_error)\n",
    "\n",
    "Y = Φ_w_L1_errors\n",
    "X = [x for x in range(len(Φ_w_L1_errors))]\n",
    "slope_of_error_vs_N = linregress(X, Y)[0]"
   ]
  },
  {
   "cell_type": "code",
   "execution_count": null,
   "metadata": {},
   "outputs": [],
   "source": []
  }
 ],
 "metadata": {
  "kernelspec": {
   "display_name": "Python 3",
   "language": "python",
   "name": "python3"
  },
  "language_info": {
   "codemirror_mode": {
    "name": "ipython",
    "version": 3
   },
   "file_extension": ".py",
   "mimetype": "text/x-python",
   "name": "python",
   "nbconvert_exporter": "python",
   "pygments_lexer": "ipython3",
   "version": "3.6.4"
  }
 },
 "nbformat": 4,
 "nbformat_minor": 2
}
