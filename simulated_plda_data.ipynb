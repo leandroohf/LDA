{
 "cells": [
  {
   "cell_type": "markdown",
   "metadata": {},
   "source": [
    "# Simulated data\n",
    "\n",
    "* bidimensional\n",
    "* 3 classes\n"
   ]
  },
  {
   "cell_type": "code",
   "execution_count": 1,
   "metadata": {},
   "outputs": [],
   "source": [
    "import numpy as np\n",
    "import pandas as pd\n",
    "import random as rand\n",
    "import matplotlib.pyplot as plt\n",
    "\n",
    "np.set_printoptions(precision=4)\n",
    "\n",
    "from IPython.core.interactiveshell import InteractiveShell\n",
    "InteractiveShell.ast_node_interactivity = \"all\"\n",
    "\n",
    "%matplotlib inline"
   ]
  },
  {
   "cell_type": "code",
   "execution_count": 2,
   "metadata": {},
   "outputs": [],
   "source": [
    "from matplotlib.patches import Ellipse\n",
    "\n",
    "def draw_ellipse(position, covariance, ax=None, **kwargs):\n",
    "    \"\"\"Draw an ellipse with a given position and covariance\"\"\"\n",
    "    ax = ax or plt.gca()\n",
    "    \n",
    "    # Convert covariance to principal axes\n",
    "    if covariance.shape == (2, 2):\n",
    "        U, s, Vt = np.linalg.svd(covariance)\n",
    "        angle = np.degrees(np.arctan2(U[1, 0], U[0, 0]))\n",
    "        width, height = 2 * np.sqrt(s)\n",
    "    else:\n",
    "        angle = 0\n",
    "        width, height = 2 * np.sqrt(covariance)\n",
    "    \n",
    "    # Draw the Ellipse\n",
    "    for nsig in range(1, 4):\n",
    "        ax.add_patch(Ellipse(position, nsig * width, nsig * height,\n",
    "                             angle, **kwargs))\n",
    "\n",
    "def plot_gmm(gmm, X, label=[], ax=None):\n",
    "    ax = ax or plt.gca()\n",
    "    \n",
    "    if len(label) > 0:\n",
    "        labels = label\n",
    "        ax.scatter(X[:, 0], X[:, 1], c=labels, s=40, cmap='viridis', zorder=2)\n",
    "    else:\n",
    "        ax.scatter(X[:, 0], X[:, 1], s=40, zorder=2)\n",
    "    ax.axis('equal')\n",
    "    \n",
    "    ws = [value for g in gmm for (param, value) in g.items() if param == 'w']\n",
    "    w_factor = 0.2 /np.max(ws)\n",
    "    for param in gmm:\n",
    "        pos = param['mu']\n",
    "        covar = param['Covar']\n",
    "        w = param['w']\n",
    "\n",
    "        draw_ellipse(pos, covar, alpha=w * w_factor)"
   ]
  },
  {
   "cell_type": "markdown",
   "metadata": {},
   "source": [
    "## PLDA: probabilistics LDA\n",
    "\n",
    "\n",
    "Assumptions:\n",
    "\n",
    "1. All class have the same covariance matrix $\\Phi_w$\n",
    "2. $\\Phi_w$ is positive defined (check that)\n",
    "4. Each class have the same number of samples\n"
   ]
  },
  {
   "cell_type": "code",
   "execution_count": 3,
   "metadata": {},
   "outputs": [
    {
     "data": {
      "text/html": [
       "<div>\n",
       "<style scoped>\n",
       "    .dataframe tbody tr th:only-of-type {\n",
       "        vertical-align: middle;\n",
       "    }\n",
       "\n",
       "    .dataframe tbody tr th {\n",
       "        vertical-align: top;\n",
       "    }\n",
       "\n",
       "    .dataframe thead th {\n",
       "        text-align: right;\n",
       "    }\n",
       "</style>\n",
       "<table border=\"1\" class=\"dataframe\">\n",
       "  <thead>\n",
       "    <tr style=\"text-align: right;\">\n",
       "      <th></th>\n",
       "      <th>label</th>\n",
       "      <th>x</th>\n",
       "      <th>y</th>\n",
       "    </tr>\n",
       "  </thead>\n",
       "  <tbody>\n",
       "    <tr>\n",
       "      <th>13</th>\n",
       "      <td>1</td>\n",
       "      <td>1.370655</td>\n",
       "      <td>4.921692</td>\n",
       "    </tr>\n",
       "    <tr>\n",
       "      <th>18</th>\n",
       "      <td>1</td>\n",
       "      <td>-0.617846</td>\n",
       "      <td>3.332983</td>\n",
       "    </tr>\n",
       "    <tr>\n",
       "      <th>39</th>\n",
       "      <td>1</td>\n",
       "      <td>-1.442189</td>\n",
       "      <td>2.510991</td>\n",
       "    </tr>\n",
       "    <tr>\n",
       "      <th>297</th>\n",
       "      <td>3</td>\n",
       "      <td>10.105598</td>\n",
       "      <td>3.819283</td>\n",
       "    </tr>\n",
       "    <tr>\n",
       "      <th>223</th>\n",
       "      <td>3</td>\n",
       "      <td>9.128072</td>\n",
       "      <td>4.384586</td>\n",
       "    </tr>\n",
       "  </tbody>\n",
       "</table>\n",
       "</div>"
      ],
      "text/plain": [
       "     label          x         y\n",
       "13       1   1.370655  4.921692\n",
       "18       1  -0.617846  3.332983\n",
       "39       1  -1.442189  2.510991\n",
       "297      3  10.105598  3.819283\n",
       "223      3   9.128072  4.384586"
      ]
     },
     "execution_count": 3,
     "metadata": {},
     "output_type": "execute_result"
    }
   ],
   "source": [
    "### Setup\n",
    "# set random seed\n",
    "rand.seed(2018)\n",
    "\n",
    "# 2 clusters\n",
    "# not that both covariance matrices are diagonal\n",
    "mu1 = [0.0, 3.5]\n",
    "mu2 = [5.0, 0.0]\n",
    "mu3 = [10.0, 4.5]\n",
    "\n",
    "Sigma = [ [1.0, 0.5], [ 0.5, 1.0] ]\n",
    "\n",
    "# generate samples\n",
    "ns = 100\n",
    "\n",
    "x1, y1 = np.random.multivariate_normal(mu1, Sigma, ns).T\n",
    "x2, y2 = np.random.multivariate_normal(mu2, Sigma, ns).T\n",
    "x3, y3 = np.random.multivariate_normal(mu3, Sigma, ns).T\n",
    "\n",
    "xs = np.concatenate((x1, x2,x3))\n",
    "ys = np.concatenate((y1, y2, y3))\n",
    "\n",
    "labels = ([1] * ns) + ([2] * ns) + ([3] * ns)\n",
    "\n",
    "data = {'x': xs, 'y': ys, 'label': labels}\n",
    "df = pd.DataFrame(data=data)\n",
    "\n",
    "# inspect the data\n",
    "df.sample(5).head(5)"
   ]
  },
  {
   "cell_type": "code",
   "execution_count": 4,
   "metadata": {},
   "outputs": [
    {
     "data": {
      "text/plain": [
       "<matplotlib.collections.PathCollection at 0x116107c18>"
      ]
     },
     "execution_count": 4,
     "metadata": {},
     "output_type": "execute_result"
    },
    {
     "data": {
      "text/plain": [
       "Text(4.2,4.2,'new point')"
      ]
     },
     "execution_count": 4,
     "metadata": {},
     "output_type": "execute_result"
    },
    {
     "data": {
      "text/plain": [
       "Text(0.5,0,'x1')"
      ]
     },
     "execution_count": 4,
     "metadata": {},
     "output_type": "execute_result"
    },
    {
     "data": {
      "text/plain": [
       "Text(0,0.5,'x2')"
      ]
     },
     "execution_count": 4,
     "metadata": {},
     "output_type": "execute_result"
    },
    {
     "data": {
      "image/png": "[encoded data removed]",
      "text/plain": [
       "<matplotlib.figure.Figure at 0x1081d4940>"
      ]
     },
     "metadata": {},
     "output_type": "display_data"
    }
   ],
   "source": [
    "labels = df.label\n",
    "X = df[['x','y']].values\n",
    "\n",
    "initial_guess = [{ 'mu': np.asarray(mu1),\n",
    "          'Covar': np.asarray(Sigma),\n",
    "          'w': 0.33 },  \n",
    "          {'mu': np.asarray(mu2),\n",
    "          'Covar': np.asarray(Sigma),\n",
    "          'w': 0.33},\n",
    "        {'mu': np.asarray(mu3),\n",
    "          'Covar': np.asarray(Sigma),\n",
    "          'w': 0.33}      \n",
    "                ]\n",
    "\n",
    "ax = plt.gca()\n",
    "plot_gmm(initial_guess, X, label=labels, ax=ax)\n",
    "\n",
    "x_new = np.array([4.0,4.0])\n",
    "\n",
    "ax.scatter(x_new[0], x_new[1], s=40, cmap='viridis', zorder=2)\n",
    "ax.text( x_new[0]*1.05,x_new[1]*1.05, 'new point')\n",
    "plt.xlabel('x1')\n",
    "plt.ylabel('x2')"
   ]
  },
  {
   "cell_type": "code",
   "execution_count": null,
   "metadata": {},
   "outputs": [],
   "source": []
  }
 ],
 "metadata": {
  "kernelspec": {
   "display_name": "Python [default]",
   "language": "python",
   "name": "python3"
  },
  "language_info": {
   "codemirror_mode": {
    "name": "ipython",
    "version": 3
   },
   "file_extension": ".py",
   "mimetype": "text/x-python",
   "name": "python",
   "nbconvert_exporter": "python",
   "pygments_lexer": "ipython3",
   "version": "3.6.5"
  }
 },
 "nbformat": 4,
 "nbformat_minor": 2
}
