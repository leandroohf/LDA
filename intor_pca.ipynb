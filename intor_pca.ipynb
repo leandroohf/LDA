{
 "cells": [
  {
   "cell_type": "markdown",
   "metadata": {},
   "source": [
    "# Intro to PCA\n",
    "\n",
    "Principal component analysis (PCA) and singular value decomposition (SVD) are commonly used dimensionality reduction approaches in exploratory data analysis (EDA) and Machine Learning.\n",
    "\n",
    "PCA aims to find linearly uncorrelated orthogonal axes, which are also known as principal components (PCs) in the dimensional space to project the data points onto those PCs. The first PC captures the largest variance in the data. \n",
    "\n",
    "The gif below explains that. The  2 original axes have a high correlation. We will apply rotations in this axis and find a new set of the axis where this correlation vanishes. \n",
    "\n",
    "<img src=\"images/1_XGaA7KWUlhWZLIezYEBIHA.gif\"  width=\"800\" height=\"800\">\n",
    "\n",
    "Comparison with Fouries recnstruction of the signal\n",
    "\n",
    "\n",
    "| item                                                         | Fourier reconstruction of signal | PCA reconstructions         |\n",
    "|------------------------------------------------------------- | -------------------------------- | ----------------------------|\n",
    "| building blocks                                              | sines n cosines                  | eigen-vectors               |\n",
    "| properties of the blocks                                     | orthogonal                       | linear uncorrelated         |\n",
    "| coefficient (gives the importance of the eigen-vector/sines) | amplitude (A)                    | eigen-value ( $\\lambda $)  |\n",
    "| variance explained                                           | $\\sum A_k^2 $                   | $\\sum \\lambda_k $       |\n",
    "| applications                                                 | filter/dimension reduction       | filters/dimension reduction |\n",
    "\n",
    "\n",
    "\n",
    "refs:\n",
    "\n",
    "https://towardsdatascience.com/pca-and-svd-explained-with-numpy-5d13b0d2a4d8\n",
    "\n",
    "https://stats.stackexchange.com/questions/2691/making-sense-of-principal-component-analysis-eigenvectors-eigenvalues\n"
   ]
  },
  {
   "cell_type": "markdown",
   "metadata": {
    "heading_collapsed": true
   },
   "source": [
    "## Explanation to layman"
   ]
  },
  {
   "cell_type": "markdown",
   "metadata": {
    "ExecuteTime": {
     "end_time": "2019-05-23T17:13:29.996501Z",
     "start_time": "2019-05-23T17:13:29.986538Z"
    },
    "hidden": true
   },
   "source": [
    "It is a good analogy\n",
    "\n",
    "\n",
    "```txt\n",
    "\n",
    "It's just a method of summarizing some data. \n",
    "\n",
    "We can describe each wine by its colour, by how strong it is, by how old it is, and so on. We can compose a whole list of different characteristics of each wine in our cellar. But many of them will measure related properties and some will be redundant. If so, we should be able to summarize each wine with fewer characteristics as possible! This is what PCA does.\n",
    "\n",
    "So this PCA thing checks what characteristics  (features) are redundant and discards them?\n",
    "\n",
    "PCA is not selecting some characteristics and discarding the others. Instead, it constructs some new characteristics that turn out to summarize our list of wines well. Of course these new characteristics are constructed using the old ones; for example, a new characteristic might be computed as wine age minus wine acidity level or some other combination like that (we call them linear combinations)\n",
    "\n",
    "What do you actually mean when you say that these new PCA characteristics \"summarize\" the list of wines?\n",
    "\n",
    "First answer is that you are looking for some wine properties (characteristics) that strongly differ across wines. Indeed, imagine that you come up with a property that is the same for most of the wines. This would not be very useful, wouldn't it? Wines are very different, but your new property makes them all look the same! This would certainly be a bad summary. Instead, PCA looks for properties that show as much variation across wines as possible.\n",
    "\n",
    "\n",
    "The second answer is that you look for the properties that would allow you to predict, or \"reconstruct\", the original wine characteristics. So PCA looks for properties that allow to reconstruct the original characteristics as well as possible.\n",
    "\n",
    "\n",
    "PCA will find the \"best\" line according to two different criteria of what is the \"best\". First, the variation of values along this line should be maximal. At the same time find the line that minimize the reconstruction error. \n",
    "\n",
    "If you stare at this animation for some time, you will notice that \"the maximum variance\" and \"the minimum error\" are reached at the same time, \n",
    "\n",
    "```"
   ]
  },
  {
   "cell_type": "markdown",
   "metadata": {
    "heading_collapsed": true
   },
   "source": [
    "## Steps overview\n"
   ]
  },
  {
   "cell_type": "markdown",
   "metadata": {
    "hidden": true
   },
   "source": [
    "1. Compute the covariance matrix\n",
    "2. Compute the eigen-vectors and eigen-values of the covariance matrix \n",
    "\n",
    "\n",
    "\\begin{equation*}\n",
    "C = \\frac{XX^{T}}{(n-1)}\n",
    "\\end{equation*}\n",
    "\n",
    "Ex: of covariance matrix\n",
    "\n",
    "\\begin{equation*}\n",
    "\\begin{bmatrix}\n",
    "    1.07     &  0.63  \\\\\n",
    "    0.63    & 0.64\n",
    "\\end{bmatrix}\n",
    "\\end{equation*}\n",
    "\n",
    "What this means is that the variance of the x variable is 1.07, the variance of the y variable is 0.64, and the covariance between them is 0.63.\n",
    "\n",
    "After all, the geometrical meaning of eigen decomposition is to find a new coordinate system of the eigenvectors for C through rotations.\n",
    "\n",
    "\n",
    "\\begin{equation*}\n",
    "C = U \\Lambda U^{-1}\n",
    "\\end{equation*}\n",
    "\n",
    "Where $\\Lambda$ is a diagonal matrix and its elements are the eigen-values $\\lambda_i$ and U is a matrix where its columns are the eigen-vetors $u_i$. The eigen-vetctors are orthonormal basis of the covariance matrix. The eigen-vectors are called the principal components and **the eigenvalues are the variances in the new independent coordinate frame** (If you compute the covariance matrix od the data in the new set of axis defined by the eigen-vectors you will find the eigen-values )\n",
    "\n",
    "\n",
    "We can then use matrix multiplication to project the data onto the PC space. For the purpose of dimensionality reduction, we can project the data points onto the first k PCs (eigen-vectors was sorted by their eigen-values) as the representation of the data:\n",
    "\n",
    "\\begin{equation*}\n",
    "X'_{nxk} = [X_{nxd}]_k U_{kxk}\n",
    "\\end{equation*}\n",
    "\n",
    "where $k < d$ and $[X_{nxd}]_k$ mean youonly considered the k dimensions. An alternative should make all the others eigen-values zero and then the eigen-vectors matrix W is dxd\n"
   ]
  },
  {
   "cell_type": "markdown",
   "metadata": {
    "heading_collapsed": true
   },
   "source": [
    "## Implementaion"
   ]
  },
  {
   "cell_type": "code",
   "execution_count": 13,
   "metadata": {
    "ExecuteTime": {
     "end_time": "2019-05-23T17:25:42.187721Z",
     "start_time": "2019-05-23T17:25:42.177783Z"
    },
    "hidden": true
   },
   "outputs": [],
   "source": [
    "import numpy as np\n",
    "import matplotlib.pyplot as plt\n",
    "\n",
    "import matplotlib\n",
    "import matplotlib.pyplot as plt\n",
    "%matplotlib inline \n",
    "\n",
    "import IPython\n",
    "from IPython.core.interactiveshell import InteractiveShell\n",
    "InteractiveShell.ast_node_interactivity = \"all\"\n",
    "\n",
    "# diplsay image side by side\n",
    "from IPython.display import HTML, display\n",
    "\n",
    "\n",
    "_figsize=[8,6]"
   ]
  },
  {
   "cell_type": "code",
   "execution_count": 5,
   "metadata": {
    "ExecuteTime": {
     "end_time": "2019-05-23T17:19:21.655686Z",
     "start_time": "2019-05-23T17:19:21.650791Z"
    },
    "hidden": true
   },
   "outputs": [],
   "source": [
    "def pca(X):\n",
    "\n",
    "    # Data matrix X, assumes 0-centered\n",
    "    n, m = X.shape\n",
    "    assert np.allclose(X.mean(axis=0), np.zeros(m))\n",
    "    \n",
    "    # Compute covariance matrix\n",
    "    C = np.dot(X.T, X) / (n-1)\n",
    "    \n",
    "    # Eigen decomposition\n",
    "    # \\lambdas     U\n",
    "    eigen_vals, eigen_vecs = np.linalg.eig(C)\n",
    "\n",
    "    # Project X onto PC space\n",
    "    X_pca = np.dot(X, eigen_vecs)\n",
    "\n",
    "    return X_pca, eigen_vals, eigen_vecs\n"
   ]
  },
  {
   "cell_type": "markdown",
   "metadata": {
    "heading_collapsed": true
   },
   "source": [
    "## Creating fake data"
   ]
  },
  {
   "cell_type": "code",
   "execution_count": 7,
   "metadata": {
    "ExecuteTime": {
     "end_time": "2019-05-23T17:20:16.268994Z",
     "start_time": "2019-05-23T17:20:16.084299Z"
    },
    "hidden": true
   },
   "outputs": [
    {
     "data": {
      "text/plain": [
       "(50, 2)"
      ]
     },
     "execution_count": 7,
     "metadata": {},
     "output_type": "execute_result"
    },
    {
     "name": "stdout",
     "output_type": "stream",
     "text": [
      "Show the data\n"
     ]
    },
    {
     "data": {
      "text/plain": [
       "<matplotlib.collections.PathCollection at 0x7f69e8968048>"
      ]
     },
     "execution_count": 7,
     "metadata": {},
     "output_type": "execute_result"
    },
    {
     "data": {
      "image/png": "[encoded data removed]",
      "text/plain": [
       "<Figure size 432x288 with 1 Axes>"
      ]
     },
     "metadata": {},
     "output_type": "display_data"
    }
   ],
   "source": [
    "n = 50\n",
    "x = np.linspace(0.0, 1.0, num=n)\n",
    "y = 1.2*x + np.random.normal(0.0,0.2,50)\n",
    "\n",
    "x = x - np.mean(x)\n",
    "y = y - np.mean(y)\n",
    "\n",
    "X = np.array([x,y]).T\n",
    "#X = X - X.mean(axis=0)\n",
    "X.shape\n",
    "\n",
    "print('Show the data')\n",
    "plt.scatter(x,y)\n",
    "plt.xlim=(-0.5,0.5)\n",
    "plt.ylim=(-1.0,1.0)"
   ]
  },
  {
   "cell_type": "markdown",
   "metadata": {
    "hidden": true
   },
   "source": [
    "* **Undertanding/checking the covariance matrix**"
   ]
  },
  {
   "cell_type": "code",
   "execution_count": 8,
   "metadata": {
    "ExecuteTime": {
     "end_time": "2019-05-23T17:20:20.344636Z",
     "start_time": "2019-05-23T17:20:20.325483Z"
    },
    "hidden": true
   },
   "outputs": [
    {
     "data": {
      "text/plain": [
       "array([[0.08850479, 0.09678979],\n",
       "       [0.09678979, 0.14679519]])"
      ]
     },
     "execution_count": 8,
     "metadata": {},
     "output_type": "execute_result"
    },
    {
     "name": "stdout",
     "output_type": "stream",
     "text": [
      "Uderstand the covariance matrix\n",
      "The diagonals should be the varince in each axis\n"
     ]
    },
    {
     "data": {
      "text/plain": [
       "0.08850478967097042"
      ]
     },
     "execution_count": 8,
     "metadata": {},
     "output_type": "execute_result"
    },
    {
     "data": {
      "text/plain": [
       "0.1467951874241493"
      ]
     },
     "execution_count": 8,
     "metadata": {},
     "output_type": "execute_result"
    }
   ],
   "source": [
    "# Compute covariance matrix\n",
    "C = np.dot(X.T, X) / (n-1)\n",
    "C\n",
    "C0 = C\n",
    "\n",
    "print('Uderstand the covariance matrix')\n",
    "print('The diagonals should be the varince in each axis')\n",
    "np.var(X[:,0],ddof=1)\n",
    "np.var(X[:,1],ddof=1)\n"
   ]
  },
  {
   "cell_type": "markdown",
   "metadata": {
    "heading_collapsed": true
   },
   "source": [
    "## Compute PCA "
   ]
  },
  {
   "cell_type": "code",
   "execution_count": 9,
   "metadata": {
    "ExecuteTime": {
     "end_time": "2019-05-23T17:21:12.469745Z",
     "start_time": "2019-05-23T17:21:12.465577Z"
    },
    "hidden": true
   },
   "outputs": [],
   "source": [
    "X_pca, eigen_vals, eigen_vecs = pca(X)\n",
    "\n",
    "plt.scatter(X_pca[:,0],X_pca[:,1])\n",
    "plt.xlim =(-0.5,0.5)\n",
    "plt.ylim=(-1.0,1.0)"
   ]
  },
  {
   "cell_type": "markdown",
   "metadata": {
    "hidden": true
   },
   "source": [
    "* **Checking pca properties**\n",
    "\n",
    "1. Comparing convaricance matyrix after and before\n",
    "2. Checks eigen values are the variance of the new covariance matrix (diagonal)\n",
    "3. Show the total variance is constant"
   ]
  },
  {
   "cell_type": "code",
   "execution_count": 10,
   "metadata": {
    "ExecuteTime": {
     "end_time": "2019-05-23T17:23:33.077446Z",
     "start_time": "2019-05-23T17:23:33.040120Z"
    },
    "hidden": true
   },
   "outputs": [
    {
     "name": "stdout",
     "output_type": "stream",
     "text": [
      "eigen vectors\n"
     ]
    },
    {
     "data": {
      "text/plain": [
       "array([[-0.802599  , -0.59651894],\n",
       "       [ 0.59651894, -0.802599  ]])"
      ]
     },
     "execution_count": 10,
     "metadata": {},
     "output_type": "execute_result"
    },
    {
     "name": "stdout",
     "output_type": "stream",
     "text": [
      "Comparing covariance matrix before and after pca\n",
      "[[0.08850479 0.09678979]\n",
      " [0.09678979 0.14679519]]\n",
      "\n",
      "[[ 1.65673153e-02 -5.66440319e-18]\n",
      " [-5.66440319e-18  2.18732662e-01]]\n",
      "\n",
      "comparing the eigen values with the variances\n",
      "The eigen valus are in the diagonal of the new cov matrix\n",
      "the eigen values are the variance in the new axis\n",
      "[0.01656732 0.21873266]\n"
     ]
    },
    {
     "data": {
      "text/plain": [
       "0.016567315323514475"
      ]
     },
     "execution_count": 10,
     "metadata": {},
     "output_type": "execute_result"
    },
    {
     "data": {
      "text/plain": [
       "0.21873266177160527"
      ]
     },
     "execution_count": 10,
     "metadata": {},
     "output_type": "execute_result"
    },
    {
     "name": "stdout",
     "output_type": "stream",
     "text": [
      "\n",
      "The variance explained\n"
     ]
    },
    {
     "data": {
      "text/plain": [
       "0.2352999770951197"
      ]
     },
     "execution_count": 10,
     "metadata": {},
     "output_type": "execute_result"
    },
    {
     "data": {
      "text/plain": [
       "0.2352999770951197"
      ]
     },
     "execution_count": 10,
     "metadata": {},
     "output_type": "execute_result"
    },
    {
     "data": {
      "text/plain": [
       "0.23529997709511974"
      ]
     },
     "execution_count": 10,
     "metadata": {},
     "output_type": "execute_result"
    },
    {
     "name": "stdout",
     "output_type": "stream",
     "text": [
      "The product of eigen values are the determinant of the covariance matrix\n"
     ]
    },
    {
     "data": {
      "text/plain": [
       "0.003623812979121826"
      ]
     },
     "execution_count": 10,
     "metadata": {},
     "output_type": "execute_result"
    },
    {
     "data": {
      "text/plain": [
       "0.0036238129791218193"
      ]
     },
     "execution_count": 10,
     "metadata": {},
     "output_type": "execute_result"
    },
    {
     "data": {
      "text/plain": [
       "0.003623812979121822"
      ]
     },
     "execution_count": 10,
     "metadata": {},
     "output_type": "execute_result"
    }
   ],
   "source": [
    "# Compute covariance matrix\n",
    "C = np.dot(X_pca.T, X_pca) / (n-1)\n",
    "\n",
    "print('eigen vectors')\n",
    "eigen_vecs\n",
    "\n",
    "print('Comparing covariance matrix before and after pca')\n",
    "print(C0)\n",
    "print()\n",
    "print(C)\n",
    "\n",
    "print()\n",
    "print('comparing the eigen values with the variances')\n",
    "print('The eigen valus are in the diagonal of the new cov matrix')\n",
    "print('the eigen values are the variance in the new axis')\n",
    "print(eigen_vals)\n",
    "\n",
    "# The eigen values should be equal to the variances below\n",
    "# ddof = 1 tels to divide by N-1 instead of N\n",
    "np.var(X_pca[:,0],ddof=1)\n",
    "np.var(X_pca[:,1],ddof=1) \n",
    "\n",
    "print()\n",
    "print('The variance explained')\n",
    "np.sum(eigen_vals)\n",
    "np.sum(np.trace(C0))\n",
    "np.sum(np.trace(C))\n",
    "\n",
    "print('The product of eigen values are the determinant of the covariance matrix')\n",
    "np.linalg.det(C)\n",
    "np.linalg.det(C0)\n",
    "np.prod(eigen_vals)"
   ]
  },
  {
   "cell_type": "markdown",
   "metadata": {
    "heading_collapsed": true
   },
   "source": [
    "## The difference between OLS (Least square) n PCA (**very important**)\n",
    "\n",
    "Very nice discussion\n",
    "\n",
    "**Least square minimize the distance in the y n x direction**\n",
    "\n",
    "* left y ~ x \n",
    "* right x ~ y"
   ]
  },
  {
   "cell_type": "code",
   "execution_count": 14,
   "metadata": {
    "ExecuteTime": {
     "end_time": "2019-05-23T17:25:46.343115Z",
     "start_time": "2019-05-23T17:25:46.335642Z"
    },
    "hidden": true
   },
   "outputs": [
    {
     "data": {
      "text/html": [
       "<table><tr><td><img src='images/ozqBY.png'></td><td><img src='images/pHbub.png'></td></tr></table>"
      ],
      "text/plain": [
       "<IPython.core.display.HTML object>"
      ]
     },
     "metadata": {},
     "output_type": "display_data"
    }
   ],
   "source": [
    "display(HTML(\"<table><tr><td><img src='images/ozqBY.png'></td><td><img src='images/pHbub.png'></td></tr></table>\"))"
   ]
  },
  {
   "cell_type": "markdown",
   "metadata": {
    "hidden": true
   },
   "source": [
    "**While PCA minize the distance orthogonal to the line**\n",
    "\n",
    "<img src=\"images/bOl5N.png\"  width=\"300\" height=\"300\">\n"
   ]
  },
  {
   "cell_type": "code",
   "execution_count": 15,
   "metadata": {
    "ExecuteTime": {
     "end_time": "2019-05-23T17:26:50.214201Z",
     "start_time": "2019-05-23T17:26:50.050096Z"
    },
    "hidden": true
   },
   "outputs": [
    {
     "name": "stdout",
     "output_type": "stream",
     "text": [
      "1.0936108010370118 -1.9626155733547183e-17\n"
     ]
    },
    {
     "data": {
      "text/plain": [
       "<matplotlib.collections.PathCollection at 0x7f69e889eba8>"
      ]
     },
     "execution_count": 15,
     "metadata": {},
     "output_type": "execute_result"
    },
    {
     "data": {
      "text/plain": [
       "[<matplotlib.lines.Line2D at 0x7f69e88eafd0>]"
      ]
     },
     "execution_count": 15,
     "metadata": {},
     "output_type": "execute_result"
    },
    {
     "data": {
      "text/plain": [
       "[<matplotlib.lines.Line2D at 0x7f69e889ee80>]"
      ]
     },
     "execution_count": 15,
     "metadata": {},
     "output_type": "execute_result"
    },
    {
     "data": {
      "text/plain": [
       "<matplotlib.legend.Legend at 0x7f69e88ab1d0>"
      ]
     },
     "execution_count": 15,
     "metadata": {},
     "output_type": "execute_result"
    },
    {
     "data": {
      "image/png": "[encoded data removed]",
      "text/plain": [
       "<Figure size 432x288 with 1 Axes>"
      ]
     },
     "metadata": {},
     "output_type": "display_data"
    }
   ],
   "source": [
    "# Solving OLS with numpy y = m x+ c + e\n",
    "A = np.vstack([x, np.ones(len(x))]).T\n",
    "m, c = np.linalg.lstsq(A, y, rcond=None)[0]\n",
    "print(m, c)\n",
    "x0 = 1.0\n",
    "x_ols = [-x0, x0]\n",
    "y_ols = [-m*x0 + c, m*x0 + c]\n",
    "\n",
    "\n",
    "u1 = eigen_vecs.T[0]\n",
    "u2 = eigen_vecs.T[1]\n",
    "\n",
    "x1 = np.array([-u2[0],u2[0]])*1.5\n",
    "y1 = np.array([-u2[1],u2[1]])*1.5\n",
    "\n",
    "plt.scatter(x,y)\n",
    "plt.plot(x1,y1,c='r',label='eigen vectors')\n",
    "plt.plot(x_ols,y_ols,c='k',label='ols')\n",
    "plt.xlim=(-0.5,0.5)\n",
    "plt.ylim=(-1.0,1.0)\n",
    "plt.legend()"
   ]
  },
  {
   "cell_type": "markdown",
   "metadata": {
    "hidden": true
   },
   "source": [
    "### Comparison with SVD"
   ]
  },
  {
   "cell_type": "markdown",
   "metadata": {
    "hidden": true
   },
   "source": [
    "\n",
    "PCA and SVD are closely related approaches and can be both applied to decompose any rectangular matrices. \n",
    "\n",
    "Most implementations of PCA actually use performs SVD under the hood rather than doing eigen decomposition on the covariance matrix because SVD can be much more efficient and is able to handle sparse matrices. In addition, there are reduced forms of SVD which are even more economic to compute.\n",
    "\n",
    "\n",
    "We can look into their relationship by performing SVD on the covariance matrix C\n",
    "\n",
    "\n",
    "Decompose X using SVD\n",
    "\\begin{equation*}\n",
    "X = V \\Sigma U^T \\\\\n",
    "C = \\frac{U \\Sigma V^T V \\Sigma  U^T}{n-1} \\\\\n",
    "C = U \\frac{\\Sigma^2}{n-1} U^T \\\\\n",
    "C = U \\frac{\\Sigma^2}{n-1} U^{-1}\n",
    "\\end{equation*}\n",
    "\n",
    "Because the eigenvector matrix U is unitary \n",
    "\n",
    "comparing with \n",
    "\n",
    "\\begin{equation*}\n",
    "C = U \\Lambda U^{-1}\n",
    "\\end{equation*}\n",
    "\n",
    "We have\n",
    "\n",
    "\\begin{equation*}\n",
    "\\Lambda = \\frac{\\Sigma^2}{n-1}\n",
    "\\end{equation*}\n"
   ]
  },
  {
   "cell_type": "code",
   "execution_count": 17,
   "metadata": {
    "ExecuteTime": {
     "end_time": "2019-05-23T17:30:04.167215Z",
     "start_time": "2019-05-23T17:30:04.162836Z"
    },
    "hidden": true
   },
   "outputs": [],
   "source": [
    "# Compute covariance matrix\n",
    "C = np.dot(X.T, X) / (n-1)\n",
    "\n",
    "# Eigen decomposition\n",
    "eigen_vals, eigen_vecs = np.linalg.eig(C)\n",
    "\n",
    "# SVD\n",
    "V, Sigma, Uh = np.linalg.svd(X, \n",
    "    full_matrices=False, \n",
    "    compute_uv=True)\n"
   ]
  },
  {
   "cell_type": "markdown",
   "metadata": {
    "hidden": true
   },
   "source": [
    "* **cheking SVD n PCA relationship**\n",
    "\n",
    "\n",
    "\n",
    "* $ U^{-1} = U^T$\n",
    "\n",
    "* $\\Sigma$ and $\\Lambda$\n",
    "\n",
    "\\begin{equation*}\n",
    "\\Lambda = \\frac{\\Sigma^2}{n-1}\n",
    "\\end{equation*}"
   ]
  },
  {
   "cell_type": "code",
   "execution_count": 18,
   "metadata": {
    "ExecuteTime": {
     "end_time": "2019-05-23T17:30:05.327281Z",
     "start_time": "2019-05-23T17:30:05.314711Z"
    },
    "hidden": true
   },
   "outputs": [
    {
     "name": "stdout",
     "output_type": "stream",
     "text": [
      "Checking U*U^T = I\n"
     ]
    },
    {
     "data": {
      "text/plain": [
       "array([[1., 0.],\n",
       "       [0., 1.]])"
      ]
     },
     "execution_count": 18,
     "metadata": {},
     "output_type": "execute_result"
    },
    {
     "data": {
      "text/plain": [
       "array([[1., 0.],\n",
       "       [0., 1.]])"
      ]
     },
     "execution_count": 18,
     "metadata": {},
     "output_type": "execute_result"
    },
    {
     "name": "stdout",
     "output_type": "stream",
     "text": [
      "\n",
      "Sigma matrix\n",
      "[3.27382046 0.90099859]\n",
      "\n",
      "Comparing Sigma matrix with Lambda matrix\n",
      "[0.01656732 0.21873266]\n",
      "[0.21873266 0.01656732]\n"
     ]
    }
   ],
   "source": [
    "print('Checking U*U^T = I')\n",
    "np.matmul(Uh,Uh.T)\n",
    "U0 = eigen_vecs\n",
    "np.matmul(U0,U0.T)\n",
    "\n",
    "print()\n",
    "print('Sigma matrix')\n",
    "print(Sigma)\n",
    "\n",
    "\n",
    "print()\n",
    "print('Comparing Sigma matrix with Lambda matrix')\n",
    "# Relationship between singular values and eigen values:\n",
    "print(eigen_vals)\n",
    "print(np.square(Sigma) / (n - 1))\n"
   ]
  },
  {
   "cell_type": "markdown",
   "metadata": {
    "heading_collapsed": true
   },
   "source": [
    "## Discussion why minimize the reconstruction error and maximize the variance a long the line are equivalents goals\n"
   ]
  },
  {
   "cell_type": "markdown",
   "metadata": {
    "hidden": true
   },
   "source": [
    "\n",
    "These two \"goals\" of PCA sound so different! Why would they be equivalent?\n",
    "\n",
    "PCA objective function:\n",
    "1. First goal: The variation of values along this line should be maximal\n",
    "2. Second goal: the reconstruction error (distnace between blue and red points)\n",
    "\n",
    "See this proof (**Heavy in math**) about what is the connection between maximizing variance and minimizing error?\n",
    "https://stats.stackexchange.com/questions/32174/pca-objective-function-what-is-the-connection-between-maximizing-variance-and-m/136072#136072 "
   ]
  },
  {
   "cell_type": "code",
   "execution_count": null,
   "metadata": {
    "hidden": true
   },
   "outputs": [],
   "source": []
  }
 ],
 "metadata": {
  "kernelspec": {
   "display_name": "Python [conda root]",
   "language": "python",
   "name": "conda-root-py"
  },
  "language_info": {
   "codemirror_mode": {
    "name": "ipython",
    "version": 3
   },
   "file_extension": ".py",
   "mimetype": "text/x-python",
   "name": "python",
   "nbconvert_exporter": "python",
   "pygments_lexer": "ipython3",
   "version": "3.6.5"
  }
 },
 "nbformat": 4,
 "nbformat_minor": 2
}
